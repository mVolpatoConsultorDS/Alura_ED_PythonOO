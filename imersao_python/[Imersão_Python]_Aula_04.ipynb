{
  "cells": [
    {
      "cell_type": "markdown",
      "metadata": {
        "id": "X0uyzmKqzwb8"
      },
      "source": []
    },
    {
      "cell_type": "markdown",
      "metadata": {
        "id": "A2VOwDG0zvOv"
      },
      "source": [
        "### Criando Gráficos de Candlestick com Matplotlib\n",
        "![Candlestick Chart](https://i.imgur.com/84LtMlN.png)\n",
        "\n",
        "\n",
        "![Candlestick](https://www.bussoladoinvestidor.com.br/wp-content/uploads/2019/12/upload_cms_candlestick_Candlestick1.png)\n",
        "\n",
        "Fonte: https://www.bussoladoinvestidor.com.br/grafico-de-candlestick/"
      ]
    },
    {
      "cell_type": "code",
      "execution_count": 3,
      "metadata": {
        "colab": {
          "base_uri": "https://localhost:8080/"
        },
        "id": "rb8qHPGL1yig",
        "outputId": "b7adde2d-0243-4484-80dc-4b66d391a028"
      },
      "outputs": [
        {
          "name": "stdout",
          "output_type": "stream",
          "text": [
            "Requirement already satisfied: mplfinance in /Users/miltonvolpato/Google Drive/Alura/Alura_ED_PythonOO/.venv/lib/python3.12/site-packages (0.12.10b0)\n",
            "Requirement already satisfied: matplotlib in /Users/miltonvolpato/Google Drive/Alura/Alura_ED_PythonOO/.venv/lib/python3.12/site-packages (from mplfinance) (3.8.3)\n",
            "Requirement already satisfied: pandas in /Users/miltonvolpato/Google Drive/Alura/Alura_ED_PythonOO/.venv/lib/python3.12/site-packages (from mplfinance) (2.2.0)\n",
            "Requirement already satisfied: contourpy>=1.0.1 in /Users/miltonvolpato/Google Drive/Alura/Alura_ED_PythonOO/.venv/lib/python3.12/site-packages (from matplotlib->mplfinance) (1.2.0)\n",
            "Requirement already satisfied: cycler>=0.10 in /Users/miltonvolpato/Google Drive/Alura/Alura_ED_PythonOO/.venv/lib/python3.12/site-packages (from matplotlib->mplfinance) (0.12.1)\n",
            "Requirement already satisfied: fonttools>=4.22.0 in /Users/miltonvolpato/Google Drive/Alura/Alura_ED_PythonOO/.venv/lib/python3.12/site-packages (from matplotlib->mplfinance) (4.49.0)\n",
            "Requirement already satisfied: kiwisolver>=1.3.1 in /Users/miltonvolpato/Google Drive/Alura/Alura_ED_PythonOO/.venv/lib/python3.12/site-packages (from matplotlib->mplfinance) (1.4.5)\n",
            "Requirement already satisfied: numpy<2,>=1.21 in /Users/miltonvolpato/Google Drive/Alura/Alura_ED_PythonOO/.venv/lib/python3.12/site-packages (from matplotlib->mplfinance) (1.26.4)\n",
            "Requirement already satisfied: packaging>=20.0 in /Users/miltonvolpato/Google Drive/Alura/Alura_ED_PythonOO/.venv/lib/python3.12/site-packages (from matplotlib->mplfinance) (23.2)\n",
            "Requirement already satisfied: pillow>=8 in /Users/miltonvolpato/Google Drive/Alura/Alura_ED_PythonOO/.venv/lib/python3.12/site-packages (from matplotlib->mplfinance) (10.2.0)\n",
            "Requirement already satisfied: pyparsing>=2.3.1 in /Users/miltonvolpato/Google Drive/Alura/Alura_ED_PythonOO/.venv/lib/python3.12/site-packages (from matplotlib->mplfinance) (3.1.1)\n",
            "Requirement already satisfied: python-dateutil>=2.7 in /Users/miltonvolpato/Google Drive/Alura/Alura_ED_PythonOO/.venv/lib/python3.12/site-packages (from matplotlib->mplfinance) (2.8.2)\n",
            "Requirement already satisfied: pytz>=2020.1 in /Users/miltonvolpato/Google Drive/Alura/Alura_ED_PythonOO/.venv/lib/python3.12/site-packages (from pandas->mplfinance) (2024.1)\n",
            "Requirement already satisfied: tzdata>=2022.7 in /Users/miltonvolpato/Google Drive/Alura/Alura_ED_PythonOO/.venv/lib/python3.12/site-packages (from pandas->mplfinance) (2024.1)\n",
            "Requirement already satisfied: six>=1.5 in /Users/miltonvolpato/Google Drive/Alura/Alura_ED_PythonOO/.venv/lib/python3.12/site-packages (from python-dateutil>=2.7->matplotlib->mplfinance) (1.16.0)\n",
            "Collecting yfinance\n",
            "  Downloading yfinance-0.2.37-py2.py3-none-any.whl.metadata (11 kB)\n",
            "Requirement already satisfied: pandas>=1.3.0 in /Users/miltonvolpato/Google Drive/Alura/Alura_ED_PythonOO/.venv/lib/python3.12/site-packages (from yfinance) (2.2.0)\n",
            "Requirement already satisfied: numpy>=1.16.5 in /Users/miltonvolpato/Google Drive/Alura/Alura_ED_PythonOO/.venv/lib/python3.12/site-packages (from yfinance) (1.26.4)\n",
            "Requirement already satisfied: requests>=2.31 in /Users/miltonvolpato/Google Drive/Alura/Alura_ED_PythonOO/.venv/lib/python3.12/site-packages (from yfinance) (2.31.0)\n",
            "Collecting multitasking>=0.0.7 (from yfinance)\n",
            "  Downloading multitasking-0.0.11-py3-none-any.whl.metadata (5.5 kB)\n",
            "Requirement already satisfied: lxml>=4.9.1 in /Users/miltonvolpato/Google Drive/Alura/Alura_ED_PythonOO/.venv/lib/python3.12/site-packages (from yfinance) (5.1.0)\n",
            "Collecting appdirs>=1.4.4 (from yfinance)\n",
            "  Downloading appdirs-1.4.4-py2.py3-none-any.whl.metadata (9.0 kB)\n",
            "Requirement already satisfied: pytz>=2022.5 in /Users/miltonvolpato/Google Drive/Alura/Alura_ED_PythonOO/.venv/lib/python3.12/site-packages (from yfinance) (2024.1)\n",
            "Collecting frozendict>=2.3.4 (from yfinance)\n",
            "  Downloading frozendict-2.4.0.tar.gz (314 kB)\n",
            "\u001b[2K     \u001b[90m━━━━━━━━━━━━━━━━━━━━━━━━━━━━━━━━━━━━━━━\u001b[0m \u001b[32m314.6/314.6 kB\u001b[0m \u001b[31m2.1 MB/s\u001b[0m eta \u001b[36m0:00:00\u001b[0m00:01\u001b[0m00:01\u001b[0m\n",
            "\u001b[?25h  Installing build dependencies ... \u001b[?25ldone\n",
            "\u001b[?25h  Getting requirements to build wheel ... \u001b[?25ldone\n",
            "\u001b[?25h  Installing backend dependencies ... \u001b[?25ldone\n",
            "\u001b[?25h  Preparing metadata (pyproject.toml) ... \u001b[?25ldone\n",
            "\u001b[?25hCollecting peewee>=3.16.2 (from yfinance)\n",
            "  Downloading peewee-3.17.1.tar.gz (3.0 MB)\n",
            "\u001b[2K     \u001b[90m━━━━━━━━━━━━━━━━━━━━━━━━━━━━━━━━━━━━━━━━\u001b[0m \u001b[32m3.0/3.0 MB\u001b[0m \u001b[31m4.9 MB/s\u001b[0m eta \u001b[36m0:00:00\u001b[0m00:01\u001b[0m00:01\u001b[0mm\n",
            "\u001b[?25h  Installing build dependencies ... \u001b[?25ldone\n",
            "\u001b[?25h  Getting requirements to build wheel ... \u001b[?25ldone\n",
            "\u001b[?25h  Preparing metadata (pyproject.toml) ... \u001b[?25ldone\n",
            "\u001b[?25hRequirement already satisfied: beautifulsoup4>=4.11.1 in /Users/miltonvolpato/Google Drive/Alura/Alura_ED_PythonOO/.venv/lib/python3.12/site-packages (from yfinance) (4.12.3)\n",
            "Collecting html5lib>=1.1 (from yfinance)\n",
            "  Downloading html5lib-1.1-py2.py3-none-any.whl.metadata (16 kB)\n",
            "Requirement already satisfied: soupsieve>1.2 in /Users/miltonvolpato/Google Drive/Alura/Alura_ED_PythonOO/.venv/lib/python3.12/site-packages (from beautifulsoup4>=4.11.1->yfinance) (2.5)\n",
            "Requirement already satisfied: six>=1.9 in /Users/miltonvolpato/Google Drive/Alura/Alura_ED_PythonOO/.venv/lib/python3.12/site-packages (from html5lib>=1.1->yfinance) (1.16.0)\n",
            "Collecting webencodings (from html5lib>=1.1->yfinance)\n",
            "  Downloading webencodings-0.5.1-py2.py3-none-any.whl.metadata (2.1 kB)\n",
            "Requirement already satisfied: python-dateutil>=2.8.2 in /Users/miltonvolpato/Google Drive/Alura/Alura_ED_PythonOO/.venv/lib/python3.12/site-packages (from pandas>=1.3.0->yfinance) (2.8.2)\n",
            "Requirement already satisfied: tzdata>=2022.7 in /Users/miltonvolpato/Google Drive/Alura/Alura_ED_PythonOO/.venv/lib/python3.12/site-packages (from pandas>=1.3.0->yfinance) (2024.1)\n",
            "Requirement already satisfied: charset-normalizer<4,>=2 in /Users/miltonvolpato/Google Drive/Alura/Alura_ED_PythonOO/.venv/lib/python3.12/site-packages (from requests>=2.31->yfinance) (3.3.2)\n",
            "Requirement already satisfied: idna<4,>=2.5 in /Users/miltonvolpato/Google Drive/Alura/Alura_ED_PythonOO/.venv/lib/python3.12/site-packages (from requests>=2.31->yfinance) (3.6)\n",
            "Requirement already satisfied: urllib3<3,>=1.21.1 in /Users/miltonvolpato/Google Drive/Alura/Alura_ED_PythonOO/.venv/lib/python3.12/site-packages (from requests>=2.31->yfinance) (2.2.1)\n",
            "Requirement already satisfied: certifi>=2017.4.17 in /Users/miltonvolpato/Google Drive/Alura/Alura_ED_PythonOO/.venv/lib/python3.12/site-packages (from requests>=2.31->yfinance) (2024.2.2)\n",
            "Downloading yfinance-0.2.37-py2.py3-none-any.whl (72 kB)\n",
            "\u001b[2K   \u001b[90m━━━━━━━━━━━━━━━━━━━━━━━━━━━━━━━━━━━━━━━━\u001b[0m \u001b[32m73.0/73.0 kB\u001b[0m \u001b[31m2.0 MB/s\u001b[0m eta \u001b[36m0:00:00\u001b[0m\n",
            "\u001b[?25hDownloading appdirs-1.4.4-py2.py3-none-any.whl (9.6 kB)\n",
            "Downloading html5lib-1.1-py2.py3-none-any.whl (112 kB)\n",
            "\u001b[2K   \u001b[90m━━━━━━━━━━━━━━━━━━━━━━━━━━━━━━━━━━━━━━━━\u001b[0m \u001b[32m112.2/112.2 kB\u001b[0m \u001b[31m2.3 MB/s\u001b[0m eta \u001b[36m0:00:00\u001b[0mta \u001b[36m0:00:01\u001b[0m\n",
            "\u001b[?25hDownloading multitasking-0.0.11-py3-none-any.whl (8.5 kB)\n",
            "Using cached webencodings-0.5.1-py2.py3-none-any.whl (11 kB)\n",
            "Building wheels for collected packages: frozendict, peewee\n",
            "  Building wheel for frozendict (pyproject.toml) ... \u001b[?25ldone\n",
            "\u001b[?25h  Created wheel for frozendict: filename=frozendict-2.4.0-py3-none-any.whl size=15426 sha256=393131d7729d47953a695ba4bf2e9f44c310596201d08c0dd83076767adaa717\n",
            "  Stored in directory: /Users/miltonvolpato/Library/Caches/pip/wheels/f8/24/61/a7327cee6da6ddddd619cddf13acfb4ec63606c69bbfe31486\n",
            "  Building wheel for peewee (pyproject.toml) ... \u001b[?25ldone\n",
            "\u001b[?25h  Created wheel for peewee: filename=peewee-3.17.1-py3-none-any.whl size=136905 sha256=51879cfb2763a152fff36fa50d2d3f02b86623f9e68ba4e6a5f1291b73f3fd3f\n",
            "  Stored in directory: /Users/miltonvolpato/Library/Caches/pip/wheels/fe/58/f4/132ded03aa364dd5d2bbc2d02e1c2074a9b5012776d15fc2dc\n",
            "Successfully built frozendict peewee\n",
            "Installing collected packages: webencodings, peewee, multitasking, appdirs, html5lib, frozendict, yfinance\n",
            "Successfully installed appdirs-1.4.4 frozendict-2.4.0 html5lib-1.1 multitasking-0.0.11 peewee-3.17.1 webencodings-0.5.1 yfinance-0.2.37\n"
          ]
        }
      ],
      "source": [
        "!pip install mplfinance\n",
        "!pip install yfinance"
      ]
    },
    {
      "cell_type": "code",
      "execution_count": 4,
      "metadata": {
        "id": "G1O5tWgu010s"
      },
      "outputs": [],
      "source": [
        "import pandas as pd\n",
        "import matplotlib.pyplot as plt\n",
        "import matplotlib.dates as mdates\n",
        "import mplfinance as mpf\n",
        "import yfinance as yf\n",
        "import plotly.graph_objects as go\n",
        "from plotly.subplots import make_subplots"
      ]
    },
    {
      "cell_type": "code",
      "execution_count": 5,
      "metadata": {
        "colab": {
          "base_uri": "https://localhost:8080/",
          "height": 472
        },
        "id": "9XevOBk71GJO",
        "outputId": "b04d00bb-78ef-4eff-e6b2-f2314cfdc081"
      },
      "outputs": [
        {
          "name": "stderr",
          "output_type": "stream",
          "text": [
            "[*********************100%%**********************]  1 of 1 completed\n"
          ]
        },
        {
          "data": {
            "text/html": [
              "<div>\n",
              "<style scoped>\n",
              "    .dataframe tbody tr th:only-of-type {\n",
              "        vertical-align: middle;\n",
              "    }\n",
              "\n",
              "    .dataframe tbody tr th {\n",
              "        vertical-align: top;\n",
              "    }\n",
              "\n",
              "    .dataframe thead th {\n",
              "        text-align: right;\n",
              "    }\n",
              "</style>\n",
              "<table border=\"1\" class=\"dataframe\">\n",
              "  <thead>\n",
              "    <tr style=\"text-align: right;\">\n",
              "      <th></th>\n",
              "      <th>Open</th>\n",
              "      <th>High</th>\n",
              "      <th>Low</th>\n",
              "      <th>Close</th>\n",
              "      <th>Adj Close</th>\n",
              "      <th>Volume</th>\n",
              "    </tr>\n",
              "    <tr>\n",
              "      <th>Date</th>\n",
              "      <th></th>\n",
              "      <th></th>\n",
              "      <th></th>\n",
              "      <th></th>\n",
              "      <th></th>\n",
              "      <th></th>\n",
              "    </tr>\n",
              "  </thead>\n",
              "  <tbody>\n",
              "    <tr>\n",
              "      <th>2023-01-02</th>\n",
              "      <td>23.540001</td>\n",
              "      <td>23.809999</td>\n",
              "      <td>22.799999</td>\n",
              "      <td>22.920000</td>\n",
              "      <td>17.709478</td>\n",
              "      <td>78424700</td>\n",
              "    </tr>\n",
              "    <tr>\n",
              "      <th>2023-01-03</th>\n",
              "      <td>22.940001</td>\n",
              "      <td>23.100000</td>\n",
              "      <td>22.129999</td>\n",
              "      <td>22.340000</td>\n",
              "      <td>17.261333</td>\n",
              "      <td>96750300</td>\n",
              "    </tr>\n",
              "    <tr>\n",
              "      <th>2023-01-04</th>\n",
              "      <td>21.959999</td>\n",
              "      <td>23.590000</td>\n",
              "      <td>21.830000</td>\n",
              "      <td>23.049999</td>\n",
              "      <td>17.809923</td>\n",
              "      <td>129504000</td>\n",
              "    </tr>\n",
              "    <tr>\n",
              "      <th>2023-01-05</th>\n",
              "      <td>23.340000</td>\n",
              "      <td>24.040001</td>\n",
              "      <td>23.150000</td>\n",
              "      <td>23.879999</td>\n",
              "      <td>18.451235</td>\n",
              "      <td>73886000</td>\n",
              "    </tr>\n",
              "    <tr>\n",
              "      <th>2023-01-06</th>\n",
              "      <td>23.940001</td>\n",
              "      <td>24.320000</td>\n",
              "      <td>23.549999</td>\n",
              "      <td>23.740000</td>\n",
              "      <td>18.343061</td>\n",
              "      <td>51851500</td>\n",
              "    </tr>\n",
              "    <tr>\n",
              "      <th>...</th>\n",
              "      <td>...</td>\n",
              "      <td>...</td>\n",
              "      <td>...</td>\n",
              "      <td>...</td>\n",
              "      <td>...</td>\n",
              "      <td>...</td>\n",
              "    </tr>\n",
              "    <tr>\n",
              "      <th>2023-12-21</th>\n",
              "      <td>36.669998</td>\n",
              "      <td>36.680000</td>\n",
              "      <td>36.070000</td>\n",
              "      <td>36.389999</td>\n",
              "      <td>36.389999</td>\n",
              "      <td>30511900</td>\n",
              "    </tr>\n",
              "    <tr>\n",
              "      <th>2023-12-22</th>\n",
              "      <td>36.500000</td>\n",
              "      <td>36.799999</td>\n",
              "      <td>36.369999</td>\n",
              "      <td>36.740002</td>\n",
              "      <td>36.740002</td>\n",
              "      <td>31234700</td>\n",
              "    </tr>\n",
              "    <tr>\n",
              "      <th>2023-12-26</th>\n",
              "      <td>36.860001</td>\n",
              "      <td>37.369999</td>\n",
              "      <td>36.830002</td>\n",
              "      <td>37.330002</td>\n",
              "      <td>37.330002</td>\n",
              "      <td>23466800</td>\n",
              "    </tr>\n",
              "    <tr>\n",
              "      <th>2023-12-27</th>\n",
              "      <td>37.320000</td>\n",
              "      <td>37.430000</td>\n",
              "      <td>37.130001</td>\n",
              "      <td>37.360001</td>\n",
              "      <td>37.360001</td>\n",
              "      <td>19588500</td>\n",
              "    </tr>\n",
              "    <tr>\n",
              "      <th>2023-12-28</th>\n",
              "      <td>37.230000</td>\n",
              "      <td>37.360001</td>\n",
              "      <td>37.040001</td>\n",
              "      <td>37.240002</td>\n",
              "      <td>37.240002</td>\n",
              "      <td>21421900</td>\n",
              "    </tr>\n",
              "  </tbody>\n",
              "</table>\n",
              "<p>248 rows × 6 columns</p>\n",
              "</div>"
            ],
            "text/plain": [
              "                 Open       High        Low      Close  Adj Close     Volume\n",
              "Date                                                                        \n",
              "2023-01-02  23.540001  23.809999  22.799999  22.920000  17.709478   78424700\n",
              "2023-01-03  22.940001  23.100000  22.129999  22.340000  17.261333   96750300\n",
              "2023-01-04  21.959999  23.590000  21.830000  23.049999  17.809923  129504000\n",
              "2023-01-05  23.340000  24.040001  23.150000  23.879999  18.451235   73886000\n",
              "2023-01-06  23.940001  24.320000  23.549999  23.740000  18.343061   51851500\n",
              "...               ...        ...        ...        ...        ...        ...\n",
              "2023-12-21  36.669998  36.680000  36.070000  36.389999  36.389999   30511900\n",
              "2023-12-22  36.500000  36.799999  36.369999  36.740002  36.740002   31234700\n",
              "2023-12-26  36.860001  37.369999  36.830002  37.330002  37.330002   23466800\n",
              "2023-12-27  37.320000  37.430000  37.130001  37.360001  37.360001   19588500\n",
              "2023-12-28  37.230000  37.360001  37.040001  37.240002  37.240002   21421900\n",
              "\n",
              "[248 rows x 6 columns]"
            ]
          },
          "execution_count": 5,
          "metadata": {},
          "output_type": "execute_result"
        }
      ],
      "source": [
        "dados = yf.download('PETR4.SA', start='2023-01-01', end='2023-12-31')\n",
        "dados"
      ]
    },
    {
      "cell_type": "code",
      "execution_count": 6,
      "metadata": {
        "id": "iR7AZvna3bEk"
      },
      "outputs": [],
      "source": [
        "dados.columns = ['Abertura', 'Maximo', 'Minimo', 'Fechamento', 'Fech_Ajust', 'Volume']"
      ]
    },
    {
      "cell_type": "code",
      "execution_count": 7,
      "metadata": {
        "colab": {
          "base_uri": "https://localhost:8080/",
          "height": 455
        },
        "id": "6U4IiyRu3iTL",
        "outputId": "a9ed925c-af56-4a42-b3fd-d3bbf3acf6b5"
      },
      "outputs": [
        {
          "data": {
            "text/html": [
              "<div>\n",
              "<style scoped>\n",
              "    .dataframe tbody tr th:only-of-type {\n",
              "        vertical-align: middle;\n",
              "    }\n",
              "\n",
              "    .dataframe tbody tr th {\n",
              "        vertical-align: top;\n",
              "    }\n",
              "\n",
              "    .dataframe thead th {\n",
              "        text-align: right;\n",
              "    }\n",
              "</style>\n",
              "<table border=\"1\" class=\"dataframe\">\n",
              "  <thead>\n",
              "    <tr style=\"text-align: right;\">\n",
              "      <th></th>\n",
              "      <th>Abertura</th>\n",
              "      <th>Maximo</th>\n",
              "      <th>Minimo</th>\n",
              "      <th>Fechamento</th>\n",
              "      <th>Fech_Ajust</th>\n",
              "      <th>Volume</th>\n",
              "    </tr>\n",
              "    <tr>\n",
              "      <th>Data</th>\n",
              "      <th></th>\n",
              "      <th></th>\n",
              "      <th></th>\n",
              "      <th></th>\n",
              "      <th></th>\n",
              "      <th></th>\n",
              "    </tr>\n",
              "  </thead>\n",
              "  <tbody>\n",
              "    <tr>\n",
              "      <th>2023-01-02</th>\n",
              "      <td>23.540001</td>\n",
              "      <td>23.809999</td>\n",
              "      <td>22.799999</td>\n",
              "      <td>22.920000</td>\n",
              "      <td>17.709478</td>\n",
              "      <td>78424700</td>\n",
              "    </tr>\n",
              "    <tr>\n",
              "      <th>2023-01-03</th>\n",
              "      <td>22.940001</td>\n",
              "      <td>23.100000</td>\n",
              "      <td>22.129999</td>\n",
              "      <td>22.340000</td>\n",
              "      <td>17.261333</td>\n",
              "      <td>96750300</td>\n",
              "    </tr>\n",
              "    <tr>\n",
              "      <th>2023-01-04</th>\n",
              "      <td>21.959999</td>\n",
              "      <td>23.590000</td>\n",
              "      <td>21.830000</td>\n",
              "      <td>23.049999</td>\n",
              "      <td>17.809923</td>\n",
              "      <td>129504000</td>\n",
              "    </tr>\n",
              "    <tr>\n",
              "      <th>2023-01-05</th>\n",
              "      <td>23.340000</td>\n",
              "      <td>24.040001</td>\n",
              "      <td>23.150000</td>\n",
              "      <td>23.879999</td>\n",
              "      <td>18.451235</td>\n",
              "      <td>73886000</td>\n",
              "    </tr>\n",
              "    <tr>\n",
              "      <th>2023-01-06</th>\n",
              "      <td>23.940001</td>\n",
              "      <td>24.320000</td>\n",
              "      <td>23.549999</td>\n",
              "      <td>23.740000</td>\n",
              "      <td>18.343061</td>\n",
              "      <td>51851500</td>\n",
              "    </tr>\n",
              "    <tr>\n",
              "      <th>...</th>\n",
              "      <td>...</td>\n",
              "      <td>...</td>\n",
              "      <td>...</td>\n",
              "      <td>...</td>\n",
              "      <td>...</td>\n",
              "      <td>...</td>\n",
              "    </tr>\n",
              "    <tr>\n",
              "      <th>2023-12-21</th>\n",
              "      <td>36.669998</td>\n",
              "      <td>36.680000</td>\n",
              "      <td>36.070000</td>\n",
              "      <td>36.389999</td>\n",
              "      <td>36.389999</td>\n",
              "      <td>30511900</td>\n",
              "    </tr>\n",
              "    <tr>\n",
              "      <th>2023-12-22</th>\n",
              "      <td>36.500000</td>\n",
              "      <td>36.799999</td>\n",
              "      <td>36.369999</td>\n",
              "      <td>36.740002</td>\n",
              "      <td>36.740002</td>\n",
              "      <td>31234700</td>\n",
              "    </tr>\n",
              "    <tr>\n",
              "      <th>2023-12-26</th>\n",
              "      <td>36.860001</td>\n",
              "      <td>37.369999</td>\n",
              "      <td>36.830002</td>\n",
              "      <td>37.330002</td>\n",
              "      <td>37.330002</td>\n",
              "      <td>23466800</td>\n",
              "    </tr>\n",
              "    <tr>\n",
              "      <th>2023-12-27</th>\n",
              "      <td>37.320000</td>\n",
              "      <td>37.430000</td>\n",
              "      <td>37.130001</td>\n",
              "      <td>37.360001</td>\n",
              "      <td>37.360001</td>\n",
              "      <td>19588500</td>\n",
              "    </tr>\n",
              "    <tr>\n",
              "      <th>2023-12-28</th>\n",
              "      <td>37.230000</td>\n",
              "      <td>37.360001</td>\n",
              "      <td>37.040001</td>\n",
              "      <td>37.240002</td>\n",
              "      <td>37.240002</td>\n",
              "      <td>21421900</td>\n",
              "    </tr>\n",
              "  </tbody>\n",
              "</table>\n",
              "<p>248 rows × 6 columns</p>\n",
              "</div>"
            ],
            "text/plain": [
              "             Abertura     Maximo     Minimo  Fechamento  Fech_Ajust     Volume\n",
              "Data                                                                          \n",
              "2023-01-02  23.540001  23.809999  22.799999   22.920000   17.709478   78424700\n",
              "2023-01-03  22.940001  23.100000  22.129999   22.340000   17.261333   96750300\n",
              "2023-01-04  21.959999  23.590000  21.830000   23.049999   17.809923  129504000\n",
              "2023-01-05  23.340000  24.040001  23.150000   23.879999   18.451235   73886000\n",
              "2023-01-06  23.940001  24.320000  23.549999   23.740000   18.343061   51851500\n",
              "...               ...        ...        ...         ...         ...        ...\n",
              "2023-12-21  36.669998  36.680000  36.070000   36.389999   36.389999   30511900\n",
              "2023-12-22  36.500000  36.799999  36.369999   36.740002   36.740002   31234700\n",
              "2023-12-26  36.860001  37.369999  36.830002   37.330002   37.330002   23466800\n",
              "2023-12-27  37.320000  37.430000  37.130001   37.360001   37.360001   19588500\n",
              "2023-12-28  37.230000  37.360001  37.040001   37.240002   37.240002   21421900\n",
              "\n",
              "[248 rows x 6 columns]"
            ]
          },
          "execution_count": 7,
          "metadata": {},
          "output_type": "execute_result"
        }
      ],
      "source": [
        "dados = dados.rename_axis('Data')\n",
        "dados"
      ]
    },
    {
      "cell_type": "code",
      "execution_count": 8,
      "metadata": {
        "colab": {
          "base_uri": "https://localhost:8080/",
          "height": 556
        },
        "id": "VhbxoVNE4W-h",
        "outputId": "263160a3-3ef7-42c9-da88-2c0c0391f83d"
      },
      "outputs": [
        {
          "data": {
            "text/plain": [
              "<matplotlib.legend.Legend at 0x10fe006e0>"
            ]
          },
          "execution_count": 8,
          "metadata": {},
          "output_type": "execute_result"
        },
        {
          "data": {
            "image/png": "[encoded data removed]",
            "text/plain": [
              "<Figure size 1000x600 with 1 Axes>"
            ]
          },
          "metadata": {},
          "output_type": "display_data"
        }
      ],
      "source": [
        "dados['Fechamento'].plot(figsize=(10,6))\n",
        "plt.title('Variação do preço por data', fontsize=16)\n",
        "plt.legend(['Fechamento'])"
      ]
    },
    {
      "cell_type": "code",
      "execution_count": 9,
      "metadata": {
        "colab": {
          "base_uri": "https://localhost:8080/",
          "height": 1000
        },
        "id": "qAQaRhpDEAwa",
        "outputId": "8d26c324-0c1b-4d75-f9ff-67b9052e7064"
      },
      "outputs": [
        {
          "data": {
            "text/html": [
              "<div>\n",
              "<style scoped>\n",
              "    .dataframe tbody tr th:only-of-type {\n",
              "        vertical-align: middle;\n",
              "    }\n",
              "\n",
              "    .dataframe tbody tr th {\n",
              "        vertical-align: top;\n",
              "    }\n",
              "\n",
              "    .dataframe thead th {\n",
              "        text-align: right;\n",
              "    }\n",
              "</style>\n",
              "<table border=\"1\" class=\"dataframe\">\n",
              "  <thead>\n",
              "    <tr style=\"text-align: right;\">\n",
              "      <th></th>\n",
              "      <th>Abertura</th>\n",
              "      <th>Maximo</th>\n",
              "      <th>Minimo</th>\n",
              "      <th>Fechamento</th>\n",
              "      <th>Fech_Ajust</th>\n",
              "      <th>Volume</th>\n",
              "      <th>Data</th>\n",
              "    </tr>\n",
              "    <tr>\n",
              "      <th>Data</th>\n",
              "      <th></th>\n",
              "      <th></th>\n",
              "      <th></th>\n",
              "      <th></th>\n",
              "      <th></th>\n",
              "      <th></th>\n",
              "      <th></th>\n",
              "    </tr>\n",
              "  </thead>\n",
              "  <tbody>\n",
              "    <tr>\n",
              "      <th>2023-01-02</th>\n",
              "      <td>23.540001</td>\n",
              "      <td>23.809999</td>\n",
              "      <td>22.799999</td>\n",
              "      <td>22.920000</td>\n",
              "      <td>17.709478</td>\n",
              "      <td>78424700</td>\n",
              "      <td>19359.0</td>\n",
              "    </tr>\n",
              "    <tr>\n",
              "      <th>2023-01-03</th>\n",
              "      <td>22.940001</td>\n",
              "      <td>23.100000</td>\n",
              "      <td>22.129999</td>\n",
              "      <td>22.340000</td>\n",
              "      <td>17.261333</td>\n",
              "      <td>96750300</td>\n",
              "      <td>19360.0</td>\n",
              "    </tr>\n",
              "    <tr>\n",
              "      <th>2023-01-04</th>\n",
              "      <td>21.959999</td>\n",
              "      <td>23.590000</td>\n",
              "      <td>21.830000</td>\n",
              "      <td>23.049999</td>\n",
              "      <td>17.809923</td>\n",
              "      <td>129504000</td>\n",
              "      <td>19361.0</td>\n",
              "    </tr>\n",
              "    <tr>\n",
              "      <th>2023-01-05</th>\n",
              "      <td>23.340000</td>\n",
              "      <td>24.040001</td>\n",
              "      <td>23.150000</td>\n",
              "      <td>23.879999</td>\n",
              "      <td>18.451235</td>\n",
              "      <td>73886000</td>\n",
              "      <td>19362.0</td>\n",
              "    </tr>\n",
              "    <tr>\n",
              "      <th>2023-01-06</th>\n",
              "      <td>23.940001</td>\n",
              "      <td>24.320000</td>\n",
              "      <td>23.549999</td>\n",
              "      <td>23.740000</td>\n",
              "      <td>18.343061</td>\n",
              "      <td>51851500</td>\n",
              "      <td>19363.0</td>\n",
              "    </tr>\n",
              "    <tr>\n",
              "      <th>2023-01-09</th>\n",
              "      <td>23.500000</td>\n",
              "      <td>24.000000</td>\n",
              "      <td>23.250000</td>\n",
              "      <td>23.870001</td>\n",
              "      <td>18.443508</td>\n",
              "      <td>46385200</td>\n",
              "      <td>19366.0</td>\n",
              "    </tr>\n",
              "    <tr>\n",
              "      <th>2023-01-10</th>\n",
              "      <td>23.950001</td>\n",
              "      <td>24.110001</td>\n",
              "      <td>23.370001</td>\n",
              "      <td>24.090000</td>\n",
              "      <td>18.613497</td>\n",
              "      <td>52741100</td>\n",
              "      <td>19367.0</td>\n",
              "    </tr>\n",
              "    <tr>\n",
              "      <th>2023-01-11</th>\n",
              "      <td>24.150000</td>\n",
              "      <td>24.620001</td>\n",
              "      <td>24.049999</td>\n",
              "      <td>24.280001</td>\n",
              "      <td>18.760302</td>\n",
              "      <td>53536500</td>\n",
              "      <td>19368.0</td>\n",
              "    </tr>\n",
              "    <tr>\n",
              "      <th>2023-01-12</th>\n",
              "      <td>24.290001</td>\n",
              "      <td>24.650000</td>\n",
              "      <td>24.110001</td>\n",
              "      <td>24.629999</td>\n",
              "      <td>19.030733</td>\n",
              "      <td>58130000</td>\n",
              "      <td>19369.0</td>\n",
              "    </tr>\n",
              "    <tr>\n",
              "      <th>2023-01-13</th>\n",
              "      <td>24.440001</td>\n",
              "      <td>24.660000</td>\n",
              "      <td>24.250000</td>\n",
              "      <td>24.570000</td>\n",
              "      <td>18.984375</td>\n",
              "      <td>40002700</td>\n",
              "      <td>19370.0</td>\n",
              "    </tr>\n",
              "    <tr>\n",
              "      <th>2023-01-16</th>\n",
              "      <td>24.410000</td>\n",
              "      <td>24.500000</td>\n",
              "      <td>23.830000</td>\n",
              "      <td>24.040001</td>\n",
              "      <td>18.574863</td>\n",
              "      <td>31973700</td>\n",
              "      <td>19373.0</td>\n",
              "    </tr>\n",
              "    <tr>\n",
              "      <th>2023-01-17</th>\n",
              "      <td>24.110001</td>\n",
              "      <td>25.620001</td>\n",
              "      <td>24.110001</td>\n",
              "      <td>25.520000</td>\n",
              "      <td>19.718407</td>\n",
              "      <td>91797500</td>\n",
              "      <td>19374.0</td>\n",
              "    </tr>\n",
              "    <tr>\n",
              "      <th>2023-01-18</th>\n",
              "      <td>25.840000</td>\n",
              "      <td>26.030001</td>\n",
              "      <td>25.000000</td>\n",
              "      <td>25.070000</td>\n",
              "      <td>19.370707</td>\n",
              "      <td>69692900</td>\n",
              "      <td>19375.0</td>\n",
              "    </tr>\n",
              "    <tr>\n",
              "      <th>2023-01-19</th>\n",
              "      <td>25.000000</td>\n",
              "      <td>25.950001</td>\n",
              "      <td>24.790001</td>\n",
              "      <td>25.889999</td>\n",
              "      <td>20.004292</td>\n",
              "      <td>75553300</td>\n",
              "      <td>19376.0</td>\n",
              "    </tr>\n",
              "    <tr>\n",
              "      <th>2023-01-20</th>\n",
              "      <td>25.889999</td>\n",
              "      <td>26.600000</td>\n",
              "      <td>25.420000</td>\n",
              "      <td>26.370001</td>\n",
              "      <td>20.375172</td>\n",
              "      <td>114219500</td>\n",
              "      <td>19377.0</td>\n",
              "    </tr>\n",
              "    <tr>\n",
              "      <th>2023-01-23</th>\n",
              "      <td>26.270000</td>\n",
              "      <td>27.600000</td>\n",
              "      <td>26.129999</td>\n",
              "      <td>26.790001</td>\n",
              "      <td>20.699692</td>\n",
              "      <td>87678100</td>\n",
              "      <td>19380.0</td>\n",
              "    </tr>\n",
              "    <tr>\n",
              "      <th>2023-01-24</th>\n",
              "      <td>27.469999</td>\n",
              "      <td>27.530001</td>\n",
              "      <td>26.370001</td>\n",
              "      <td>26.600000</td>\n",
              "      <td>20.552885</td>\n",
              "      <td>65794000</td>\n",
              "      <td>19381.0</td>\n",
              "    </tr>\n",
              "    <tr>\n",
              "      <th>2023-01-25</th>\n",
              "      <td>26.549999</td>\n",
              "      <td>27.080000</td>\n",
              "      <td>26.010000</td>\n",
              "      <td>26.940001</td>\n",
              "      <td>20.815590</td>\n",
              "      <td>51832900</td>\n",
              "      <td>19382.0</td>\n",
              "    </tr>\n",
              "    <tr>\n",
              "      <th>2023-01-26</th>\n",
              "      <td>27.090000</td>\n",
              "      <td>27.200001</td>\n",
              "      <td>25.799999</td>\n",
              "      <td>26.250000</td>\n",
              "      <td>20.282452</td>\n",
              "      <td>73344800</td>\n",
              "      <td>19383.0</td>\n",
              "    </tr>\n",
              "    <tr>\n",
              "      <th>2023-01-27</th>\n",
              "      <td>26.180000</td>\n",
              "      <td>26.230000</td>\n",
              "      <td>25.440001</td>\n",
              "      <td>25.620001</td>\n",
              "      <td>19.795673</td>\n",
              "      <td>47681900</td>\n",
              "      <td>19384.0</td>\n",
              "    </tr>\n",
              "    <tr>\n",
              "      <th>2023-01-30</th>\n",
              "      <td>25.850000</td>\n",
              "      <td>26.070000</td>\n",
              "      <td>25.510000</td>\n",
              "      <td>25.750000</td>\n",
              "      <td>19.896118</td>\n",
              "      <td>40683200</td>\n",
              "      <td>19387.0</td>\n",
              "    </tr>\n",
              "    <tr>\n",
              "      <th>2023-01-31</th>\n",
              "      <td>25.629999</td>\n",
              "      <td>26.209999</td>\n",
              "      <td>25.520000</td>\n",
              "      <td>26.070000</td>\n",
              "      <td>20.143373</td>\n",
              "      <td>54048900</td>\n",
              "      <td>19388.0</td>\n",
              "    </tr>\n",
              "    <tr>\n",
              "      <th>2023-02-01</th>\n",
              "      <td>26.070000</td>\n",
              "      <td>26.480000</td>\n",
              "      <td>25.450001</td>\n",
              "      <td>25.709999</td>\n",
              "      <td>19.865213</td>\n",
              "      <td>56349200</td>\n",
              "      <td>19389.0</td>\n",
              "    </tr>\n",
              "    <tr>\n",
              "      <th>2023-02-02</th>\n",
              "      <td>25.510000</td>\n",
              "      <td>25.809999</td>\n",
              "      <td>24.420000</td>\n",
              "      <td>24.520000</td>\n",
              "      <td>18.945742</td>\n",
              "      <td>83823000</td>\n",
              "      <td>19390.0</td>\n",
              "    </tr>\n",
              "    <tr>\n",
              "      <th>2023-02-03</th>\n",
              "      <td>24.540001</td>\n",
              "      <td>25.379999</td>\n",
              "      <td>24.420000</td>\n",
              "      <td>24.790001</td>\n",
              "      <td>19.154360</td>\n",
              "      <td>71170700</td>\n",
              "      <td>19391.0</td>\n",
              "    </tr>\n",
              "    <tr>\n",
              "      <th>2023-02-06</th>\n",
              "      <td>24.870001</td>\n",
              "      <td>25.870001</td>\n",
              "      <td>24.750000</td>\n",
              "      <td>25.780001</td>\n",
              "      <td>19.919300</td>\n",
              "      <td>82794500</td>\n",
              "      <td>19394.0</td>\n",
              "    </tr>\n",
              "    <tr>\n",
              "      <th>2023-02-07</th>\n",
              "      <td>25.910000</td>\n",
              "      <td>26.139999</td>\n",
              "      <td>25.459999</td>\n",
              "      <td>25.620001</td>\n",
              "      <td>19.795673</td>\n",
              "      <td>55311800</td>\n",
              "      <td>19395.0</td>\n",
              "    </tr>\n",
              "    <tr>\n",
              "      <th>2023-02-08</th>\n",
              "      <td>25.799999</td>\n",
              "      <td>26.150000</td>\n",
              "      <td>25.559999</td>\n",
              "      <td>26.049999</td>\n",
              "      <td>20.127916</td>\n",
              "      <td>48713100</td>\n",
              "      <td>19396.0</td>\n",
              "    </tr>\n",
              "    <tr>\n",
              "      <th>2023-02-09</th>\n",
              "      <td>26.049999</td>\n",
              "      <td>26.320000</td>\n",
              "      <td>25.790001</td>\n",
              "      <td>25.930000</td>\n",
              "      <td>20.035198</td>\n",
              "      <td>38198300</td>\n",
              "      <td>19397.0</td>\n",
              "    </tr>\n",
              "    <tr>\n",
              "      <th>2023-02-10</th>\n",
              "      <td>25.980000</td>\n",
              "      <td>26.790001</td>\n",
              "      <td>25.930000</td>\n",
              "      <td>26.719999</td>\n",
              "      <td>20.645603</td>\n",
              "      <td>54683100</td>\n",
              "      <td>19398.0</td>\n",
              "    </tr>\n",
              "    <tr>\n",
              "      <th>2023-02-13</th>\n",
              "      <td>26.690001</td>\n",
              "      <td>26.889999</td>\n",
              "      <td>26.370001</td>\n",
              "      <td>26.799999</td>\n",
              "      <td>20.707415</td>\n",
              "      <td>36726900</td>\n",
              "      <td>19401.0</td>\n",
              "    </tr>\n",
              "    <tr>\n",
              "      <th>2023-02-14</th>\n",
              "      <td>26.850000</td>\n",
              "      <td>27.059999</td>\n",
              "      <td>26.600000</td>\n",
              "      <td>26.700001</td>\n",
              "      <td>20.630150</td>\n",
              "      <td>35839000</td>\n",
              "      <td>19402.0</td>\n",
              "    </tr>\n",
              "    <tr>\n",
              "      <th>2023-02-15</th>\n",
              "      <td>26.580000</td>\n",
              "      <td>26.799999</td>\n",
              "      <td>26.299999</td>\n",
              "      <td>26.740000</td>\n",
              "      <td>20.661057</td>\n",
              "      <td>72554100</td>\n",
              "      <td>19403.0</td>\n",
              "    </tr>\n",
              "    <tr>\n",
              "      <th>2023-02-16</th>\n",
              "      <td>26.600000</td>\n",
              "      <td>26.950001</td>\n",
              "      <td>26.490000</td>\n",
              "      <td>26.850000</td>\n",
              "      <td>20.746050</td>\n",
              "      <td>44115700</td>\n",
              "      <td>19404.0</td>\n",
              "    </tr>\n",
              "    <tr>\n",
              "      <th>2023-02-17</th>\n",
              "      <td>26.670000</td>\n",
              "      <td>26.670000</td>\n",
              "      <td>26.370001</td>\n",
              "      <td>26.440001</td>\n",
              "      <td>20.429256</td>\n",
              "      <td>61085700</td>\n",
              "      <td>19405.0</td>\n",
              "    </tr>\n",
              "    <tr>\n",
              "      <th>2023-02-22</th>\n",
              "      <td>26.000000</td>\n",
              "      <td>26.110001</td>\n",
              "      <td>25.690001</td>\n",
              "      <td>25.760000</td>\n",
              "      <td>19.903847</td>\n",
              "      <td>38608500</td>\n",
              "      <td>19410.0</td>\n",
              "    </tr>\n",
              "    <tr>\n",
              "      <th>2023-02-23</th>\n",
              "      <td>25.770000</td>\n",
              "      <td>26.790001</td>\n",
              "      <td>25.770000</td>\n",
              "      <td>26.549999</td>\n",
              "      <td>20.514250</td>\n",
              "      <td>73913400</td>\n",
              "      <td>19411.0</td>\n",
              "    </tr>\n",
              "    <tr>\n",
              "      <th>2023-02-24</th>\n",
              "      <td>26.670000</td>\n",
              "      <td>26.700001</td>\n",
              "      <td>25.870001</td>\n",
              "      <td>25.900000</td>\n",
              "      <td>20.012018</td>\n",
              "      <td>64409100</td>\n",
              "      <td>19412.0</td>\n",
              "    </tr>\n",
              "    <tr>\n",
              "      <th>2023-02-27</th>\n",
              "      <td>25.840000</td>\n",
              "      <td>26.740000</td>\n",
              "      <td>25.809999</td>\n",
              "      <td>26.150000</td>\n",
              "      <td>20.205183</td>\n",
              "      <td>76250600</td>\n",
              "      <td>19415.0</td>\n",
              "    </tr>\n",
              "    <tr>\n",
              "      <th>2023-02-28</th>\n",
              "      <td>26.209999</td>\n",
              "      <td>26.920000</td>\n",
              "      <td>25.240000</td>\n",
              "      <td>25.240000</td>\n",
              "      <td>19.502060</td>\n",
              "      <td>130248100</td>\n",
              "      <td>19416.0</td>\n",
              "    </tr>\n",
              "    <tr>\n",
              "      <th>2023-03-01</th>\n",
              "      <td>25.309999</td>\n",
              "      <td>25.430000</td>\n",
              "      <td>24.190001</td>\n",
              "      <td>25.299999</td>\n",
              "      <td>19.548420</td>\n",
              "      <td>109257700</td>\n",
              "      <td>19417.0</td>\n",
              "    </tr>\n",
              "    <tr>\n",
              "      <th>2023-03-02</th>\n",
              "      <td>25.420000</td>\n",
              "      <td>25.670000</td>\n",
              "      <td>24.370001</td>\n",
              "      <td>24.639999</td>\n",
              "      <td>19.038460</td>\n",
              "      <td>124516200</td>\n",
              "      <td>19418.0</td>\n",
              "    </tr>\n",
              "    <tr>\n",
              "      <th>2023-03-03</th>\n",
              "      <td>24.830000</td>\n",
              "      <td>25.740000</td>\n",
              "      <td>24.450001</td>\n",
              "      <td>25.700001</td>\n",
              "      <td>19.857485</td>\n",
              "      <td>87591800</td>\n",
              "      <td>19419.0</td>\n",
              "    </tr>\n",
              "    <tr>\n",
              "      <th>2023-03-06</th>\n",
              "      <td>25.700001</td>\n",
              "      <td>26.120001</td>\n",
              "      <td>25.370001</td>\n",
              "      <td>25.959999</td>\n",
              "      <td>20.058376</td>\n",
              "      <td>50227400</td>\n",
              "      <td>19422.0</td>\n",
              "    </tr>\n",
              "    <tr>\n",
              "      <th>2023-03-07</th>\n",
              "      <td>25.719999</td>\n",
              "      <td>25.780001</td>\n",
              "      <td>24.930000</td>\n",
              "      <td>25.100000</td>\n",
              "      <td>19.393887</td>\n",
              "      <td>59052500</td>\n",
              "      <td>19423.0</td>\n",
              "    </tr>\n",
              "    <tr>\n",
              "      <th>2023-03-08</th>\n",
              "      <td>25.150000</td>\n",
              "      <td>25.920000</td>\n",
              "      <td>25.129999</td>\n",
              "      <td>25.420000</td>\n",
              "      <td>19.641140</td>\n",
              "      <td>66220400</td>\n",
              "      <td>19424.0</td>\n",
              "    </tr>\n",
              "    <tr>\n",
              "      <th>2023-03-09</th>\n",
              "      <td>25.350000</td>\n",
              "      <td>26.230000</td>\n",
              "      <td>25.280001</td>\n",
              "      <td>25.309999</td>\n",
              "      <td>19.556147</td>\n",
              "      <td>68042300</td>\n",
              "      <td>19425.0</td>\n",
              "    </tr>\n",
              "    <tr>\n",
              "      <th>2023-03-10</th>\n",
              "      <td>25.160000</td>\n",
              "      <td>25.580000</td>\n",
              "      <td>24.940001</td>\n",
              "      <td>24.980000</td>\n",
              "      <td>19.301167</td>\n",
              "      <td>48118600</td>\n",
              "      <td>19426.0</td>\n",
              "    </tr>\n",
              "    <tr>\n",
              "      <th>2023-03-13</th>\n",
              "      <td>24.549999</td>\n",
              "      <td>24.860001</td>\n",
              "      <td>24.100000</td>\n",
              "      <td>24.190001</td>\n",
              "      <td>18.690762</td>\n",
              "      <td>58605500</td>\n",
              "      <td>19429.0</td>\n",
              "    </tr>\n",
              "    <tr>\n",
              "      <th>2023-03-14</th>\n",
              "      <td>24.280001</td>\n",
              "      <td>24.730000</td>\n",
              "      <td>23.600000</td>\n",
              "      <td>23.760000</td>\n",
              "      <td>18.358515</td>\n",
              "      <td>58916700</td>\n",
              "      <td>19430.0</td>\n",
              "    </tr>\n",
              "    <tr>\n",
              "      <th>2023-03-15</th>\n",
              "      <td>23.330000</td>\n",
              "      <td>23.480000</td>\n",
              "      <td>22.799999</td>\n",
              "      <td>23.340000</td>\n",
              "      <td>18.033997</td>\n",
              "      <td>93708800</td>\n",
              "      <td>19431.0</td>\n",
              "    </tr>\n",
              "    <tr>\n",
              "      <th>2023-03-16</th>\n",
              "      <td>23.400000</td>\n",
              "      <td>23.520000</td>\n",
              "      <td>22.969999</td>\n",
              "      <td>23.260000</td>\n",
              "      <td>17.972183</td>\n",
              "      <td>66821000</td>\n",
              "      <td>19432.0</td>\n",
              "    </tr>\n",
              "    <tr>\n",
              "      <th>2023-03-17</th>\n",
              "      <td>23.100000</td>\n",
              "      <td>23.510000</td>\n",
              "      <td>22.860001</td>\n",
              "      <td>23.510000</td>\n",
              "      <td>18.165350</td>\n",
              "      <td>93502700</td>\n",
              "      <td>19433.0</td>\n",
              "    </tr>\n",
              "    <tr>\n",
              "      <th>2023-03-20</th>\n",
              "      <td>23.510000</td>\n",
              "      <td>23.650000</td>\n",
              "      <td>22.889999</td>\n",
              "      <td>22.930000</td>\n",
              "      <td>17.717205</td>\n",
              "      <td>57575200</td>\n",
              "      <td>19436.0</td>\n",
              "    </tr>\n",
              "    <tr>\n",
              "      <th>2023-03-21</th>\n",
              "      <td>23.200001</td>\n",
              "      <td>23.600000</td>\n",
              "      <td>23.080000</td>\n",
              "      <td>23.400000</td>\n",
              "      <td>18.080353</td>\n",
              "      <td>43391200</td>\n",
              "      <td>19437.0</td>\n",
              "    </tr>\n",
              "    <tr>\n",
              "      <th>2023-03-22</th>\n",
              "      <td>23.389999</td>\n",
              "      <td>23.620001</td>\n",
              "      <td>23.040001</td>\n",
              "      <td>23.330000</td>\n",
              "      <td>18.026268</td>\n",
              "      <td>46435600</td>\n",
              "      <td>19438.0</td>\n",
              "    </tr>\n",
              "    <tr>\n",
              "      <th>2023-03-23</th>\n",
              "      <td>23.370001</td>\n",
              "      <td>23.670000</td>\n",
              "      <td>22.590000</td>\n",
              "      <td>22.799999</td>\n",
              "      <td>17.616758</td>\n",
              "      <td>74711200</td>\n",
              "      <td>19439.0</td>\n",
              "    </tr>\n",
              "    <tr>\n",
              "      <th>2023-03-24</th>\n",
              "      <td>22.709999</td>\n",
              "      <td>23.129999</td>\n",
              "      <td>22.480000</td>\n",
              "      <td>22.790001</td>\n",
              "      <td>17.609032</td>\n",
              "      <td>52556800</td>\n",
              "      <td>19440.0</td>\n",
              "    </tr>\n",
              "    <tr>\n",
              "      <th>2023-03-27</th>\n",
              "      <td>23.110001</td>\n",
              "      <td>23.360001</td>\n",
              "      <td>22.830000</td>\n",
              "      <td>23.180000</td>\n",
              "      <td>17.910372</td>\n",
              "      <td>39148700</td>\n",
              "      <td>19443.0</td>\n",
              "    </tr>\n",
              "    <tr>\n",
              "      <th>2023-03-28</th>\n",
              "      <td>23.219999</td>\n",
              "      <td>23.639999</td>\n",
              "      <td>23.150000</td>\n",
              "      <td>23.590000</td>\n",
              "      <td>18.227161</td>\n",
              "      <td>29091100</td>\n",
              "      <td>19444.0</td>\n",
              "    </tr>\n",
              "  </tbody>\n",
              "</table>\n",
              "</div>"
            ],
            "text/plain": [
              "             Abertura     Maximo     Minimo  Fechamento  Fech_Ajust  \\\n",
              "Data                                                                  \n",
              "2023-01-02  23.540001  23.809999  22.799999   22.920000   17.709478   \n",
              "2023-01-03  22.940001  23.100000  22.129999   22.340000   17.261333   \n",
              "2023-01-04  21.959999  23.590000  21.830000   23.049999   17.809923   \n",
              "2023-01-05  23.340000  24.040001  23.150000   23.879999   18.451235   \n",
              "2023-01-06  23.940001  24.320000  23.549999   23.740000   18.343061   \n",
              "2023-01-09  23.500000  24.000000  23.250000   23.870001   18.443508   \n",
              "2023-01-10  23.950001  24.110001  23.370001   24.090000   18.613497   \n",
              "2023-01-11  24.150000  24.620001  24.049999   24.280001   18.760302   \n",
              "2023-01-12  24.290001  24.650000  24.110001   24.629999   19.030733   \n",
              "2023-01-13  24.440001  24.660000  24.250000   24.570000   18.984375   \n",
              "2023-01-16  24.410000  24.500000  23.830000   24.040001   18.574863   \n",
              "2023-01-17  24.110001  25.620001  24.110001   25.520000   19.718407   \n",
              "2023-01-18  25.840000  26.030001  25.000000   25.070000   19.370707   \n",
              "2023-01-19  25.000000  25.950001  24.790001   25.889999   20.004292   \n",
              "2023-01-20  25.889999  26.600000  25.420000   26.370001   20.375172   \n",
              "2023-01-23  26.270000  27.600000  26.129999   26.790001   20.699692   \n",
              "2023-01-24  27.469999  27.530001  26.370001   26.600000   20.552885   \n",
              "2023-01-25  26.549999  27.080000  26.010000   26.940001   20.815590   \n",
              "2023-01-26  27.090000  27.200001  25.799999   26.250000   20.282452   \n",
              "2023-01-27  26.180000  26.230000  25.440001   25.620001   19.795673   \n",
              "2023-01-30  25.850000  26.070000  25.510000   25.750000   19.896118   \n",
              "2023-01-31  25.629999  26.209999  25.520000   26.070000   20.143373   \n",
              "2023-02-01  26.070000  26.480000  25.450001   25.709999   19.865213   \n",
              "2023-02-02  25.510000  25.809999  24.420000   24.520000   18.945742   \n",
              "2023-02-03  24.540001  25.379999  24.420000   24.790001   19.154360   \n",
              "2023-02-06  24.870001  25.870001  24.750000   25.780001   19.919300   \n",
              "2023-02-07  25.910000  26.139999  25.459999   25.620001   19.795673   \n",
              "2023-02-08  25.799999  26.150000  25.559999   26.049999   20.127916   \n",
              "2023-02-09  26.049999  26.320000  25.790001   25.930000   20.035198   \n",
              "2023-02-10  25.980000  26.790001  25.930000   26.719999   20.645603   \n",
              "2023-02-13  26.690001  26.889999  26.370001   26.799999   20.707415   \n",
              "2023-02-14  26.850000  27.059999  26.600000   26.700001   20.630150   \n",
              "2023-02-15  26.580000  26.799999  26.299999   26.740000   20.661057   \n",
              "2023-02-16  26.600000  26.950001  26.490000   26.850000   20.746050   \n",
              "2023-02-17  26.670000  26.670000  26.370001   26.440001   20.429256   \n",
              "2023-02-22  26.000000  26.110001  25.690001   25.760000   19.903847   \n",
              "2023-02-23  25.770000  26.790001  25.770000   26.549999   20.514250   \n",
              "2023-02-24  26.670000  26.700001  25.870001   25.900000   20.012018   \n",
              "2023-02-27  25.840000  26.740000  25.809999   26.150000   20.205183   \n",
              "2023-02-28  26.209999  26.920000  25.240000   25.240000   19.502060   \n",
              "2023-03-01  25.309999  25.430000  24.190001   25.299999   19.548420   \n",
              "2023-03-02  25.420000  25.670000  24.370001   24.639999   19.038460   \n",
              "2023-03-03  24.830000  25.740000  24.450001   25.700001   19.857485   \n",
              "2023-03-06  25.700001  26.120001  25.370001   25.959999   20.058376   \n",
              "2023-03-07  25.719999  25.780001  24.930000   25.100000   19.393887   \n",
              "2023-03-08  25.150000  25.920000  25.129999   25.420000   19.641140   \n",
              "2023-03-09  25.350000  26.230000  25.280001   25.309999   19.556147   \n",
              "2023-03-10  25.160000  25.580000  24.940001   24.980000   19.301167   \n",
              "2023-03-13  24.549999  24.860001  24.100000   24.190001   18.690762   \n",
              "2023-03-14  24.280001  24.730000  23.600000   23.760000   18.358515   \n",
              "2023-03-15  23.330000  23.480000  22.799999   23.340000   18.033997   \n",
              "2023-03-16  23.400000  23.520000  22.969999   23.260000   17.972183   \n",
              "2023-03-17  23.100000  23.510000  22.860001   23.510000   18.165350   \n",
              "2023-03-20  23.510000  23.650000  22.889999   22.930000   17.717205   \n",
              "2023-03-21  23.200001  23.600000  23.080000   23.400000   18.080353   \n",
              "2023-03-22  23.389999  23.620001  23.040001   23.330000   18.026268   \n",
              "2023-03-23  23.370001  23.670000  22.590000   22.799999   17.616758   \n",
              "2023-03-24  22.709999  23.129999  22.480000   22.790001   17.609032   \n",
              "2023-03-27  23.110001  23.360001  22.830000   23.180000   17.910372   \n",
              "2023-03-28  23.219999  23.639999  23.150000   23.590000   18.227161   \n",
              "\n",
              "               Volume     Data  \n",
              "Data                            \n",
              "2023-01-02   78424700  19359.0  \n",
              "2023-01-03   96750300  19360.0  \n",
              "2023-01-04  129504000  19361.0  \n",
              "2023-01-05   73886000  19362.0  \n",
              "2023-01-06   51851500  19363.0  \n",
              "2023-01-09   46385200  19366.0  \n",
              "2023-01-10   52741100  19367.0  \n",
              "2023-01-11   53536500  19368.0  \n",
              "2023-01-12   58130000  19369.0  \n",
              "2023-01-13   40002700  19370.0  \n",
              "2023-01-16   31973700  19373.0  \n",
              "2023-01-17   91797500  19374.0  \n",
              "2023-01-18   69692900  19375.0  \n",
              "2023-01-19   75553300  19376.0  \n",
              "2023-01-20  114219500  19377.0  \n",
              "2023-01-23   87678100  19380.0  \n",
              "2023-01-24   65794000  19381.0  \n",
              "2023-01-25   51832900  19382.0  \n",
              "2023-01-26   73344800  19383.0  \n",
              "2023-01-27   47681900  19384.0  \n",
              "2023-01-30   40683200  19387.0  \n",
              "2023-01-31   54048900  19388.0  \n",
              "2023-02-01   56349200  19389.0  \n",
              "2023-02-02   83823000  19390.0  \n",
              "2023-02-03   71170700  19391.0  \n",
              "2023-02-06   82794500  19394.0  \n",
              "2023-02-07   55311800  19395.0  \n",
              "2023-02-08   48713100  19396.0  \n",
              "2023-02-09   38198300  19397.0  \n",
              "2023-02-10   54683100  19398.0  \n",
              "2023-02-13   36726900  19401.0  \n",
              "2023-02-14   35839000  19402.0  \n",
              "2023-02-15   72554100  19403.0  \n",
              "2023-02-16   44115700  19404.0  \n",
              "2023-02-17   61085700  19405.0  \n",
              "2023-02-22   38608500  19410.0  \n",
              "2023-02-23   73913400  19411.0  \n",
              "2023-02-24   64409100  19412.0  \n",
              "2023-02-27   76250600  19415.0  \n",
              "2023-02-28  130248100  19416.0  \n",
              "2023-03-01  109257700  19417.0  \n",
              "2023-03-02  124516200  19418.0  \n",
              "2023-03-03   87591800  19419.0  \n",
              "2023-03-06   50227400  19422.0  \n",
              "2023-03-07   59052500  19423.0  \n",
              "2023-03-08   66220400  19424.0  \n",
              "2023-03-09   68042300  19425.0  \n",
              "2023-03-10   48118600  19426.0  \n",
              "2023-03-13   58605500  19429.0  \n",
              "2023-03-14   58916700  19430.0  \n",
              "2023-03-15   93708800  19431.0  \n",
              "2023-03-16   66821000  19432.0  \n",
              "2023-03-17   93502700  19433.0  \n",
              "2023-03-20   57575200  19436.0  \n",
              "2023-03-21   43391200  19437.0  \n",
              "2023-03-22   46435600  19438.0  \n",
              "2023-03-23   74711200  19439.0  \n",
              "2023-03-24   52556800  19440.0  \n",
              "2023-03-27   39148700  19443.0  \n",
              "2023-03-28   29091100  19444.0  "
            ]
          },
          "execution_count": 9,
          "metadata": {},
          "output_type": "execute_result"
        }
      ],
      "source": [
        "df = dados.head(60).copy()\n",
        "\n",
        "# Convertendo o índice em uma coluna de data\n",
        "df['Data'] = df.index\n",
        "\n",
        "# Convertendo as datas para o formato numérico de matplotlib\n",
        "# Isso é necessário para que o Matplotlib possa plotar as datas corretamente no gráfico\n",
        "df['Data'] = df['Data'].apply(mdates.date2num)\n",
        "\n",
        "df"
      ]
    },
    {
      "cell_type": "code",
      "execution_count": 10,
      "metadata": {
        "colab": {
          "base_uri": "https://localhost:8080/",
          "height": 771
        },
        "id": "zdGuxJ_JEx2x",
        "outputId": "f13fcfb7-cacc-4abd-f64e-c6866241aaa2"
      },
      "outputs": [
        {
          "data": {
            "image/png": "[encoded data removed]",
            "text/plain": [
              "<Figure size 1500x800 with 1 Axes>"
            ]
          },
          "metadata": {},
          "output_type": "display_data"
        }
      ],
      "source": [
        "fig, ax = plt.subplots(figsize=(15, 8))\n",
        "\n",
        "# Vamos definir a largura dos candles no gráfico\n",
        "width = 0.7\n",
        "\n",
        "for i in range(len(df)):\n",
        "    # Determinando a cor do candle\n",
        "    # Se o preço de fechamento for maior que o de abertura, o candle é verde (a ação valorizou nesse dia).\n",
        "    # Se for menor, o candle é vermelho (a ação desvalorizou).\n",
        "    if df['Fechamento'].iloc[i] > df['Abertura'].iloc[i]:\n",
        "        color = 'green'\n",
        "    else:\n",
        "        color = 'red'\n",
        "\n",
        "    # Desenhando a linha vertical do candle (mecha)\n",
        "    # Essa linha mostra os preços máximo (topo da linha) e mínimo (base da linha) do dia.\n",
        "    # Usamos `ax.plot` para desenhar uma linha vertical.\n",
        "    # [df['Data'].iloc[i], df['Data'].iloc[i]] define o ponto x da linha (a data), e [df['Mínimo'].iloc[i], df['Máximo'].iloc[i]] define a altura da linha.\n",
        "    ax.plot([df['Data'].iloc[i], df['Data'].iloc[i]],\n",
        "            [df['Minimo'].iloc[i], df['Maximo'].iloc[i]],\n",
        "            color=color,\n",
        "            linewidth=1)\n",
        "\n",
        "    ax.add_patch(plt.Rectangle((df['Data'].iloc[i] - width/2, min(df['Abertura'].iloc[i], df['Fechamento'].iloc[i])),\n",
        "                               width,\n",
        "                               abs(df['Fechamento'].iloc[i] - df['Abertura'].iloc[i]),\n",
        "                               facecolor=color))\n",
        "\n",
        "df['MA7'] = df['Fechamento'].rolling(window=7).mean()\n",
        "df['MA14'] = df['Fechamento'].rolling(window=14).mean()\n",
        "\n",
        "# Plotando as médias móveis\n",
        "ax.plot(df['Data'], df['MA7'], color='orange', label='Média Móvel 7 Dias')  # Média de 7 dias\n",
        "ax.plot(df['Data'], df['MA14'], color='yellow', label='Média Móvel 14 Dias')  # Média de 14 dias\n",
        "# Adicionando legendas para as médias móveis\n",
        "ax.legend()\n",
        "\n",
        "# Formatando o eixo x para mostrar as datas\n",
        "# Configuramos o formato da data e a rotação para melhor legibilidade\n",
        "ax.xaxis_date() #O método xaxis_date() é usado para dizer ao Matplotlib que as datas estão sendo usadas no eixo x\n",
        "ax.xaxis.set_major_formatter(mdates.DateFormatter('%Y-%m-%d'))\n",
        "plt.xticks(rotation=45)\n",
        "\n",
        "# Adicionando título e rótulos para os eixos x e y\n",
        "plt.title(\"Gráfico de Candlestick - PETR4.SA com matplotlib\")\n",
        "plt.xlabel(\"Data\")\n",
        "plt.ylabel(\"Preço\")\n",
        "\n",
        "# Adicionando uma grade para facilitar a visualização dos valores\n",
        "plt.grid(True)\n",
        "\n",
        "# Exibindo o gráfico\n",
        "plt.show()"
      ]
    },
    {
      "cell_type": "code",
      "execution_count": 11,
      "metadata": {
        "colab": {
          "base_uri": "https://localhost:8080/",
          "height": 617
        },
        "id": "vIthM4UEI39M",
        "outputId": "81ec69ee-f601-493c-9bab-e04ebdea9307"
      },
      "outputs": [
        {
          "data": {
            "application/vnd.plotly.v1+json": {
              "config": {
                "plotlyServerURL": "https://plot.ly"
              },
              "data": [
                {
                  "close": [
                    22.920000076293945,
                    22.34000015258789,
                    23.049999237060547,
                    23.8799991607666,
                    23.739999771118164,
                    23.8700008392334,
                    24.09000015258789,
                    24.280000686645508,
                    24.6299991607666,
                    24.56999969482422,
                    24.040000915527344,
                    25.520000457763672,
                    25.06999969482422,
                    25.889999389648438,
                    26.3700008392334,
                    26.790000915527344,
                    26.600000381469727,
                    26.940000534057617,
                    26.25,
                    25.6200008392334,
                    25.75,
                    26.06999969482422,
                    25.709999084472656,
                    24.520000457763672,
                    24.790000915527344,
                    25.780000686645508,
                    25.6200008392334,
                    26.049999237060547,
                    25.93000030517578,
                    26.719999313354492,
                    26.799999237060547,
                    26.700000762939453,
                    26.739999771118164,
                    26.850000381469727,
                    26.440000534057617,
                    25.760000228881836,
                    26.549999237060547,
                    25.899999618530273,
                    26.149999618530273,
                    25.239999771118164,
                    25.299999237060547,
                    24.639999389648438,
                    25.700000762939453,
                    25.959999084472656,
                    25.100000381469727,
                    25.420000076293945,
                    25.309999465942383,
                    24.979999542236328,
                    24.190000534057617,
                    23.760000228881836,
                    23.34000015258789,
                    23.260000228881836,
                    23.510000228881836,
                    22.93000030517578,
                    23.399999618530273,
                    23.329999923706055,
                    22.799999237060547,
                    22.790000915527344,
                    23.18000030517578,
                    23.59000015258789
                  ],
                  "high": [
                    23.809999465942383,
                    23.100000381469727,
                    23.59000015258789,
                    24.040000915527344,
                    24.31999969482422,
                    24,
                    24.110000610351562,
                    24.6200008392334,
                    24.649999618530273,
                    24.65999984741211,
                    24.5,
                    25.6200008392334,
                    26.030000686645508,
                    25.950000762939453,
                    26.600000381469727,
                    27.600000381469727,
                    27.530000686645508,
                    27.079999923706055,
                    27.200000762939453,
                    26.229999542236328,
                    26.06999969482422,
                    26.209999084472656,
                    26.479999542236328,
                    25.809999465942383,
                    25.3799991607666,
                    25.8700008392334,
                    26.139999389648438,
                    26.149999618530273,
                    26.31999969482422,
                    26.790000915527344,
                    26.889999389648438,
                    27.059999465942383,
                    26.799999237060547,
                    26.950000762939453,
                    26.670000076293945,
                    26.110000610351562,
                    26.790000915527344,
                    26.700000762939453,
                    26.739999771118164,
                    26.920000076293945,
                    25.43000030517578,
                    25.670000076293945,
                    25.739999771118164,
                    26.1200008392334,
                    25.780000686645508,
                    25.920000076293945,
                    26.229999542236328,
                    25.579999923706055,
                    24.860000610351562,
                    24.729999542236328,
                    23.479999542236328,
                    23.520000457763672,
                    23.510000228881836,
                    23.649999618530273,
                    23.600000381469727,
                    23.6200008392334,
                    23.670000076293945,
                    23.1299991607666,
                    23.360000610351562,
                    23.639999389648438
                  ],
                  "low": [
                    22.799999237060547,
                    22.1299991607666,
                    21.829999923706055,
                    23.149999618530273,
                    23.549999237060547,
                    23.25,
                    23.3700008392334,
                    24.049999237060547,
                    24.110000610351562,
                    24.25,
                    23.829999923706055,
                    24.110000610351562,
                    25,
                    24.790000915527344,
                    25.420000076293945,
                    26.1299991607666,
                    26.3700008392334,
                    26.010000228881836,
                    25.799999237060547,
                    25.440000534057617,
                    25.510000228881836,
                    25.520000457763672,
                    25.450000762939453,
                    24.420000076293945,
                    24.420000076293945,
                    24.75,
                    25.459999084472656,
                    25.559999465942383,
                    25.790000915527344,
                    25.93000030517578,
                    26.3700008392334,
                    26.600000381469727,
                    26.299999237060547,
                    26.489999771118164,
                    26.3700008392334,
                    25.690000534057617,
                    25.770000457763672,
                    25.8700008392334,
                    25.809999465942383,
                    25.239999771118164,
                    24.190000534057617,
                    24.3700008392334,
                    24.450000762939453,
                    25.3700008392334,
                    24.93000030517578,
                    25.1299991607666,
                    25.280000686645508,
                    24.940000534057617,
                    24.100000381469727,
                    23.600000381469727,
                    22.799999237060547,
                    22.969999313354492,
                    22.860000610351562,
                    22.889999389648438,
                    23.079999923706055,
                    23.040000915527344,
                    22.59000015258789,
                    22.479999542236328,
                    22.829999923706055,
                    23.149999618530273
                  ],
                  "name": "Candlestick",
                  "open": [
                    23.540000915527344,
                    22.940000534057617,
                    21.959999084472656,
                    23.34000015258789,
                    23.940000534057617,
                    23.5,
                    23.950000762939453,
                    24.149999618530273,
                    24.290000915527344,
                    24.440000534057617,
                    24.40999984741211,
                    24.110000610351562,
                    25.84000015258789,
                    25,
                    25.889999389648438,
                    26.270000457763672,
                    27.469999313354492,
                    26.549999237060547,
                    27.09000015258789,
                    26.18000030517578,
                    25.850000381469727,
                    25.6299991607666,
                    26.06999969482422,
                    25.510000228881836,
                    24.540000915527344,
                    24.8700008392334,
                    25.90999984741211,
                    25.799999237060547,
                    26.049999237060547,
                    25.979999542236328,
                    26.690000534057617,
                    26.850000381469727,
                    26.579999923706055,
                    26.600000381469727,
                    26.670000076293945,
                    26,
                    25.770000457763672,
                    26.670000076293945,
                    25.84000015258789,
                    26.209999084472656,
                    25.309999465942383,
                    25.420000076293945,
                    24.829999923706055,
                    25.700000762939453,
                    25.719999313354492,
                    25.149999618530273,
                    25.350000381469727,
                    25.15999984741211,
                    24.549999237060547,
                    24.280000686645508,
                    23.329999923706055,
                    23.399999618530273,
                    23.100000381469727,
                    23.510000228881836,
                    23.200000762939453,
                    23.389999389648438,
                    23.3700008392334,
                    22.709999084472656,
                    23.110000610351562,
                    23.219999313354492
                  ],
                  "type": "candlestick",
                  "x": [
                    "2023-01-02T00:00:00",
                    "2023-01-03T00:00:00",
                    "2023-01-04T00:00:00",
                    "2023-01-05T00:00:00",
                    "2023-01-06T00:00:00",
                    "2023-01-09T00:00:00",
                    "2023-01-10T00:00:00",
                    "2023-01-11T00:00:00",
                    "2023-01-12T00:00:00",
                    "2023-01-13T00:00:00",
                    "2023-01-16T00:00:00",
                    "2023-01-17T00:00:00",
                    "2023-01-18T00:00:00",
                    "2023-01-19T00:00:00",
                    "2023-01-20T00:00:00",
                    "2023-01-23T00:00:00",
                    "2023-01-24T00:00:00",
                    "2023-01-25T00:00:00",
                    "2023-01-26T00:00:00",
                    "2023-01-27T00:00:00",
                    "2023-01-30T00:00:00",
                    "2023-01-31T00:00:00",
                    "2023-02-01T00:00:00",
                    "2023-02-02T00:00:00",
                    "2023-02-03T00:00:00",
                    "2023-02-06T00:00:00",
                    "2023-02-07T00:00:00",
                    "2023-02-08T00:00:00",
                    "2023-02-09T00:00:00",
                    "2023-02-10T00:00:00",
                    "2023-02-13T00:00:00",
                    "2023-02-14T00:00:00",
                    "2023-02-15T00:00:00",
                    "2023-02-16T00:00:00",
                    "2023-02-17T00:00:00",
                    "2023-02-22T00:00:00",
                    "2023-02-23T00:00:00",
                    "2023-02-24T00:00:00",
                    "2023-02-27T00:00:00",
                    "2023-02-28T00:00:00",
                    "2023-03-01T00:00:00",
                    "2023-03-02T00:00:00",
                    "2023-03-03T00:00:00",
                    "2023-03-06T00:00:00",
                    "2023-03-07T00:00:00",
                    "2023-03-08T00:00:00",
                    "2023-03-09T00:00:00",
                    "2023-03-10T00:00:00",
                    "2023-03-13T00:00:00",
                    "2023-03-14T00:00:00",
                    "2023-03-15T00:00:00",
                    "2023-03-16T00:00:00",
                    "2023-03-17T00:00:00",
                    "2023-03-20T00:00:00",
                    "2023-03-21T00:00:00",
                    "2023-03-22T00:00:00",
                    "2023-03-23T00:00:00",
                    "2023-03-24T00:00:00",
                    "2023-03-27T00:00:00",
                    "2023-03-28T00:00:00"
                  ],
                  "xaxis": "x",
                  "yaxis": "y"
                },
                {
                  "mode": "lines",
                  "name": "MA7 - Média Móvel 7 Dias",
                  "type": "scatter",
                  "x": [
                    "2023-01-02T00:00:00",
                    "2023-01-03T00:00:00",
                    "2023-01-04T00:00:00",
                    "2023-01-05T00:00:00",
                    "2023-01-06T00:00:00",
                    "2023-01-09T00:00:00",
                    "2023-01-10T00:00:00",
                    "2023-01-11T00:00:00",
                    "2023-01-12T00:00:00",
                    "2023-01-13T00:00:00",
                    "2023-01-16T00:00:00",
                    "2023-01-17T00:00:00",
                    "2023-01-18T00:00:00",
                    "2023-01-19T00:00:00",
                    "2023-01-20T00:00:00",
                    "2023-01-23T00:00:00",
                    "2023-01-24T00:00:00",
                    "2023-01-25T00:00:00",
                    "2023-01-26T00:00:00",
                    "2023-01-27T00:00:00",
                    "2023-01-30T00:00:00",
                    "2023-01-31T00:00:00",
                    "2023-02-01T00:00:00",
                    "2023-02-02T00:00:00",
                    "2023-02-03T00:00:00",
                    "2023-02-06T00:00:00",
                    "2023-02-07T00:00:00",
                    "2023-02-08T00:00:00",
                    "2023-02-09T00:00:00",
                    "2023-02-10T00:00:00",
                    "2023-02-13T00:00:00",
                    "2023-02-14T00:00:00",
                    "2023-02-15T00:00:00",
                    "2023-02-16T00:00:00",
                    "2023-02-17T00:00:00",
                    "2023-02-22T00:00:00",
                    "2023-02-23T00:00:00",
                    "2023-02-24T00:00:00",
                    "2023-02-27T00:00:00",
                    "2023-02-28T00:00:00",
                    "2023-03-01T00:00:00",
                    "2023-03-02T00:00:00",
                    "2023-03-03T00:00:00",
                    "2023-03-06T00:00:00",
                    "2023-03-07T00:00:00",
                    "2023-03-08T00:00:00",
                    "2023-03-09T00:00:00",
                    "2023-03-10T00:00:00",
                    "2023-03-13T00:00:00",
                    "2023-03-14T00:00:00",
                    "2023-03-15T00:00:00",
                    "2023-03-16T00:00:00",
                    "2023-03-17T00:00:00",
                    "2023-03-20T00:00:00",
                    "2023-03-21T00:00:00",
                    "2023-03-22T00:00:00",
                    "2023-03-23T00:00:00",
                    "2023-03-24T00:00:00",
                    "2023-03-27T00:00:00",
                    "2023-03-28T00:00:00"
                  ],
                  "xaxis": "x",
                  "y": [
                    null,
                    null,
                    null,
                    null,
                    null,
                    null,
                    23.412857055664062,
                    23.607142857142858,
                    23.93428557259696,
                    24.151428495134628,
                    24.174285888671875,
                    24.428571701049805,
                    24.60000010899135,
                    24.857142857142858,
                    25.155714307512557,
                    25.46428598676409,
                    25.754286084856307,
                    26.168571744646346,
                    26.272857393537247,
                    26.351428985595703,
                    26.331429072788783,
                    26.288571766444615,
                    26.13428579057966,
                    25.837142944335938,
                    25.530000141688756,
                    25.462857382638113,
                    25.462857382638113,
                    25.505714416503906,
                    25.485714503696986,
                    25.630000250680105,
                    25.95571436200823,
                    26.228571483067103,
                    26.36571420942034,
                    26.541428429739817,
                    26.597142900739396,
                    26.57285717555455,
                    26.5485714503697,
                    26.420000076293945,
                    26.34142848423549,
                    26.127142769949778,
                    25.90571403503418,
                    25.648571014404297,
                    25.639999662126815,
                    25.55571392604283,
                    25.441428320748464,
                    25.33714267185756,
                    25.34714262826102,
                    25.301428386143275,
                    25.23714283534459,
                    24.959999901907786,
                    24.58571434020996,
                    24.32285717555455,
                    24.050000054495676,
                    23.71000017438616,
                    23.48428589957101,
                    23.361428669520787,
                    23.224285670689174,
                    23.145714351109095,
                    23.13428579057966,
                    23.145714351109095
                  ],
                  "yaxis": "y"
                },
                {
                  "mode": "lines",
                  "name": "MA14 - Média Móvel 14 Dias",
                  "type": "scatter",
                  "x": [
                    "2023-01-02T00:00:00",
                    "2023-01-03T00:00:00",
                    "2023-01-04T00:00:00",
                    "2023-01-05T00:00:00",
                    "2023-01-06T00:00:00",
                    "2023-01-09T00:00:00",
                    "2023-01-10T00:00:00",
                    "2023-01-11T00:00:00",
                    "2023-01-12T00:00:00",
                    "2023-01-13T00:00:00",
                    "2023-01-16T00:00:00",
                    "2023-01-17T00:00:00",
                    "2023-01-18T00:00:00",
                    "2023-01-19T00:00:00",
                    "2023-01-20T00:00:00",
                    "2023-01-23T00:00:00",
                    "2023-01-24T00:00:00",
                    "2023-01-25T00:00:00",
                    "2023-01-26T00:00:00",
                    "2023-01-27T00:00:00",
                    "2023-01-30T00:00:00",
                    "2023-01-31T00:00:00",
                    "2023-02-01T00:00:00",
                    "2023-02-02T00:00:00",
                    "2023-02-03T00:00:00",
                    "2023-02-06T00:00:00",
                    "2023-02-07T00:00:00",
                    "2023-02-08T00:00:00",
                    "2023-02-09T00:00:00",
                    "2023-02-10T00:00:00",
                    "2023-02-13T00:00:00",
                    "2023-02-14T00:00:00",
                    "2023-02-15T00:00:00",
                    "2023-02-16T00:00:00",
                    "2023-02-17T00:00:00",
                    "2023-02-22T00:00:00",
                    "2023-02-23T00:00:00",
                    "2023-02-24T00:00:00",
                    "2023-02-27T00:00:00",
                    "2023-02-28T00:00:00",
                    "2023-03-01T00:00:00",
                    "2023-03-02T00:00:00",
                    "2023-03-03T00:00:00",
                    "2023-03-06T00:00:00",
                    "2023-03-07T00:00:00",
                    "2023-03-08T00:00:00",
                    "2023-03-09T00:00:00",
                    "2023-03-10T00:00:00",
                    "2023-03-13T00:00:00",
                    "2023-03-14T00:00:00",
                    "2023-03-15T00:00:00",
                    "2023-03-16T00:00:00",
                    "2023-03-17T00:00:00",
                    "2023-03-20T00:00:00",
                    "2023-03-21T00:00:00",
                    "2023-03-22T00:00:00",
                    "2023-03-23T00:00:00",
                    "2023-03-24T00:00:00",
                    "2023-03-27T00:00:00",
                    "2023-03-28T00:00:00"
                  ],
                  "xaxis": "x",
                  "y": [
                    null,
                    null,
                    null,
                    null,
                    null,
                    null,
                    null,
                    null,
                    null,
                    null,
                    null,
                    null,
                    null,
                    24.13499995640346,
                    24.381428582327707,
                    24.699285779680526,
                    24.952857289995467,
                    25.17142881665911,
                    25.350714547293528,
                    25.475714547293528,
                    25.59428596496582,
                    25.722143036978586,
                    25.799285888671875,
                    25.79571451459612,
                    25.84928594316755,
                    25.867857388087682,
                    25.907143184116908,
                    25.918571744646346,
                    25.8871431350708,
                    25.882143020629883,
                    25.896428653172084,
                    25.87928581237793,
                    25.914285796029226,
                    26.002142906188965,
                    26.051428658621653,
                    26.029285839625768,
                    26.089285850524902,
                    26.187857219151088,
                    26.284999983651296,
                    26.24642848968506,
                    26.223571232387,
                    26.122856957571848,
                    26.106428418840682,
                    26.052142688206263,
                    25.930714198521205,
                    25.839285578046525,
                    25.737142699105398,
                    25.60357121058873,
                    25.44285692487444,
                    25.2999997820173,
                    25.070714133126394,
                    24.882142748151505,
                    24.69357136317662,
                    24.528571401323592,
                    24.392857142857142,
                    24.299285752432688,
                    24.092142786298478,
                    23.86571434565953,
                    23.728571483067103,
                    23.597857202802384
                  ],
                  "yaxis": "y"
                },
                {
                  "name": "Volume",
                  "type": "bar",
                  "x": [
                    "2023-01-02T00:00:00",
                    "2023-01-03T00:00:00",
                    "2023-01-04T00:00:00",
                    "2023-01-05T00:00:00",
                    "2023-01-06T00:00:00",
                    "2023-01-09T00:00:00",
                    "2023-01-10T00:00:00",
                    "2023-01-11T00:00:00",
                    "2023-01-12T00:00:00",
                    "2023-01-13T00:00:00",
                    "2023-01-16T00:00:00",
                    "2023-01-17T00:00:00",
                    "2023-01-18T00:00:00",
                    "2023-01-19T00:00:00",
                    "2023-01-20T00:00:00",
                    "2023-01-23T00:00:00",
                    "2023-01-24T00:00:00",
                    "2023-01-25T00:00:00",
                    "2023-01-26T00:00:00",
                    "2023-01-27T00:00:00",
                    "2023-01-30T00:00:00",
                    "2023-01-31T00:00:00",
                    "2023-02-01T00:00:00",
                    "2023-02-02T00:00:00",
                    "2023-02-03T00:00:00",
                    "2023-02-06T00:00:00",
                    "2023-02-07T00:00:00",
                    "2023-02-08T00:00:00",
                    "2023-02-09T00:00:00",
                    "2023-02-10T00:00:00",
                    "2023-02-13T00:00:00",
                    "2023-02-14T00:00:00",
                    "2023-02-15T00:00:00",
                    "2023-02-16T00:00:00",
                    "2023-02-17T00:00:00",
                    "2023-02-22T00:00:00",
                    "2023-02-23T00:00:00",
                    "2023-02-24T00:00:00",
                    "2023-02-27T00:00:00",
                    "2023-02-28T00:00:00",
                    "2023-03-01T00:00:00",
                    "2023-03-02T00:00:00",
                    "2023-03-03T00:00:00",
                    "2023-03-06T00:00:00",
                    "2023-03-07T00:00:00",
                    "2023-03-08T00:00:00",
                    "2023-03-09T00:00:00",
                    "2023-03-10T00:00:00",
                    "2023-03-13T00:00:00",
                    "2023-03-14T00:00:00",
                    "2023-03-15T00:00:00",
                    "2023-03-16T00:00:00",
                    "2023-03-17T00:00:00",
                    "2023-03-20T00:00:00",
                    "2023-03-21T00:00:00",
                    "2023-03-22T00:00:00",
                    "2023-03-23T00:00:00",
                    "2023-03-24T00:00:00",
                    "2023-03-27T00:00:00",
                    "2023-03-28T00:00:00"
                  ],
                  "xaxis": "x2",
                  "y": [
                    78424700,
                    96750300,
                    129504000,
                    73886000,
                    51851500,
                    46385200,
                    52741100,
                    53536500,
                    58130000,
                    40002700,
                    31973700,
                    91797500,
                    69692900,
                    75553300,
                    114219500,
                    87678100,
                    65794000,
                    51832900,
                    73344800,
                    47681900,
                    40683200,
                    54048900,
                    56349200,
                    83823000,
                    71170700,
                    82794500,
                    55311800,
                    48713100,
                    38198300,
                    54683100,
                    36726900,
                    35839000,
                    72554100,
                    44115700,
                    61085700,
                    38608500,
                    73913400,
                    64409100,
                    76250600,
                    130248100,
                    109257700,
                    124516200,
                    87591800,
                    50227400,
                    59052500,
                    66220400,
                    68042300,
                    48118600,
                    58605500,
                    58916700,
                    93708800,
                    66821000,
                    93502700,
                    57575200,
                    43391200,
                    46435600,
                    74711200,
                    52556800,
                    39148700,
                    29091100
                  ],
                  "yaxis": "y2"
                }
              ],
              "layout": {
                "annotations": [
                  {
                    "font": {
                      "size": 16
                    },
                    "showarrow": false,
                    "text": "Candlesticks",
                    "x": 0.5,
                    "xanchor": "center",
                    "xref": "paper",
                    "y": 1,
                    "yanchor": "bottom",
                    "yref": "paper"
                  },
                  {
                    "font": {
                      "size": 16
                    },
                    "showarrow": false,
                    "text": "Volume Transacionado",
                    "x": 0.5,
                    "xanchor": "center",
                    "xref": "paper",
                    "y": 0.20000000000000004,
                    "yanchor": "bottom",
                    "yref": "paper"
                  }
                ],
                "height": 600,
                "template": {
                  "data": {
                    "bar": [
                      {
                        "error_x": {
                          "color": "#2a3f5f"
                        },
                        "error_y": {
                          "color": "#2a3f5f"
                        },
                        "marker": {
                          "line": {
                            "color": "#E5ECF6",
                            "width": 0.5
                          },
                          "pattern": {
                            "fillmode": "overlay",
                            "size": 10,
                            "solidity": 0.2
                          }
                        },
                        "type": "bar"
                      }
                    ],
                    "barpolar": [
                      {
                        "marker": {
                          "line": {
                            "color": "#E5ECF6",
                            "width": 0.5
                          },
                          "pattern": {
                            "fillmode": "overlay",
                            "size": 10,
                            "solidity": 0.2
                          }
                        },
                        "type": "barpolar"
                      }
                    ],
                    "carpet": [
                      {
                        "aaxis": {
                          "endlinecolor": "#2a3f5f",
                          "gridcolor": "white",
                          "linecolor": "white",
                          "minorgridcolor": "white",
                          "startlinecolor": "#2a3f5f"
                        },
                        "baxis": {
                          "endlinecolor": "#2a3f5f",
                          "gridcolor": "white",
                          "linecolor": "white",
                          "minorgridcolor": "white",
                          "startlinecolor": "#2a3f5f"
                        },
                        "type": "carpet"
                      }
                    ],
                    "choropleth": [
                      {
                        "colorbar": {
                          "outlinewidth": 0,
                          "ticks": ""
                        },
                        "type": "choropleth"
                      }
                    ],
                    "contour": [
                      {
                        "colorbar": {
                          "outlinewidth": 0,
                          "ticks": ""
                        },
                        "colorscale": [
                          [
                            0,
                            "#0d0887"
                          ],
                          [
                            0.1111111111111111,
                            "#46039f"
                          ],
                          [
                            0.2222222222222222,
                            "#7201a8"
                          ],
                          [
                            0.3333333333333333,
                            "#9c179e"
                          ],
                          [
                            0.4444444444444444,
                            "#bd3786"
                          ],
                          [
                            0.5555555555555556,
                            "#d8576b"
                          ],
                          [
                            0.6666666666666666,
                            "#ed7953"
                          ],
                          [
                            0.7777777777777778,
                            "#fb9f3a"
                          ],
                          [
                            0.8888888888888888,
                            "#fdca26"
                          ],
                          [
                            1,
                            "#f0f921"
                          ]
                        ],
                        "type": "contour"
                      }
                    ],
                    "contourcarpet": [
                      {
                        "colorbar": {
                          "outlinewidth": 0,
                          "ticks": ""
                        },
                        "type": "contourcarpet"
                      }
                    ],
                    "heatmap": [
                      {
                        "colorbar": {
                          "outlinewidth": 0,
                          "ticks": ""
                        },
                        "colorscale": [
                          [
                            0,
                            "#0d0887"
                          ],
                          [
                            0.1111111111111111,
                            "#46039f"
                          ],
                          [
                            0.2222222222222222,
                            "#7201a8"
                          ],
                          [
                            0.3333333333333333,
                            "#9c179e"
                          ],
                          [
                            0.4444444444444444,
                            "#bd3786"
                          ],
                          [
                            0.5555555555555556,
                            "#d8576b"
                          ],
                          [
                            0.6666666666666666,
                            "#ed7953"
                          ],
                          [
                            0.7777777777777778,
                            "#fb9f3a"
                          ],
                          [
                            0.8888888888888888,
                            "#fdca26"
                          ],
                          [
                            1,
                            "#f0f921"
                          ]
                        ],
                        "type": "heatmap"
                      }
                    ],
                    "heatmapgl": [
                      {
                        "colorbar": {
                          "outlinewidth": 0,
                          "ticks": ""
                        },
                        "colorscale": [
                          [
                            0,
                            "#0d0887"
                          ],
                          [
                            0.1111111111111111,
                            "#46039f"
                          ],
                          [
                            0.2222222222222222,
                            "#7201a8"
                          ],
                          [
                            0.3333333333333333,
                            "#9c179e"
                          ],
                          [
                            0.4444444444444444,
                            "#bd3786"
                          ],
                          [
                            0.5555555555555556,
                            "#d8576b"
                          ],
                          [
                            0.6666666666666666,
                            "#ed7953"
                          ],
                          [
                            0.7777777777777778,
                            "#fb9f3a"
                          ],
                          [
                            0.8888888888888888,
                            "#fdca26"
                          ],
                          [
                            1,
                            "#f0f921"
                          ]
                        ],
                        "type": "heatmapgl"
                      }
                    ],
                    "histogram": [
                      {
                        "marker": {
                          "pattern": {
                            "fillmode": "overlay",
                            "size": 10,
                            "solidity": 0.2
                          }
                        },
                        "type": "histogram"
                      }
                    ],
                    "histogram2d": [
                      {
                        "colorbar": {
                          "outlinewidth": 0,
                          "ticks": ""
                        },
                        "colorscale": [
                          [
                            0,
                            "#0d0887"
                          ],
                          [
                            0.1111111111111111,
                            "#46039f"
                          ],
                          [
                            0.2222222222222222,
                            "#7201a8"
                          ],
                          [
                            0.3333333333333333,
                            "#9c179e"
                          ],
                          [
                            0.4444444444444444,
                            "#bd3786"
                          ],
                          [
                            0.5555555555555556,
                            "#d8576b"
                          ],
                          [
                            0.6666666666666666,
                            "#ed7953"
                          ],
                          [
                            0.7777777777777778,
                            "#fb9f3a"
                          ],
                          [
                            0.8888888888888888,
                            "#fdca26"
                          ],
                          [
                            1,
                            "#f0f921"
                          ]
                        ],
                        "type": "histogram2d"
                      }
                    ],
                    "histogram2dcontour": [
                      {
                        "colorbar": {
                          "outlinewidth": 0,
                          "ticks": ""
                        },
                        "colorscale": [
                          [
                            0,
                            "#0d0887"
                          ],
                          [
                            0.1111111111111111,
                            "#46039f"
                          ],
                          [
                            0.2222222222222222,
                            "#7201a8"
                          ],
                          [
                            0.3333333333333333,
                            "#9c179e"
                          ],
                          [
                            0.4444444444444444,
                            "#bd3786"
                          ],
                          [
                            0.5555555555555556,
                            "#d8576b"
                          ],
                          [
                            0.6666666666666666,
                            "#ed7953"
                          ],
                          [
                            0.7777777777777778,
                            "#fb9f3a"
                          ],
                          [
                            0.8888888888888888,
                            "#fdca26"
                          ],
                          [
                            1,
                            "#f0f921"
                          ]
                        ],
                        "type": "histogram2dcontour"
                      }
                    ],
                    "mesh3d": [
                      {
                        "colorbar": {
                          "outlinewidth": 0,
                          "ticks": ""
                        },
                        "type": "mesh3d"
                      }
                    ],
                    "parcoords": [
                      {
                        "line": {
                          "colorbar": {
                            "outlinewidth": 0,
                            "ticks": ""
                          }
                        },
                        "type": "parcoords"
                      }
                    ],
                    "pie": [
                      {
                        "automargin": true,
                        "type": "pie"
                      }
                    ],
                    "scatter": [
                      {
                        "fillpattern": {
                          "fillmode": "overlay",
                          "size": 10,
                          "solidity": 0.2
                        },
                        "type": "scatter"
                      }
                    ],
                    "scatter3d": [
                      {
                        "line": {
                          "colorbar": {
                            "outlinewidth": 0,
                            "ticks": ""
                          }
                        },
                        "marker": {
                          "colorbar": {
                            "outlinewidth": 0,
                            "ticks": ""
                          }
                        },
                        "type": "scatter3d"
                      }
                    ],
                    "scattercarpet": [
                      {
                        "marker": {
                          "colorbar": {
                            "outlinewidth": 0,
                            "ticks": ""
                          }
                        },
                        "type": "scattercarpet"
                      }
                    ],
                    "scattergeo": [
                      {
                        "marker": {
                          "colorbar": {
                            "outlinewidth": 0,
                            "ticks": ""
                          }
                        },
                        "type": "scattergeo"
                      }
                    ],
                    "scattergl": [
                      {
                        "marker": {
                          "colorbar": {
                            "outlinewidth": 0,
                            "ticks": ""
                          }
                        },
                        "type": "scattergl"
                      }
                    ],
                    "scattermapbox": [
                      {
                        "marker": {
                          "colorbar": {
                            "outlinewidth": 0,
                            "ticks": ""
                          }
                        },
                        "type": "scattermapbox"
                      }
                    ],
                    "scatterpolar": [
                      {
                        "marker": {
                          "colorbar": {
                            "outlinewidth": 0,
                            "ticks": ""
                          }
                        },
                        "type": "scatterpolar"
                      }
                    ],
                    "scatterpolargl": [
                      {
                        "marker": {
                          "colorbar": {
                            "outlinewidth": 0,
                            "ticks": ""
                          }
                        },
                        "type": "scatterpolargl"
                      }
                    ],
                    "scatterternary": [
                      {
                        "marker": {
                          "colorbar": {
                            "outlinewidth": 0,
                            "ticks": ""
                          }
                        },
                        "type": "scatterternary"
                      }
                    ],
                    "surface": [
                      {
                        "colorbar": {
                          "outlinewidth": 0,
                          "ticks": ""
                        },
                        "colorscale": [
                          [
                            0,
                            "#0d0887"
                          ],
                          [
                            0.1111111111111111,
                            "#46039f"
                          ],
                          [
                            0.2222222222222222,
                            "#7201a8"
                          ],
                          [
                            0.3333333333333333,
                            "#9c179e"
                          ],
                          [
                            0.4444444444444444,
                            "#bd3786"
                          ],
                          [
                            0.5555555555555556,
                            "#d8576b"
                          ],
                          [
                            0.6666666666666666,
                            "#ed7953"
                          ],
                          [
                            0.7777777777777778,
                            "#fb9f3a"
                          ],
                          [
                            0.8888888888888888,
                            "#fdca26"
                          ],
                          [
                            1,
                            "#f0f921"
                          ]
                        ],
                        "type": "surface"
                      }
                    ],
                    "table": [
                      {
                        "cells": {
                          "fill": {
                            "color": "#EBF0F8"
                          },
                          "line": {
                            "color": "white"
                          }
                        },
                        "header": {
                          "fill": {
                            "color": "#C8D4E3"
                          },
                          "line": {
                            "color": "white"
                          }
                        },
                        "type": "table"
                      }
                    ]
                  },
                  "layout": {
                    "annotationdefaults": {
                      "arrowcolor": "#2a3f5f",
                      "arrowhead": 0,
                      "arrowwidth": 1
                    },
                    "autotypenumbers": "strict",
                    "coloraxis": {
                      "colorbar": {
                        "outlinewidth": 0,
                        "ticks": ""
                      }
                    },
                    "colorscale": {
                      "diverging": [
                        [
                          0,
                          "#8e0152"
                        ],
                        [
                          0.1,
                          "#c51b7d"
                        ],
                        [
                          0.2,
                          "#de77ae"
                        ],
                        [
                          0.3,
                          "#f1b6da"
                        ],
                        [
                          0.4,
                          "#fde0ef"
                        ],
                        [
                          0.5,
                          "#f7f7f7"
                        ],
                        [
                          0.6,
                          "#e6f5d0"
                        ],
                        [
                          0.7,
                          "#b8e186"
                        ],
                        [
                          0.8,
                          "#7fbc41"
                        ],
                        [
                          0.9,
                          "#4d9221"
                        ],
                        [
                          1,
                          "#276419"
                        ]
                      ],
                      "sequential": [
                        [
                          0,
                          "#0d0887"
                        ],
                        [
                          0.1111111111111111,
                          "#46039f"
                        ],
                        [
                          0.2222222222222222,
                          "#7201a8"
                        ],
                        [
                          0.3333333333333333,
                          "#9c179e"
                        ],
                        [
                          0.4444444444444444,
                          "#bd3786"
                        ],
                        [
                          0.5555555555555556,
                          "#d8576b"
                        ],
                        [
                          0.6666666666666666,
                          "#ed7953"
                        ],
                        [
                          0.7777777777777778,
                          "#fb9f3a"
                        ],
                        [
                          0.8888888888888888,
                          "#fdca26"
                        ],
                        [
                          1,
                          "#f0f921"
                        ]
                      ],
                      "sequentialminus": [
                        [
                          0,
                          "#0d0887"
                        ],
                        [
                          0.1111111111111111,
                          "#46039f"
                        ],
                        [
                          0.2222222222222222,
                          "#7201a8"
                        ],
                        [
                          0.3333333333333333,
                          "#9c179e"
                        ],
                        [
                          0.4444444444444444,
                          "#bd3786"
                        ],
                        [
                          0.5555555555555556,
                          "#d8576b"
                        ],
                        [
                          0.6666666666666666,
                          "#ed7953"
                        ],
                        [
                          0.7777777777777778,
                          "#fb9f3a"
                        ],
                        [
                          0.8888888888888888,
                          "#fdca26"
                        ],
                        [
                          1,
                          "#f0f921"
                        ]
                      ]
                    },
                    "colorway": [
                      "#636efa",
                      "#EF553B",
                      "#00cc96",
                      "#ab63fa",
                      "#FFA15A",
                      "#19d3f3",
                      "#FF6692",
                      "#B6E880",
                      "#FF97FF",
                      "#FECB52"
                    ],
                    "font": {
                      "color": "#2a3f5f"
                    },
                    "geo": {
                      "bgcolor": "white",
                      "lakecolor": "white",
                      "landcolor": "#E5ECF6",
                      "showlakes": true,
                      "showland": true,
                      "subunitcolor": "white"
                    },
                    "hoverlabel": {
                      "align": "left"
                    },
                    "hovermode": "closest",
                    "mapbox": {
                      "style": "light"
                    },
                    "paper_bgcolor": "white",
                    "plot_bgcolor": "#E5ECF6",
                    "polar": {
                      "angularaxis": {
                        "gridcolor": "white",
                        "linecolor": "white",
                        "ticks": ""
                      },
                      "bgcolor": "#E5ECF6",
                      "radialaxis": {
                        "gridcolor": "white",
                        "linecolor": "white",
                        "ticks": ""
                      }
                    },
                    "scene": {
                      "xaxis": {
                        "backgroundcolor": "#E5ECF6",
                        "gridcolor": "white",
                        "gridwidth": 2,
                        "linecolor": "white",
                        "showbackground": true,
                        "ticks": "",
                        "zerolinecolor": "white"
                      },
                      "yaxis": {
                        "backgroundcolor": "#E5ECF6",
                        "gridcolor": "white",
                        "gridwidth": 2,
                        "linecolor": "white",
                        "showbackground": true,
                        "ticks": "",
                        "zerolinecolor": "white"
                      },
                      "zaxis": {
                        "backgroundcolor": "#E5ECF6",
                        "gridcolor": "white",
                        "gridwidth": 2,
                        "linecolor": "white",
                        "showbackground": true,
                        "ticks": "",
                        "zerolinecolor": "white"
                      }
                    },
                    "shapedefaults": {
                      "line": {
                        "color": "#2a3f5f"
                      }
                    },
                    "ternary": {
                      "aaxis": {
                        "gridcolor": "white",
                        "linecolor": "white",
                        "ticks": ""
                      },
                      "baxis": {
                        "gridcolor": "white",
                        "linecolor": "white",
                        "ticks": ""
                      },
                      "bgcolor": "#E5ECF6",
                      "caxis": {
                        "gridcolor": "white",
                        "linecolor": "white",
                        "ticks": ""
                      }
                    },
                    "title": {
                      "x": 0.05
                    },
                    "xaxis": {
                      "automargin": true,
                      "gridcolor": "white",
                      "linecolor": "white",
                      "ticks": "",
                      "title": {
                        "standoff": 15
                      },
                      "zerolinecolor": "white",
                      "zerolinewidth": 2
                    },
                    "yaxis": {
                      "automargin": true,
                      "gridcolor": "white",
                      "linecolor": "white",
                      "ticks": "",
                      "title": {
                        "standoff": 15
                      },
                      "zerolinecolor": "white",
                      "zerolinewidth": 2
                    }
                  }
                },
                "width": 1100,
                "xaxis": {
                  "anchor": "y",
                  "domain": [
                    0,
                    1
                  ],
                  "matches": "x2",
                  "rangeslider": {
                    "visible": false
                  },
                  "showticklabels": false
                },
                "xaxis2": {
                  "anchor": "y2",
                  "domain": [
                    0,
                    1
                  ]
                },
                "yaxis": {
                  "anchor": "x",
                  "domain": [
                    0.30000000000000004,
                    1
                  ],
                  "title": {
                    "text": "Preço"
                  }
                },
                "yaxis2": {
                  "anchor": "x2",
                  "domain": [
                    0,
                    0.20000000000000004
                  ]
                }
              }
            }
          },
          "metadata": {},
          "output_type": "display_data"
        }
      ],
      "source": [
        "# Criando subplots\n",
        "'''\n",
        "\"Primeiro, criamos uma figura que conterá nossos gráficos usando make_subplots.\n",
        "Isso nos permite ter múltiplos gráficos em uma única visualização.\n",
        "Aqui, teremos dois subplots: um para o gráfico de candlestick e outro para o volume de transações.\"\n",
        "\n",
        "'''\n",
        "fig = make_subplots(rows=2, cols=1, shared_xaxes=True,\n",
        "                    vertical_spacing=0.1,\n",
        "                    subplot_titles=('Candlesticks', 'Volume Transacionado'),\n",
        "                    row_width=[0.2, 0.7])\n",
        "\n",
        "'''\n",
        "\"No gráfico de candlestick, cada candle representa um dia de negociação,\n",
        "mostrando o preço de abertura, fechamento, máximo e mínimo. Vamos adicionar este gráfico à nossa figura.\"\n",
        "'''\n",
        "# Adicionando o gráfico de candlestick\n",
        "fig.add_trace(go.Candlestick(x=df.index,\n",
        "                             open=df['Abertura'],\n",
        "                             high=df['Maximo'],\n",
        "                             low=df['Minimo'],\n",
        "                             close=df['Fechamento'],\n",
        "                             name='Candlestick'),\n",
        "                             row=1, col=1)\n",
        "\n",
        "# Adicionando as médias móveis\n",
        "# Adicionamos também médias móveis ao mesmo subplot para análise de tendências\n",
        "fig.add_trace(go.Scatter(x=df.index,\n",
        "                         y=df['MA7'],\n",
        "                         mode='lines',\n",
        "                         name='MA7 - Média Móvel 7 Dias'),\n",
        "                         row=1, col=1)\n",
        "\n",
        "fig.add_trace(go.Scatter(x=df.index,\n",
        "                         y=df['MA14'],\n",
        "                         mode='lines',\n",
        "                         name='MA14 - Média Móvel 14 Dias'),\n",
        "                         row=1, col=1)\n",
        "\n",
        "# Adicionando o gráfico de barras para o volume\n",
        "# Em seguida, criamos um gráfico de barras para o volume de transações, que nos dá uma ideia da atividade de negociação naquele dia\n",
        "fig.add_trace(go.Bar(x=df.index,\n",
        "                     y=df['Volume'],\n",
        "                     name='Volume'),\n",
        "                     row=2, col=1)\n",
        "\n",
        "# Atualizando layout\n",
        "#Finalmente, configuramos o layout da figura, ajustando títulos, formatos de eixo e outras configurações para tornar o gráfico claro e legível.\n",
        "fig.update_layout(yaxis_title='Preço',\n",
        "                  xaxis_rangeslider_visible=False,  # Desativa o range slider\n",
        "                  width=1100, height=600)\n",
        "\n",
        "# Mostrando o gráfico\n",
        "fig.show()"
      ]
    },
    {
      "cell_type": "code",
      "execution_count": 12,
      "metadata": {
        "colab": {
          "base_uri": "https://localhost:8080/"
        },
        "id": "4Q1bxmsRK2F3",
        "outputId": "0b25d473-57c8-4a9d-c938-f7d008a886a6"
      },
      "outputs": [
        {
          "name": "stderr",
          "output_type": "stream",
          "text": [
            "[*********************100%%**********************]  1 of 1 completed\n"
          ]
        }
      ],
      "source": [
        "dados = yf.download('AAPL', start='2023-01-01', end='2023-12-31')"
      ]
    },
    {
      "cell_type": "code",
      "execution_count": 14,
      "metadata": {
        "colab": {
          "base_uri": "https://localhost:8080/",
          "height": 649
        },
        "id": "TwzZuUznKqYb",
        "outputId": "c057dafd-2e36-4d96-be38-7524978dc7a1"
      },
      "outputs": [
        {
          "data": {
            "image/png": "[encoded data removed]",
            "text/plain": [
              "<Figure size 1600x800 with 4 Axes>"
            ]
          },
          "metadata": {},
          "output_type": "display_data"
        }
      ],
      "source": [
        "mpf.plot(dados.head(30), type='candle', figsize = (16,8), volume=True, mav=(7,14), style = 'yahoo')"
      ]
    }
  ],
  "metadata": {
    "colab": {
      "provenance": []
    },
    "kernelspec": {
      "display_name": "Python 3",
      "name": "python3"
    },
    "language_info": {
      "codemirror_mode": {
        "name": "ipython",
        "version": 3
      },
      "file_extension": ".py",
      "mimetype": "text/x-python",
      "name": "python",
      "nbconvert_exporter": "python",
      "pygments_lexer": "ipython3",
      "version": "3.12.0"
    }
  },
  "nbformat": 4,
  "nbformat_minor": 0
}
