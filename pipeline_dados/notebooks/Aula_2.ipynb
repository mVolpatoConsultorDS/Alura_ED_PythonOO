{
  "cells": [
    {
      "cell_type": "markdown",
      "metadata": {
        "id": "kpSFmUqkR38M"
      },
      "source": [
        "##**Aula 1 - Fazendo leitura de arquivos CSV**\n",
        "\n",
        "Dados: \n",
        "- https://github.com/alura-cursos/Pandas/blob/main/superstore_data.csv\n",
        "- https://github.com/alura-cursos/Pandas/blob/main/superstore_data_ponto_virgula.csv"
      ]
    },
    {
      "cell_type": "markdown",
      "metadata": {
        "id": "3Y6rZlbkR7Em"
      },
      "source": [
        "###**Lendo arquivos CSV**"
      ]
    },
    {
      "cell_type": "code",
      "execution_count": null,
      "metadata": {
        "id": "9hop9Su4RptH"
      },
      "outputs": [],
      "source": [
        "import pandas as pd"
      ]
    },
    {
      "cell_type": "code",
      "execution_count": null,
      "metadata": {
        "id": "8gafmhj-R87B"
      },
      "outputs": [],
      "source": [
        "url = 'https://raw.githubusercontent.com/alura-cursos/Pandas/main/superstore_data.csv'"
      ]
    },
    {
      "cell_type": "code",
      "execution_count": null,
      "metadata": {
        "id": "gLG10aHjR9EU"
      },
      "outputs": [],
      "source": [
        "dados = pd.read_csv(url)"
      ]
    },
    {
      "cell_type": "code",
      "execution_count": null,
      "metadata": {
        "colab": {
          "base_uri": "https://localhost:8080/",
          "height": 299
        },
        "id": "jMGT8-uNR9G4",
        "outputId": "be3f3f9e-1d68-4668-aa18-ff62e0f3cdce"
      },
      "outputs": [],
      "source": [
        "dados.head()"
      ]
    },
    {
      "cell_type": "code",
      "execution_count": null,
      "metadata": {
        "id": "30nIB_tSSEG2"
      },
      "outputs": [],
      "source": [
        "url_2 = 'https://raw.githubusercontent.com/alura-cursos/Pandas/main/superstore_data_ponto_virgula.csv'"
      ]
    },
    {
      "cell_type": "code",
      "execution_count": null,
      "metadata": {
        "id": "Zly4YSTLSHRV"
      },
      "outputs": [],
      "source": [
        "dados_ponto_virgula = pd.read_csv(url_2)"
      ]
    },
    {
      "cell_type": "code",
      "execution_count": null,
      "metadata": {
        "colab": {
          "base_uri": "https://localhost:8080/",
          "height": 270
        },
        "id": "QHRB4dYjSHTh",
        "outputId": "09ba5e48-a09b-44d5-b236-6a38c31815f3"
      },
      "outputs": [],
      "source": [
        "dados_ponto_virgula.head()"
      ]
    },
    {
      "cell_type": "markdown",
      "metadata": {
        "id": "NYS6LsnUSNxf"
      },
      "source": [
        "###**Parâmetros da função read_csv**\n",
        "Documentação: https://pandas.pydata.org/pandas-docs/stable/reference/api/pandas.read_csv.html"
      ]
    },
    {
      "cell_type": "code",
      "execution_count": null,
      "metadata": {
        "id": "Fl3Scblt6T9z"
      },
      "outputs": [],
      "source": [
        "dados_ponto_virgula = pd.read_csv(url_2, sep = ';')"
      ]
    },
    {
      "cell_type": "code",
      "execution_count": null,
      "metadata": {
        "colab": {
          "base_uri": "https://localhost:8080/",
          "height": 487
        },
        "id": "vYEXFwA371ux",
        "outputId": "b4e23058-31a3-4622-9da0-1a0fc3671d6c"
      },
      "outputs": [],
      "source": [
        "dados_ponto_virgula"
      ]
    },
    {
      "cell_type": "code",
      "execution_count": null,
      "metadata": {
        "colab": {
          "base_uri": "https://localhost:8080/",
          "height": 299
        },
        "id": "WUBt-fs0K_oM",
        "outputId": "8788903c-418b-410d-93f9-c64008d02840"
      },
      "outputs": [],
      "source": [
        "dados_primeiras_linhas = pd.read_csv(url,nrows=5)\n",
        "dados_primeiras_linhas "
      ]
    },
    {
      "cell_type": "code",
      "execution_count": null,
      "metadata": {
        "colab": {
          "base_uri": "https://localhost:8080/",
          "height": 423
        },
        "id": "qaPSsZ_AK_ze",
        "outputId": "f0d063f5-b498-4e71-8273-302dd0460437"
      },
      "outputs": [],
      "source": [
        "dados_selecao = pd.read_csv(url, usecols=['Id', 'Year_Birth', 'Income'])\n",
        "dados_selecao"
      ]
    },
    {
      "cell_type": "code",
      "execution_count": null,
      "metadata": {
        "colab": {
          "base_uri": "https://localhost:8080/",
          "height": 423
        },
        "id": "oiJZ-NR8K_62",
        "outputId": "2a64d8cb-0d6b-40a7-fe14-1727af28f1e9"
      },
      "outputs": [],
      "source": [
        "dados_selecao = pd.read_csv(url, usecols=[0,1,4])\n",
        "dados_selecao"
      ]
    },
    {
      "cell_type": "markdown",
      "metadata": {
        "id": "l0psP9t5AbvH"
      },
      "source": [
        "###**Escrevendo arquivos CSV**\n",
        "\n",
        "Documentação: https://pandas.pydata.org/docs/reference/api/pandas.DataFrame.to_csv.html"
      ]
    },
    {
      "cell_type": "code",
      "execution_count": null,
      "metadata": {
        "id": "-k3SgjCSk5lp"
      },
      "outputs": [],
      "source": [
        "dados_selecao.to_csv('clientes_mercado.csv')"
      ]
    },
    {
      "cell_type": "code",
      "execution_count": null,
      "metadata": {
        "colab": {
          "base_uri": "https://localhost:8080/",
          "height": 423
        },
        "id": "HiHslm7FlGbD",
        "outputId": "3938e100-3994-4a0c-a0fe-5586e4ada57e"
      },
      "outputs": [],
      "source": [
        "clientes_mercado = pd.read_csv('/content/clientes_mercado.csv')\n",
        "clientes_mercado"
      ]
    },
    {
      "cell_type": "code",
      "execution_count": null,
      "metadata": {
        "id": "SZEnpG7PjPKs"
      },
      "outputs": [],
      "source": [
        "dados_selecao.to_csv('dados_mercado.csv', index=False)"
      ]
    },
    {
      "cell_type": "code",
      "execution_count": null,
      "metadata": {
        "colab": {
          "base_uri": "https://localhost:8080/",
          "height": 423
        },
        "id": "xkFNJ3FDko0W",
        "outputId": "0267adf3-0b40-4cfa-a609-ae2bfb756191"
      },
      "outputs": [],
      "source": [
        "dados_mercado = pd.read_csv('/content/dados_mercado.csv')\n",
        "dados_mercado"
      ]
    },
    {
      "cell_type": "markdown",
      "metadata": {
        "id": "TtY5qySo_tO-"
      },
      "source": [
        "##**Aula 2 - Utilizando planilhas**\n",
        "\n",
        "Dados: https://github.com/alura-cursos/Pandas/blob/main/emissoes_CO2.xlsx"
      ]
    },
    {
      "cell_type": "markdown",
      "metadata": {
        "id": "CAvQWlTsAg-_"
      },
      "source": [
        "###**Lendo arquivos Excel**"
      ]
    },
    {
      "cell_type": "code",
      "execution_count": 1,
      "metadata": {
        "id": "LRsK8UngGXF1"
      },
      "outputs": [
        {
          "name": "stderr",
          "output_type": "stream",
          "text": [
            "/var/folders/d9/brlhwdl57s1_jww2c2ls_0wr0000gn/T/ipykernel_7871/4080736814.py:1: DeprecationWarning: \n",
            "Pyarrow will become a required dependency of pandas in the next major release of pandas (pandas 3.0),\n",
            "(to allow more performant data types, such as the Arrow string type, and better interoperability with other libraries)\n",
            "but was not found to be installed on your system.\n",
            "If this would cause problems for you,\n",
            "please provide us feedback at https://github.com/pandas-dev/pandas/issues/54466\n",
            "        \n",
            "  import pandas as pd\n"
          ]
        }
      ],
      "source": [
        "import pandas as pd"
      ]
    },
    {
      "cell_type": "code",
      "execution_count": 4,
      "metadata": {
        "id": "btVS8UXaGd3w"
      },
      "outputs": [],
      "source": [
        "url = '../data_raw/emissoes_CO2.xlsx'"
      ]
    },
    {
      "cell_type": "code",
      "execution_count": 5,
      "metadata": {
        "id": "A9MFFnIPGXIV"
      },
      "outputs": [],
      "source": [
        "dados_co2 = pd.read_excel(url)"
      ]
    },
    {
      "cell_type": "code",
      "execution_count": 6,
      "metadata": {
        "colab": {
          "base_uri": "https://localhost:8080/",
          "height": 267
        },
        "id": "aMZ2bFl0KTeO",
        "outputId": "b56783a1-ed24-4815-fe34-f5599a7276d6"
      },
      "outputs": [
        {
          "data": {
            "text/html": [
              "<div>\n",
              "<style scoped>\n",
              "    .dataframe tbody tr th:only-of-type {\n",
              "        vertical-align: middle;\n",
              "    }\n",
              "\n",
              "    .dataframe tbody tr th {\n",
              "        vertical-align: top;\n",
              "    }\n",
              "\n",
              "    .dataframe thead th {\n",
              "        text-align: right;\n",
              "    }\n",
              "</style>\n",
              "<table border=\"1\" class=\"dataframe\">\n",
              "  <thead>\n",
              "    <tr style=\"text-align: right;\">\n",
              "      <th></th>\n",
              "      <th>País</th>\n",
              "      <th>ISO 3166-1 alpha-3</th>\n",
              "      <th>Ano</th>\n",
              "      <th>Total</th>\n",
              "      <th>Carvão</th>\n",
              "      <th>Oléo</th>\n",
              "      <th>Gás</th>\n",
              "      <th>Cimento</th>\n",
              "      <th>Queima</th>\n",
              "      <th>Outro</th>\n",
              "      <th>Per Capita</th>\n",
              "    </tr>\n",
              "  </thead>\n",
              "  <tbody>\n",
              "    <tr>\n",
              "      <th>0</th>\n",
              "      <td>Afeganistão</td>\n",
              "      <td>AFG</td>\n",
              "      <td>1750</td>\n",
              "      <td>0.0</td>\n",
              "      <td>NaN</td>\n",
              "      <td>NaN</td>\n",
              "      <td>NaN</td>\n",
              "      <td>NaN</td>\n",
              "      <td>NaN</td>\n",
              "      <td>NaN</td>\n",
              "      <td>NaN</td>\n",
              "    </tr>\n",
              "    <tr>\n",
              "      <th>1</th>\n",
              "      <td>Afeganistão</td>\n",
              "      <td>AFG</td>\n",
              "      <td>1751</td>\n",
              "      <td>0.0</td>\n",
              "      <td>NaN</td>\n",
              "      <td>NaN</td>\n",
              "      <td>NaN</td>\n",
              "      <td>NaN</td>\n",
              "      <td>NaN</td>\n",
              "      <td>NaN</td>\n",
              "      <td>NaN</td>\n",
              "    </tr>\n",
              "    <tr>\n",
              "      <th>2</th>\n",
              "      <td>Afeganistão</td>\n",
              "      <td>AFG</td>\n",
              "      <td>1752</td>\n",
              "      <td>0.0</td>\n",
              "      <td>NaN</td>\n",
              "      <td>NaN</td>\n",
              "      <td>NaN</td>\n",
              "      <td>NaN</td>\n",
              "      <td>NaN</td>\n",
              "      <td>NaN</td>\n",
              "      <td>NaN</td>\n",
              "    </tr>\n",
              "    <tr>\n",
              "      <th>3</th>\n",
              "      <td>Afeganistão</td>\n",
              "      <td>AFG</td>\n",
              "      <td>1753</td>\n",
              "      <td>0.0</td>\n",
              "      <td>NaN</td>\n",
              "      <td>NaN</td>\n",
              "      <td>NaN</td>\n",
              "      <td>NaN</td>\n",
              "      <td>NaN</td>\n",
              "      <td>NaN</td>\n",
              "      <td>NaN</td>\n",
              "    </tr>\n",
              "    <tr>\n",
              "      <th>4</th>\n",
              "      <td>Afeganistão</td>\n",
              "      <td>AFG</td>\n",
              "      <td>1754</td>\n",
              "      <td>0.0</td>\n",
              "      <td>NaN</td>\n",
              "      <td>NaN</td>\n",
              "      <td>NaN</td>\n",
              "      <td>NaN</td>\n",
              "      <td>NaN</td>\n",
              "      <td>NaN</td>\n",
              "      <td>NaN</td>\n",
              "    </tr>\n",
              "  </tbody>\n",
              "</table>\n",
              "</div>"
            ],
            "text/plain": [
              "          País ISO 3166-1 alpha-3   Ano  Total  Carvão  Oléo  Gás  Cimento  \\\n",
              "0  Afeganistão                AFG  1750    0.0     NaN   NaN  NaN      NaN   \n",
              "1  Afeganistão                AFG  1751    0.0     NaN   NaN  NaN      NaN   \n",
              "2  Afeganistão                AFG  1752    0.0     NaN   NaN  NaN      NaN   \n",
              "3  Afeganistão                AFG  1753    0.0     NaN   NaN  NaN      NaN   \n",
              "4  Afeganistão                AFG  1754    0.0     NaN   NaN  NaN      NaN   \n",
              "\n",
              "   Queima  Outro  Per Capita  \n",
              "0     NaN    NaN         NaN  \n",
              "1     NaN    NaN         NaN  \n",
              "2     NaN    NaN         NaN  \n",
              "3     NaN    NaN         NaN  \n",
              "4     NaN    NaN         NaN  "
            ]
          },
          "execution_count": 6,
          "metadata": {},
          "output_type": "execute_result"
        }
      ],
      "source": [
        "dados_co2.head()"
      ]
    },
    {
      "cell_type": "code",
      "execution_count": 8,
      "metadata": {
        "colab": {
          "base_uri": "https://localhost:8080/"
        },
        "id": "5U0gxqjdMEuZ",
        "outputId": "62981279-d0ce-42ba-fa58-1f8b2fab7da3"
      },
      "outputs": [
        {
          "data": {
            "text/plain": [
              "['emissoes_C02', 'emissoes_percapita', 'fontes']"
            ]
          },
          "execution_count": 8,
          "metadata": {},
          "output_type": "execute_result"
        }
      ],
      "source": [
        "pd.ExcelFile(url).sheet_names"
      ]
    },
    {
      "cell_type": "markdown",
      "metadata": {
        "id": "qbP9g4RKa0VH"
      },
      "source": [
        "###**Parâmetros da função read_excel**\n",
        "\n",
        "Documentação: https://pandas.pydata.org/docs/reference/api/pandas.read_excel.html"
      ]
    },
    {
      "cell_type": "code",
      "execution_count": 9,
      "metadata": {
        "id": "qKVHmfPYKc-U"
      },
      "outputs": [],
      "source": [
        "percapita = pd.read_excel(url, sheet_name='emissoes_percapita')"
      ]
    },
    {
      "cell_type": "code",
      "execution_count": 10,
      "metadata": {
        "colab": {
          "base_uri": "https://localhost:8080/",
          "height": 250
        },
        "id": "AKT7zwGwKpOc",
        "outputId": "b518f585-8e50-4ebc-f006-b0b481c43f9e"
      },
      "outputs": [
        {
          "data": {
            "text/html": [
              "<div>\n",
              "<style scoped>\n",
              "    .dataframe tbody tr th:only-of-type {\n",
              "        vertical-align: middle;\n",
              "    }\n",
              "\n",
              "    .dataframe tbody tr th {\n",
              "        vertical-align: top;\n",
              "    }\n",
              "\n",
              "    .dataframe thead th {\n",
              "        text-align: right;\n",
              "    }\n",
              "</style>\n",
              "<table border=\"1\" class=\"dataframe\">\n",
              "  <thead>\n",
              "    <tr style=\"text-align: right;\">\n",
              "      <th></th>\n",
              "      <th>País</th>\n",
              "      <th>ISO 3166-1 alpha-3</th>\n",
              "      <th>Ano</th>\n",
              "      <th>Total</th>\n",
              "      <th>Carvão</th>\n",
              "      <th>Óleo</th>\n",
              "      <th>Gás</th>\n",
              "      <th>Cimento</th>\n",
              "      <th>Queima</th>\n",
              "      <th>Outro</th>\n",
              "    </tr>\n",
              "  </thead>\n",
              "  <tbody>\n",
              "    <tr>\n",
              "      <th>0</th>\n",
              "      <td>Afeganistão</td>\n",
              "      <td>AFG</td>\n",
              "      <td>1750</td>\n",
              "      <td>NaN</td>\n",
              "      <td>NaN</td>\n",
              "      <td>NaN</td>\n",
              "      <td>NaN</td>\n",
              "      <td>NaN</td>\n",
              "      <td>NaN</td>\n",
              "      <td>NaN</td>\n",
              "    </tr>\n",
              "    <tr>\n",
              "      <th>1</th>\n",
              "      <td>Afeganistão</td>\n",
              "      <td>AFG</td>\n",
              "      <td>1751</td>\n",
              "      <td>NaN</td>\n",
              "      <td>NaN</td>\n",
              "      <td>NaN</td>\n",
              "      <td>NaN</td>\n",
              "      <td>NaN</td>\n",
              "      <td>NaN</td>\n",
              "      <td>NaN</td>\n",
              "    </tr>\n",
              "    <tr>\n",
              "      <th>2</th>\n",
              "      <td>Afeganistão</td>\n",
              "      <td>AFG</td>\n",
              "      <td>1752</td>\n",
              "      <td>NaN</td>\n",
              "      <td>NaN</td>\n",
              "      <td>NaN</td>\n",
              "      <td>NaN</td>\n",
              "      <td>NaN</td>\n",
              "      <td>NaN</td>\n",
              "      <td>NaN</td>\n",
              "    </tr>\n",
              "    <tr>\n",
              "      <th>3</th>\n",
              "      <td>Afeganistão</td>\n",
              "      <td>AFG</td>\n",
              "      <td>1753</td>\n",
              "      <td>NaN</td>\n",
              "      <td>NaN</td>\n",
              "      <td>NaN</td>\n",
              "      <td>NaN</td>\n",
              "      <td>NaN</td>\n",
              "      <td>NaN</td>\n",
              "      <td>NaN</td>\n",
              "    </tr>\n",
              "    <tr>\n",
              "      <th>4</th>\n",
              "      <td>Afeganistão</td>\n",
              "      <td>AFG</td>\n",
              "      <td>1754</td>\n",
              "      <td>NaN</td>\n",
              "      <td>NaN</td>\n",
              "      <td>NaN</td>\n",
              "      <td>NaN</td>\n",
              "      <td>NaN</td>\n",
              "      <td>NaN</td>\n",
              "      <td>NaN</td>\n",
              "    </tr>\n",
              "  </tbody>\n",
              "</table>\n",
              "</div>"
            ],
            "text/plain": [
              "          País ISO 3166-1 alpha-3   Ano  Total  Carvão  Óleo  Gás  Cimento  \\\n",
              "0  Afeganistão                AFG  1750    NaN     NaN   NaN  NaN      NaN   \n",
              "1  Afeganistão                AFG  1751    NaN     NaN   NaN  NaN      NaN   \n",
              "2  Afeganistão                AFG  1752    NaN     NaN   NaN  NaN      NaN   \n",
              "3  Afeganistão                AFG  1753    NaN     NaN   NaN  NaN      NaN   \n",
              "4  Afeganistão                AFG  1754    NaN     NaN   NaN  NaN      NaN   \n",
              "\n",
              "   Queima  Outro  \n",
              "0     NaN    NaN  \n",
              "1     NaN    NaN  \n",
              "2     NaN    NaN  \n",
              "3     NaN    NaN  \n",
              "4     NaN    NaN  "
            ]
          },
          "execution_count": 10,
          "metadata": {},
          "output_type": "execute_result"
        }
      ],
      "source": [
        "percapita.head()"
      ]
    },
    {
      "cell_type": "code",
      "execution_count": 11,
      "metadata": {
        "id": "8yytRxClKx-L"
      },
      "outputs": [],
      "source": [
        "fontes = pd.read_excel(url, sheet_name='fontes')"
      ]
    },
    {
      "cell_type": "code",
      "execution_count": 12,
      "metadata": {
        "colab": {
          "base_uri": "https://localhost:8080/",
          "height": 302
        },
        "id": "sCunf8-XK11d",
        "outputId": "3c3cf97c-ca5c-4c1f-a503-85a2610ffcb4"
      },
      "outputs": [
        {
          "data": {
            "text/html": [
              "<div>\n",
              "<style scoped>\n",
              "    .dataframe tbody tr th:only-of-type {\n",
              "        vertical-align: middle;\n",
              "    }\n",
              "\n",
              "    .dataframe tbody tr th {\n",
              "        vertical-align: top;\n",
              "    }\n",
              "\n",
              "    .dataframe thead th {\n",
              "        text-align: right;\n",
              "    }\n",
              "</style>\n",
              "<table border=\"1\" class=\"dataframe\">\n",
              "  <thead>\n",
              "    <tr style=\"text-align: right;\">\n",
              "      <th></th>\n",
              "      <th>País</th>\n",
              "      <th>ISO 3166-1 alpha-3</th>\n",
              "      <th>Ano</th>\n",
              "      <th>Total</th>\n",
              "      <th>Carvão</th>\n",
              "      <th>Oléo</th>\n",
              "      <th>Gás</th>\n",
              "      <th>Cimento</th>\n",
              "      <th>Queima</th>\n",
              "      <th>Outro</th>\n",
              "      <th>Per Capita</th>\n",
              "    </tr>\n",
              "  </thead>\n",
              "  <tbody>\n",
              "    <tr>\n",
              "      <th>0</th>\n",
              "      <td>Afeganistão</td>\n",
              "      <td>AFG</td>\n",
              "      <td>1750</td>\n",
              "      <td>[NONE]</td>\n",
              "      <td>[NONE]</td>\n",
              "      <td>[NONE]</td>\n",
              "      <td>[NONE]</td>\n",
              "      <td>[NONE]</td>\n",
              "      <td>[NONE]</td>\n",
              "      <td>[NONE]</td>\n",
              "      <td>[NONE]</td>\n",
              "    </tr>\n",
              "    <tr>\n",
              "      <th>1</th>\n",
              "      <td>Afeganistão</td>\n",
              "      <td>AFG</td>\n",
              "      <td>1751</td>\n",
              "      <td>[NONE]</td>\n",
              "      <td>[NONE]</td>\n",
              "      <td>[NONE]</td>\n",
              "      <td>[NONE]</td>\n",
              "      <td>[NONE]</td>\n",
              "      <td>[NONE]</td>\n",
              "      <td>[NONE]</td>\n",
              "      <td>[NONE]</td>\n",
              "    </tr>\n",
              "    <tr>\n",
              "      <th>2</th>\n",
              "      <td>Afeganistão</td>\n",
              "      <td>AFG</td>\n",
              "      <td>1752</td>\n",
              "      <td>[NONE]</td>\n",
              "      <td>[NONE]</td>\n",
              "      <td>[NONE]</td>\n",
              "      <td>[NONE]</td>\n",
              "      <td>[NONE]</td>\n",
              "      <td>[NONE]</td>\n",
              "      <td>[NONE]</td>\n",
              "      <td>[NONE]</td>\n",
              "    </tr>\n",
              "    <tr>\n",
              "      <th>3</th>\n",
              "      <td>Afeganistão</td>\n",
              "      <td>AFG</td>\n",
              "      <td>1753</td>\n",
              "      <td>[NONE]</td>\n",
              "      <td>[NONE]</td>\n",
              "      <td>[NONE]</td>\n",
              "      <td>[NONE]</td>\n",
              "      <td>[NONE]</td>\n",
              "      <td>[NONE]</td>\n",
              "      <td>[NONE]</td>\n",
              "      <td>[NONE]</td>\n",
              "    </tr>\n",
              "    <tr>\n",
              "      <th>4</th>\n",
              "      <td>Afeganistão</td>\n",
              "      <td>AFG</td>\n",
              "      <td>1754</td>\n",
              "      <td>[NONE]</td>\n",
              "      <td>[NONE]</td>\n",
              "      <td>[NONE]</td>\n",
              "      <td>[NONE]</td>\n",
              "      <td>[NONE]</td>\n",
              "      <td>[NONE]</td>\n",
              "      <td>[NONE]</td>\n",
              "      <td>[NONE]</td>\n",
              "    </tr>\n",
              "  </tbody>\n",
              "</table>\n",
              "</div>"
            ],
            "text/plain": [
              "          País ISO 3166-1 alpha-3   Ano   Total  Carvão    Oléo     Gás  \\\n",
              "0  Afeganistão                AFG  1750  [NONE]  [NONE]  [NONE]  [NONE]   \n",
              "1  Afeganistão                AFG  1751  [NONE]  [NONE]  [NONE]  [NONE]   \n",
              "2  Afeganistão                AFG  1752  [NONE]  [NONE]  [NONE]  [NONE]   \n",
              "3  Afeganistão                AFG  1753  [NONE]  [NONE]  [NONE]  [NONE]   \n",
              "4  Afeganistão                AFG  1754  [NONE]  [NONE]  [NONE]  [NONE]   \n",
              "\n",
              "  Cimento  Queima   Outro Per Capita  \n",
              "0  [NONE]  [NONE]  [NONE]     [NONE]  \n",
              "1  [NONE]  [NONE]  [NONE]     [NONE]  \n",
              "2  [NONE]  [NONE]  [NONE]     [NONE]  \n",
              "3  [NONE]  [NONE]  [NONE]     [NONE]  \n",
              "4  [NONE]  [NONE]  [NONE]     [NONE]  "
            ]
          },
          "execution_count": 12,
          "metadata": {},
          "output_type": "execute_result"
        }
      ],
      "source": [
        "fontes.head()"
      ]
    },
    {
      "cell_type": "code",
      "execution_count": 13,
      "metadata": {
        "id": "gU-Dr5q5a6VV"
      },
      "outputs": [],
      "source": [
        "intervalo = pd.read_excel(url, sheet_name='emissoes_C02', usecols= 'A:D')"
      ]
    },
    {
      "cell_type": "code",
      "execution_count": 14,
      "metadata": {
        "colab": {
          "base_uri": "https://localhost:8080/",
          "height": 423
        },
        "id": "mPEtECZWa6cm",
        "outputId": "cf72a972-8d9b-4254-bf96-f64840545409"
      },
      "outputs": [
        {
          "data": {
            "text/html": [
              "<div>\n",
              "<style scoped>\n",
              "    .dataframe tbody tr th:only-of-type {\n",
              "        vertical-align: middle;\n",
              "    }\n",
              "\n",
              "    .dataframe tbody tr th {\n",
              "        vertical-align: top;\n",
              "    }\n",
              "\n",
              "    .dataframe thead th {\n",
              "        text-align: right;\n",
              "    }\n",
              "</style>\n",
              "<table border=\"1\" class=\"dataframe\">\n",
              "  <thead>\n",
              "    <tr style=\"text-align: right;\">\n",
              "      <th></th>\n",
              "      <th>País</th>\n",
              "      <th>ISO 3166-1 alpha-3</th>\n",
              "      <th>Ano</th>\n",
              "      <th>Total</th>\n",
              "    </tr>\n",
              "  </thead>\n",
              "  <tbody>\n",
              "    <tr>\n",
              "      <th>0</th>\n",
              "      <td>Afeganistão</td>\n",
              "      <td>AFG</td>\n",
              "      <td>1750</td>\n",
              "      <td>0.000000e+00</td>\n",
              "    </tr>\n",
              "    <tr>\n",
              "      <th>1</th>\n",
              "      <td>Afeganistão</td>\n",
              "      <td>AFG</td>\n",
              "      <td>1751</td>\n",
              "      <td>0.000000e+00</td>\n",
              "    </tr>\n",
              "    <tr>\n",
              "      <th>2</th>\n",
              "      <td>Afeganistão</td>\n",
              "      <td>AFG</td>\n",
              "      <td>1752</td>\n",
              "      <td>0.000000e+00</td>\n",
              "    </tr>\n",
              "    <tr>\n",
              "      <th>3</th>\n",
              "      <td>Afeganistão</td>\n",
              "      <td>AFG</td>\n",
              "      <td>1753</td>\n",
              "      <td>0.000000e+00</td>\n",
              "    </tr>\n",
              "    <tr>\n",
              "      <th>4</th>\n",
              "      <td>Afeganistão</td>\n",
              "      <td>AFG</td>\n",
              "      <td>1754</td>\n",
              "      <td>0.000000e+00</td>\n",
              "    </tr>\n",
              "    <tr>\n",
              "      <th>...</th>\n",
              "      <td>...</td>\n",
              "      <td>...</td>\n",
              "      <td>...</td>\n",
              "      <td>...</td>\n",
              "    </tr>\n",
              "    <tr>\n",
              "      <th>63099</th>\n",
              "      <td>Global</td>\n",
              "      <td>WLD</td>\n",
              "      <td>2017</td>\n",
              "      <td>3.609674e+10</td>\n",
              "    </tr>\n",
              "    <tr>\n",
              "      <th>63100</th>\n",
              "      <td>Global</td>\n",
              "      <td>WLD</td>\n",
              "      <td>2018</td>\n",
              "      <td>3.682651e+10</td>\n",
              "    </tr>\n",
              "    <tr>\n",
              "      <th>63101</th>\n",
              "      <td>Global</td>\n",
              "      <td>WLD</td>\n",
              "      <td>2019</td>\n",
              "      <td>3.708256e+10</td>\n",
              "    </tr>\n",
              "    <tr>\n",
              "      <th>63102</th>\n",
              "      <td>Global</td>\n",
              "      <td>WLD</td>\n",
              "      <td>2020</td>\n",
              "      <td>3.526409e+10</td>\n",
              "    </tr>\n",
              "    <tr>\n",
              "      <th>63103</th>\n",
              "      <td>Global</td>\n",
              "      <td>WLD</td>\n",
              "      <td>2021</td>\n",
              "      <td>3.712385e+10</td>\n",
              "    </tr>\n",
              "  </tbody>\n",
              "</table>\n",
              "<p>63104 rows × 4 columns</p>\n",
              "</div>"
            ],
            "text/plain": [
              "              País ISO 3166-1 alpha-3   Ano         Total\n",
              "0      Afeganistão                AFG  1750  0.000000e+00\n",
              "1      Afeganistão                AFG  1751  0.000000e+00\n",
              "2      Afeganistão                AFG  1752  0.000000e+00\n",
              "3      Afeganistão                AFG  1753  0.000000e+00\n",
              "4      Afeganistão                AFG  1754  0.000000e+00\n",
              "...            ...                ...   ...           ...\n",
              "63099       Global                WLD  2017  3.609674e+10\n",
              "63100       Global                WLD  2018  3.682651e+10\n",
              "63101       Global                WLD  2019  3.708256e+10\n",
              "63102       Global                WLD  2020  3.526409e+10\n",
              "63103       Global                WLD  2021  3.712385e+10\n",
              "\n",
              "[63104 rows x 4 columns]"
            ]
          },
          "execution_count": 14,
          "metadata": {},
          "output_type": "execute_result"
        }
      ],
      "source": [
        "intervalo"
      ]
    },
    {
      "cell_type": "code",
      "execution_count": 15,
      "metadata": {
        "id": "cW3RhLAkT0Yj"
      },
      "outputs": [],
      "source": [
        "intervalo_2 = pd.read_excel(url, sheet_name='emissoes_C02', usecols= 'A:D', nrows=10)"
      ]
    },
    {
      "cell_type": "code",
      "execution_count": 16,
      "metadata": {
        "colab": {
          "base_uri": "https://localhost:8080/",
          "height": 363
        },
        "id": "grUbjNFKT6uA",
        "outputId": "74554a34-8d4b-4d63-ea70-b84e70f26bf1"
      },
      "outputs": [
        {
          "data": {
            "text/html": [
              "<div>\n",
              "<style scoped>\n",
              "    .dataframe tbody tr th:only-of-type {\n",
              "        vertical-align: middle;\n",
              "    }\n",
              "\n",
              "    .dataframe tbody tr th {\n",
              "        vertical-align: top;\n",
              "    }\n",
              "\n",
              "    .dataframe thead th {\n",
              "        text-align: right;\n",
              "    }\n",
              "</style>\n",
              "<table border=\"1\" class=\"dataframe\">\n",
              "  <thead>\n",
              "    <tr style=\"text-align: right;\">\n",
              "      <th></th>\n",
              "      <th>País</th>\n",
              "      <th>ISO 3166-1 alpha-3</th>\n",
              "      <th>Ano</th>\n",
              "      <th>Total</th>\n",
              "    </tr>\n",
              "  </thead>\n",
              "  <tbody>\n",
              "    <tr>\n",
              "      <th>0</th>\n",
              "      <td>Afeganistão</td>\n",
              "      <td>AFG</td>\n",
              "      <td>1750</td>\n",
              "      <td>0</td>\n",
              "    </tr>\n",
              "    <tr>\n",
              "      <th>1</th>\n",
              "      <td>Afeganistão</td>\n",
              "      <td>AFG</td>\n",
              "      <td>1751</td>\n",
              "      <td>0</td>\n",
              "    </tr>\n",
              "    <tr>\n",
              "      <th>2</th>\n",
              "      <td>Afeganistão</td>\n",
              "      <td>AFG</td>\n",
              "      <td>1752</td>\n",
              "      <td>0</td>\n",
              "    </tr>\n",
              "    <tr>\n",
              "      <th>3</th>\n",
              "      <td>Afeganistão</td>\n",
              "      <td>AFG</td>\n",
              "      <td>1753</td>\n",
              "      <td>0</td>\n",
              "    </tr>\n",
              "    <tr>\n",
              "      <th>4</th>\n",
              "      <td>Afeganistão</td>\n",
              "      <td>AFG</td>\n",
              "      <td>1754</td>\n",
              "      <td>0</td>\n",
              "    </tr>\n",
              "    <tr>\n",
              "      <th>5</th>\n",
              "      <td>Afeganistão</td>\n",
              "      <td>AFG</td>\n",
              "      <td>1755</td>\n",
              "      <td>0</td>\n",
              "    </tr>\n",
              "    <tr>\n",
              "      <th>6</th>\n",
              "      <td>Afeganistão</td>\n",
              "      <td>AFG</td>\n",
              "      <td>1756</td>\n",
              "      <td>0</td>\n",
              "    </tr>\n",
              "    <tr>\n",
              "      <th>7</th>\n",
              "      <td>Afeganistão</td>\n",
              "      <td>AFG</td>\n",
              "      <td>1757</td>\n",
              "      <td>0</td>\n",
              "    </tr>\n",
              "    <tr>\n",
              "      <th>8</th>\n",
              "      <td>Afeganistão</td>\n",
              "      <td>AFG</td>\n",
              "      <td>1758</td>\n",
              "      <td>0</td>\n",
              "    </tr>\n",
              "    <tr>\n",
              "      <th>9</th>\n",
              "      <td>Afeganistão</td>\n",
              "      <td>AFG</td>\n",
              "      <td>1759</td>\n",
              "      <td>0</td>\n",
              "    </tr>\n",
              "  </tbody>\n",
              "</table>\n",
              "</div>"
            ],
            "text/plain": [
              "          País ISO 3166-1 alpha-3   Ano  Total\n",
              "0  Afeganistão                AFG  1750      0\n",
              "1  Afeganistão                AFG  1751      0\n",
              "2  Afeganistão                AFG  1752      0\n",
              "3  Afeganistão                AFG  1753      0\n",
              "4  Afeganistão                AFG  1754      0\n",
              "5  Afeganistão                AFG  1755      0\n",
              "6  Afeganistão                AFG  1756      0\n",
              "7  Afeganistão                AFG  1757      0\n",
              "8  Afeganistão                AFG  1758      0\n",
              "9  Afeganistão                AFG  1759      0"
            ]
          },
          "execution_count": 16,
          "metadata": {},
          "output_type": "execute_result"
        }
      ],
      "source": [
        "intervalo_2"
      ]
    },
    {
      "cell_type": "markdown",
      "metadata": {
        "id": "IK3DRdzVAhG6"
      },
      "source": [
        "###**Escrevendo arquivos Excel**"
      ]
    },
    {
      "cell_type": "code",
      "execution_count": 17,
      "metadata": {
        "id": "SBuYqmLNRj_d"
      },
      "outputs": [],
      "source": [
        "percapita.to_excel('../data_raw/co2_percapita.xlsx', index=False)"
      ]
    },
    {
      "cell_type": "code",
      "execution_count": 20,
      "metadata": {
        "colab": {
          "base_uri": "https://localhost:8080/",
          "height": 539
        },
        "id": "zbvMy8R1R4lp",
        "outputId": "dd340185-3240-4025-d7fa-69b1ec587290"
      },
      "outputs": [
        {
          "data": {
            "text/html": [
              "<div>\n",
              "<style scoped>\n",
              "    .dataframe tbody tr th:only-of-type {\n",
              "        vertical-align: middle;\n",
              "    }\n",
              "\n",
              "    .dataframe tbody tr th {\n",
              "        vertical-align: top;\n",
              "    }\n",
              "\n",
              "    .dataframe thead th {\n",
              "        text-align: right;\n",
              "    }\n",
              "</style>\n",
              "<table border=\"1\" class=\"dataframe\">\n",
              "  <thead>\n",
              "    <tr style=\"text-align: right;\">\n",
              "      <th></th>\n",
              "      <th>País</th>\n",
              "      <th>ISO 3166-1 alpha-3</th>\n",
              "      <th>Ano</th>\n",
              "      <th>Total</th>\n",
              "      <th>Carvão</th>\n",
              "      <th>Óleo</th>\n",
              "      <th>Gás</th>\n",
              "      <th>Cimento</th>\n",
              "      <th>Queima</th>\n",
              "      <th>Outro</th>\n",
              "    </tr>\n",
              "  </thead>\n",
              "  <tbody>\n",
              "    <tr>\n",
              "      <th>0</th>\n",
              "      <td>Afeganistão</td>\n",
              "      <td>AFG</td>\n",
              "      <td>1750</td>\n",
              "      <td>NaN</td>\n",
              "      <td>NaN</td>\n",
              "      <td>NaN</td>\n",
              "      <td>NaN</td>\n",
              "      <td>NaN</td>\n",
              "      <td>NaN</td>\n",
              "      <td>NaN</td>\n",
              "    </tr>\n",
              "    <tr>\n",
              "      <th>1</th>\n",
              "      <td>Afeganistão</td>\n",
              "      <td>AFG</td>\n",
              "      <td>1751</td>\n",
              "      <td>NaN</td>\n",
              "      <td>NaN</td>\n",
              "      <td>NaN</td>\n",
              "      <td>NaN</td>\n",
              "      <td>NaN</td>\n",
              "      <td>NaN</td>\n",
              "      <td>NaN</td>\n",
              "    </tr>\n",
              "    <tr>\n",
              "      <th>2</th>\n",
              "      <td>Afeganistão</td>\n",
              "      <td>AFG</td>\n",
              "      <td>1752</td>\n",
              "      <td>NaN</td>\n",
              "      <td>NaN</td>\n",
              "      <td>NaN</td>\n",
              "      <td>NaN</td>\n",
              "      <td>NaN</td>\n",
              "      <td>NaN</td>\n",
              "      <td>NaN</td>\n",
              "    </tr>\n",
              "    <tr>\n",
              "      <th>3</th>\n",
              "      <td>Afeganistão</td>\n",
              "      <td>AFG</td>\n",
              "      <td>1753</td>\n",
              "      <td>NaN</td>\n",
              "      <td>NaN</td>\n",
              "      <td>NaN</td>\n",
              "      <td>NaN</td>\n",
              "      <td>NaN</td>\n",
              "      <td>NaN</td>\n",
              "      <td>NaN</td>\n",
              "    </tr>\n",
              "    <tr>\n",
              "      <th>4</th>\n",
              "      <td>Afeganistão</td>\n",
              "      <td>AFG</td>\n",
              "      <td>1754</td>\n",
              "      <td>NaN</td>\n",
              "      <td>NaN</td>\n",
              "      <td>NaN</td>\n",
              "      <td>NaN</td>\n",
              "      <td>NaN</td>\n",
              "      <td>NaN</td>\n",
              "      <td>NaN</td>\n",
              "    </tr>\n",
              "    <tr>\n",
              "      <th>...</th>\n",
              "      <td>...</td>\n",
              "      <td>...</td>\n",
              "      <td>...</td>\n",
              "      <td>...</td>\n",
              "      <td>...</td>\n",
              "      <td>...</td>\n",
              "      <td>...</td>\n",
              "      <td>...</td>\n",
              "      <td>...</td>\n",
              "      <td>...</td>\n",
              "    </tr>\n",
              "    <tr>\n",
              "      <th>63099</th>\n",
              "      <td>Global</td>\n",
              "      <td>WLD</td>\n",
              "      <td>2017</td>\n",
              "      <td>4749682.0</td>\n",
              "      <td>1908857.0</td>\n",
              "      <td>1610910.0</td>\n",
              "      <td>940144.0</td>\n",
              "      <td>198416.0</td>\n",
              "      <td>51579.0</td>\n",
              "      <td>39776.0</td>\n",
              "    </tr>\n",
              "    <tr>\n",
              "      <th>63100</th>\n",
              "      <td>Global</td>\n",
              "      <td>WLD</td>\n",
              "      <td>2018</td>\n",
              "      <td>4792753.0</td>\n",
              "      <td>1919213.0</td>\n",
              "      <td>1596350.0</td>\n",
              "      <td>979965.0</td>\n",
              "      <td>204225.0</td>\n",
              "      <td>53634.0</td>\n",
              "      <td>39366.0</td>\n",
              "    </tr>\n",
              "    <tr>\n",
              "      <th>63101</th>\n",
              "      <td>Global</td>\n",
              "      <td>WLD</td>\n",
              "      <td>2019</td>\n",
              "      <td>4775633.0</td>\n",
              "      <td>1896468.0</td>\n",
              "      <td>1589920.0</td>\n",
              "      <td>984878.0</td>\n",
              "      <td>208309.0</td>\n",
              "      <td>56569.0</td>\n",
              "      <td>39490.0</td>\n",
              "    </tr>\n",
              "    <tr>\n",
              "      <th>63102</th>\n",
              "      <td>Global</td>\n",
              "      <td>WLD</td>\n",
              "      <td>2020</td>\n",
              "      <td>4497423.0</td>\n",
              "      <td>1807760.0</td>\n",
              "      <td>1427353.0</td>\n",
              "      <td>963695.0</td>\n",
              "      <td>208844.0</td>\n",
              "      <td>51981.0</td>\n",
              "      <td>37789.0</td>\n",
              "    </tr>\n",
              "    <tr>\n",
              "      <th>63103</th>\n",
              "      <td>Global</td>\n",
              "      <td>WLD</td>\n",
              "      <td>2021</td>\n",
              "      <td>4693699.0</td>\n",
              "      <td>1893923.0</td>\n",
              "      <td>1496614.0</td>\n",
              "      <td>1001585.0</td>\n",
              "      <td>211472.0</td>\n",
              "      <td>52663.0</td>\n",
              "      <td>37443.0</td>\n",
              "    </tr>\n",
              "  </tbody>\n",
              "</table>\n",
              "<p>63104 rows × 10 columns</p>\n",
              "</div>"
            ],
            "text/plain": [
              "              País ISO 3166-1 alpha-3   Ano      Total     Carvão       Óleo  \\\n",
              "0      Afeganistão                AFG  1750        NaN        NaN        NaN   \n",
              "1      Afeganistão                AFG  1751        NaN        NaN        NaN   \n",
              "2      Afeganistão                AFG  1752        NaN        NaN        NaN   \n",
              "3      Afeganistão                AFG  1753        NaN        NaN        NaN   \n",
              "4      Afeganistão                AFG  1754        NaN        NaN        NaN   \n",
              "...            ...                ...   ...        ...        ...        ...   \n",
              "63099       Global                WLD  2017  4749682.0  1908857.0  1610910.0   \n",
              "63100       Global                WLD  2018  4792753.0  1919213.0  1596350.0   \n",
              "63101       Global                WLD  2019  4775633.0  1896468.0  1589920.0   \n",
              "63102       Global                WLD  2020  4497423.0  1807760.0  1427353.0   \n",
              "63103       Global                WLD  2021  4693699.0  1893923.0  1496614.0   \n",
              "\n",
              "             Gás   Cimento   Queima    Outro  \n",
              "0            NaN       NaN      NaN      NaN  \n",
              "1            NaN       NaN      NaN      NaN  \n",
              "2            NaN       NaN      NaN      NaN  \n",
              "3            NaN       NaN      NaN      NaN  \n",
              "4            NaN       NaN      NaN      NaN  \n",
              "...          ...       ...      ...      ...  \n",
              "63099   940144.0  198416.0  51579.0  39776.0  \n",
              "63100   979965.0  204225.0  53634.0  39366.0  \n",
              "63101   984878.0  208309.0  56569.0  39490.0  \n",
              "63102   963695.0  208844.0  51981.0  37789.0  \n",
              "63103  1001585.0  211472.0  52663.0  37443.0  \n",
              "\n",
              "[63104 rows x 10 columns]"
            ]
          },
          "execution_count": 20,
          "metadata": {},
          "output_type": "execute_result"
        }
      ],
      "source": [
        "pd.read_excel('../data_raw/co2_percapita.xlsx')"
      ]
    },
    {
      "cell_type": "markdown",
      "metadata": {
        "id": "GDpur7scfFlw"
      },
      "source": [
        "###**Lendo dados do Google Planilhas**"
      ]
    },
    {
      "cell_type": "markdown",
      "metadata": {
        "id": "U-E1-ZMdBt0v"
      },
      "source": [
        "link da planilha: https://docs.google.com/spreadsheets/d/1lzq0k-41-MbbS63C3Q9i1wPvLkSJt9zhr4Jolt1vEog/edit?usp=sharing"
      ]
    },
    {
      "cell_type": "code",
      "execution_count": 25,
      "metadata": {
        "id": "8lxenQpajyiE"
      },
      "outputs": [],
      "source": [
        "#https://docs.google.com/spreadsheets/d/1LbRgf1L0XjCxKk9EuWAbFjdfduUbtVAy-IulxjVZcYg/edit?usp=sharing\n",
        "sheet_id = '1LbRgf1L0XjCxKk9EuWAbFjdfduUbtVAy-IulxjVZcYg'\n",
        "url = f'https://docs.google.com/spreadsheets/d/{sheet_id}/gviz/tq?tqx=out:csv&sheet'"
      ]
    },
    {
      "cell_type": "code",
      "execution_count": 31,
      "metadata": {},
      "outputs": [],
      "source": [
        "import io\n",
        "\n",
        "import google.auth\n",
        "from googleapiclient.discovery import build\n",
        "from googleapiclient.errors import HttpError\n",
        "from googleapiclient.http import MediaIoBaseDownload\n",
        "\n",
        "\n",
        "def download_file(real_file_id):\n",
        "    \"\"\"Downloads a file\n",
        "    Args:\n",
        "        real_file_id: ID of the file to download\n",
        "    Returns : IO object with location.\n",
        "\n",
        "    Load pre-authorized user credentials from the environment.\n",
        "    TODO(developer) - See https://developers.google.com/identity\n",
        "    for guides on implementing OAuth2 for the application.\n",
        "    \"\"\"\n",
        "    creds, _ = google.auth.default()\n",
        "\n",
        "    try:\n",
        "        # create drive api client\n",
        "        service = build('drive', 'v3', credentials=creds)\n",
        "\n",
        "        file_id = real_file_id\n",
        "\n",
        "        # pylint: disable=maybe-no-member\n",
        "        request = service.files().get_media(fileId=file_id)\n",
        "        file = io.BytesIO()\n",
        "        downloader = MediaIoBaseDownload(file, request)\n",
        "        done = False\n",
        "        while done is False:\n",
        "            status, done = downloader.next_chunk()\n",
        "            print(F'Download {int(status.progress() * 100)}.')\n",
        "\n",
        "    except HttpError as error:\n",
        "        print(F'An error occurred: {error}')\n",
        "        file = None\n",
        "\n",
        "    return file.getvalue()"
      ]
    },
    {
      "cell_type": "code",
      "execution_count": 32,
      "metadata": {
        "id": "dv9y1bTupyoW"
      },
      "outputs": [
        {
          "ename": "DefaultCredentialsError",
          "evalue": "Your default credentials were not found. To set up Application Default Credentials, see https://cloud.google.com/docs/authentication/external/set-up-adc for more information.",
          "output_type": "error",
          "traceback": [
            "\u001b[0;31m---------------------------------------------------------------------------\u001b[0m",
            "\u001b[0;31mDefaultCredentialsError\u001b[0m                   Traceback (most recent call last)",
            "Cell \u001b[0;32mIn[32], line 1\u001b[0m\n\u001b[0;32m----> 1\u001b[0m dados_co2_sheets \u001b[38;5;241m=\u001b[39m \u001b[43mdownload_file\u001b[49m\u001b[43m(\u001b[49m\u001b[43msheet_id\u001b[49m\u001b[43m)\u001b[49m\n",
            "Cell \u001b[0;32mIn[31], line 19\u001b[0m, in \u001b[0;36mdownload_file\u001b[0;34m(real_file_id)\u001b[0m\n\u001b[1;32m      9\u001b[0m \u001b[38;5;28;01mdef\u001b[39;00m \u001b[38;5;21mdownload_file\u001b[39m(real_file_id):\n\u001b[1;32m     10\u001b[0m \u001b[38;5;250m    \u001b[39m\u001b[38;5;124;03m\"\"\"Downloads a file\u001b[39;00m\n\u001b[1;32m     11\u001b[0m \u001b[38;5;124;03m    Args:\u001b[39;00m\n\u001b[1;32m     12\u001b[0m \u001b[38;5;124;03m        real_file_id: ID of the file to download\u001b[39;00m\n\u001b[0;32m   (...)\u001b[0m\n\u001b[1;32m     17\u001b[0m \u001b[38;5;124;03m    for guides on implementing OAuth2 for the application.\u001b[39;00m\n\u001b[1;32m     18\u001b[0m \u001b[38;5;124;03m    \"\"\"\u001b[39;00m\n\u001b[0;32m---> 19\u001b[0m     creds, _ \u001b[38;5;241m=\u001b[39m \u001b[43mgoogle\u001b[49m\u001b[38;5;241;43m.\u001b[39;49m\u001b[43mauth\u001b[49m\u001b[38;5;241;43m.\u001b[39;49m\u001b[43mdefault\u001b[49m\u001b[43m(\u001b[49m\u001b[43m)\u001b[49m\n\u001b[1;32m     21\u001b[0m     \u001b[38;5;28;01mtry\u001b[39;00m:\n\u001b[1;32m     22\u001b[0m         \u001b[38;5;66;03m# create drive api client\u001b[39;00m\n\u001b[1;32m     23\u001b[0m         service \u001b[38;5;241m=\u001b[39m build(\u001b[38;5;124m'\u001b[39m\u001b[38;5;124mdrive\u001b[39m\u001b[38;5;124m'\u001b[39m, \u001b[38;5;124m'\u001b[39m\u001b[38;5;124mv3\u001b[39m\u001b[38;5;124m'\u001b[39m, credentials\u001b[38;5;241m=\u001b[39mcreds)\n",
            "File \u001b[0;32m~/Google Drive/Alura/Alura_ED_PythonOO/.venv/lib/python3.12/site-packages/google/auth/_default.py:691\u001b[0m, in \u001b[0;36mdefault\u001b[0;34m(scopes, request, quota_project_id, default_scopes)\u001b[0m\n\u001b[1;32m    683\u001b[0m             _LOGGER\u001b[38;5;241m.\u001b[39mwarning(\n\u001b[1;32m    684\u001b[0m                 \u001b[38;5;124m\"\u001b[39m\u001b[38;5;124mNo project ID could be determined. Consider running \u001b[39m\u001b[38;5;124m\"\u001b[39m\n\u001b[1;32m    685\u001b[0m                 \u001b[38;5;124m\"\u001b[39m\u001b[38;5;124m`gcloud config set project` or setting the \u001b[39m\u001b[38;5;132;01m%s\u001b[39;00m\u001b[38;5;124m \u001b[39m\u001b[38;5;124m\"\u001b[39m\n\u001b[1;32m    686\u001b[0m                 \u001b[38;5;124m\"\u001b[39m\u001b[38;5;124menvironment variable\u001b[39m\u001b[38;5;124m\"\u001b[39m,\n\u001b[1;32m    687\u001b[0m                 environment_vars\u001b[38;5;241m.\u001b[39mPROJECT,\n\u001b[1;32m    688\u001b[0m             )\n\u001b[1;32m    689\u001b[0m         \u001b[38;5;28;01mreturn\u001b[39;00m credentials, effective_project_id\n\u001b[0;32m--> 691\u001b[0m \u001b[38;5;28;01mraise\u001b[39;00m exceptions\u001b[38;5;241m.\u001b[39mDefaultCredentialsError(_CLOUD_SDK_MISSING_CREDENTIALS)\n",
            "\u001b[0;31mDefaultCredentialsError\u001b[0m: Your default credentials were not found. To set up Application Default Credentials, see https://cloud.google.com/docs/authentication/external/set-up-adc for more information."
          ]
        }
      ],
      "source": [
        "dados_co2_sheets = download_file(sheet_id)"
      ]
    },
    {
      "cell_type": "code",
      "execution_count": null,
      "metadata": {
        "colab": {
          "base_uri": "https://localhost:8080/",
          "height": 539
        },
        "id": "IZ7dW_gAp1vT",
        "outputId": "41fa6afa-f299-4b1b-b7df-65894648d743"
      },
      "outputs": [],
      "source": [
        "dados_co2_sheets"
      ]
    },
    {
      "cell_type": "code",
      "execution_count": null,
      "metadata": {
        "id": "-4n9ayZLg35U"
      },
      "outputs": [],
      "source": [
        "sheet_id = '1lzq0k-41-MbbS63C3Q9i1wPvLkSJt9zhr4Jolt1vEog'\n",
        "sheet_name = 'emissoes_percapita'\n",
        "url_percapita = f'https://docs.google.com/spreadsheets/d/{sheet_id}/gviz/tq?tqx=out:csv&sheet={sheet_name}'"
      ]
    },
    {
      "cell_type": "code",
      "execution_count": null,
      "metadata": {
        "id": "yeQ9Phj1ggeG"
      },
      "outputs": [],
      "source": [
        "percapita_sheets = pd.read_csv(url_percapita)"
      ]
    },
    {
      "cell_type": "code",
      "execution_count": null,
      "metadata": {
        "colab": {
          "base_uri": "https://localhost:8080/",
          "height": 250
        },
        "id": "iC7OXnFxglbX",
        "outputId": "aee3f0bc-d11f-413b-a3ac-5f73ba130abd"
      },
      "outputs": [],
      "source": [
        "percapita_sheets.head()"
      ]
    },
    {
      "cell_type": "code",
      "execution_count": null,
      "metadata": {
        "id": "cOmFu3MTjRwh"
      },
      "outputs": [],
      "source": [
        "sheet_id = '1lzq0k-41-MbbS63C3Q9i1wPvLkSJt9zhr4Jolt1vEog'\n",
        "sheet_name = 'fontes'\n",
        "url_fontes = f'https://docs.google.com/spreadsheets/d/{sheet_id}/gviz/tq?tqx=out:csv&sheet={sheet_name}'"
      ]
    },
    {
      "cell_type": "code",
      "execution_count": null,
      "metadata": {
        "id": "qn9PEJCLjRzX"
      },
      "outputs": [],
      "source": [
        "fontes_sheets = pd.read_csv(url_fontes)"
      ]
    },
    {
      "cell_type": "code",
      "execution_count": null,
      "metadata": {
        "colab": {
          "base_uri": "https://localhost:8080/",
          "height": 285
        },
        "id": "eoVt7i1LjR2Q",
        "outputId": "f8f1fdc8-226e-4079-9f14-c9d7e64fb59e"
      },
      "outputs": [],
      "source": [
        "fontes_sheets.head()"
      ]
    }
  ],
  "metadata": {
    "colab": {
      "provenance": [],
      "toc_visible": true
    },
    "kernelspec": {
      "display_name": "Python 3",
      "name": "python3"
    },
    "language_info": {
      "codemirror_mode": {
        "name": "ipython",
        "version": 3
      },
      "file_extension": ".py",
      "mimetype": "text/x-python",
      "name": "python",
      "nbconvert_exporter": "python",
      "pygments_lexer": "ipython3",
      "version": "3.12.0"
    }
  },
  "nbformat": 4,
  "nbformat_minor": 0
}
