{
  "cells": [
    {
      "cell_type": "markdown",
      "metadata": {
        "id": "kpSFmUqkR38M"
      },
      "source": [
        "##**Aula 1 - Fazendo leitura de arquivos CSV**\n",
        "\n",
        "Dados: \n",
        "- https://github.com/alura-cursos/Pandas/blob/main/superstore_data.csv\n",
        "- https://github.com/alura-cursos/Pandas/blob/main/superstore_data_ponto_virgula.csv"
      ]
    },
    {
      "cell_type": "markdown",
      "metadata": {
        "id": "3Y6rZlbkR7Em"
      },
      "source": [
        "###**Lendo arquivos CSV**"
      ]
    },
    {
      "cell_type": "code",
      "execution_count": null,
      "metadata": {
        "id": "9hop9Su4RptH"
      },
      "outputs": [],
      "source": [
        "import pandas as pd"
      ]
    },
    {
      "cell_type": "code",
      "execution_count": null,
      "metadata": {
        "id": "8gafmhj-R87B"
      },
      "outputs": [],
      "source": [
        "url = 'https://raw.githubusercontent.com/alura-cursos/Pandas/main/superstore_data.csv'"
      ]
    },
    {
      "cell_type": "code",
      "execution_count": null,
      "metadata": {
        "id": "gLG10aHjR9EU"
      },
      "outputs": [],
      "source": [
        "dados = pd.read_csv(url)"
      ]
    },
    {
      "cell_type": "code",
      "execution_count": null,
      "metadata": {
        "colab": {
          "base_uri": "https://localhost:8080/",
          "height": 299
        },
        "id": "jMGT8-uNR9G4",
        "outputId": "be3f3f9e-1d68-4668-aa18-ff62e0f3cdce"
      },
      "outputs": [],
      "source": [
        "dados.head()"
      ]
    },
    {
      "cell_type": "code",
      "execution_count": null,
      "metadata": {
        "id": "30nIB_tSSEG2"
      },
      "outputs": [],
      "source": [
        "url_2 = 'https://raw.githubusercontent.com/alura-cursos/Pandas/main/superstore_data_ponto_virgula.csv'"
      ]
    },
    {
      "cell_type": "code",
      "execution_count": null,
      "metadata": {
        "id": "Zly4YSTLSHRV"
      },
      "outputs": [],
      "source": [
        "dados_ponto_virgula = pd.read_csv(url_2)"
      ]
    },
    {
      "cell_type": "code",
      "execution_count": null,
      "metadata": {
        "colab": {
          "base_uri": "https://localhost:8080/",
          "height": 270
        },
        "id": "QHRB4dYjSHTh",
        "outputId": "09ba5e48-a09b-44d5-b236-6a38c31815f3"
      },
      "outputs": [],
      "source": [
        "dados_ponto_virgula.head()"
      ]
    },
    {
      "cell_type": "markdown",
      "metadata": {
        "id": "NYS6LsnUSNxf"
      },
      "source": [
        "###**Parâmetros da função read_csv**\n",
        "Documentação: https://pandas.pydata.org/pandas-docs/stable/reference/api/pandas.read_csv.html"
      ]
    },
    {
      "cell_type": "code",
      "execution_count": null,
      "metadata": {
        "id": "Fl3Scblt6T9z"
      },
      "outputs": [],
      "source": [
        "dados_ponto_virgula = pd.read_csv(url_2, sep = ';')"
      ]
    },
    {
      "cell_type": "code",
      "execution_count": null,
      "metadata": {
        "colab": {
          "base_uri": "https://localhost:8080/",
          "height": 487
        },
        "id": "vYEXFwA371ux",
        "outputId": "b4e23058-31a3-4622-9da0-1a0fc3671d6c"
      },
      "outputs": [],
      "source": [
        "dados_ponto_virgula"
      ]
    },
    {
      "cell_type": "code",
      "execution_count": null,
      "metadata": {
        "colab": {
          "base_uri": "https://localhost:8080/",
          "height": 299
        },
        "id": "WUBt-fs0K_oM",
        "outputId": "8788903c-418b-410d-93f9-c64008d02840"
      },
      "outputs": [],
      "source": [
        "dados_primeiras_linhas = pd.read_csv(url,nrows=5)\n",
        "dados_primeiras_linhas "
      ]
    },
    {
      "cell_type": "code",
      "execution_count": null,
      "metadata": {
        "colab": {
          "base_uri": "https://localhost:8080/",
          "height": 423
        },
        "id": "qaPSsZ_AK_ze",
        "outputId": "f0d063f5-b498-4e71-8273-302dd0460437"
      },
      "outputs": [],
      "source": [
        "dados_selecao = pd.read_csv(url, usecols=['Id', 'Year_Birth', 'Income'])\n",
        "dados_selecao"
      ]
    },
    {
      "cell_type": "code",
      "execution_count": null,
      "metadata": {
        "colab": {
          "base_uri": "https://localhost:8080/",
          "height": 423
        },
        "id": "oiJZ-NR8K_62",
        "outputId": "2a64d8cb-0d6b-40a7-fe14-1727af28f1e9"
      },
      "outputs": [],
      "source": [
        "dados_selecao = pd.read_csv(url, usecols=[0,1,4])\n",
        "dados_selecao"
      ]
    },
    {
      "cell_type": "markdown",
      "metadata": {
        "id": "l0psP9t5AbvH"
      },
      "source": [
        "###**Escrevendo arquivos CSV**\n",
        "\n",
        "Documentação: https://pandas.pydata.org/docs/reference/api/pandas.DataFrame.to_csv.html"
      ]
    },
    {
      "cell_type": "code",
      "execution_count": null,
      "metadata": {
        "id": "-k3SgjCSk5lp"
      },
      "outputs": [],
      "source": [
        "dados_selecao.to_csv('clientes_mercado.csv')"
      ]
    },
    {
      "cell_type": "code",
      "execution_count": null,
      "metadata": {
        "colab": {
          "base_uri": "https://localhost:8080/",
          "height": 423
        },
        "id": "HiHslm7FlGbD",
        "outputId": "3938e100-3994-4a0c-a0fe-5586e4ada57e"
      },
      "outputs": [],
      "source": [
        "clientes_mercado = pd.read_csv('/content/clientes_mercado.csv')\n",
        "clientes_mercado"
      ]
    },
    {
      "cell_type": "code",
      "execution_count": null,
      "metadata": {
        "id": "SZEnpG7PjPKs"
      },
      "outputs": [],
      "source": [
        "dados_selecao.to_csv('dados_mercado.csv', index=False)"
      ]
    },
    {
      "cell_type": "code",
      "execution_count": null,
      "metadata": {
        "colab": {
          "base_uri": "https://localhost:8080/",
          "height": 423
        },
        "id": "xkFNJ3FDko0W",
        "outputId": "0267adf3-0b40-4cfa-a609-ae2bfb756191"
      },
      "outputs": [],
      "source": [
        "dados_mercado = pd.read_csv('/content/dados_mercado.csv')\n",
        "dados_mercado"
      ]
    },
    {
      "cell_type": "markdown",
      "metadata": {
        "id": "TtY5qySo_tO-"
      },
      "source": [
        "##**Aula 2 - Utilizando planilhas**\n",
        "\n",
        "Dados: https://github.com/alura-cursos/Pandas/blob/main/emissoes_CO2.xlsx"
      ]
    },
    {
      "cell_type": "markdown",
      "metadata": {
        "id": "CAvQWlTsAg-_"
      },
      "source": [
        "###**Lendo arquivos Excel**"
      ]
    },
    {
      "cell_type": "code",
      "execution_count": null,
      "metadata": {
        "id": "LRsK8UngGXF1"
      },
      "outputs": [],
      "source": [
        "import pandas as pd"
      ]
    },
    {
      "cell_type": "code",
      "execution_count": null,
      "metadata": {
        "id": "btVS8UXaGd3w"
      },
      "outputs": [],
      "source": [
        "url = 'https://github.com/alura-cursos/Pandas/blob/main/emissoes_CO2.xlsx?raw=True'"
      ]
    },
    {
      "cell_type": "code",
      "execution_count": null,
      "metadata": {
        "id": "A9MFFnIPGXIV"
      },
      "outputs": [],
      "source": [
        "dados_co2 = pd.read_excel(url)"
      ]
    },
    {
      "cell_type": "code",
      "execution_count": null,
      "metadata": {
        "colab": {
          "base_uri": "https://localhost:8080/",
          "height": 267
        },
        "id": "aMZ2bFl0KTeO",
        "outputId": "b56783a1-ed24-4815-fe34-f5599a7276d6"
      },
      "outputs": [],
      "source": [
        "dados_co2.head()"
      ]
    },
    {
      "cell_type": "code",
      "execution_count": null,
      "metadata": {
        "colab": {
          "base_uri": "https://localhost:8080/"
        },
        "id": "5U0gxqjdMEuZ",
        "outputId": "62981279-d0ce-42ba-fa58-1f8b2fab7da3"
      },
      "outputs": [],
      "source": [
        "pd.ExcelFile(url).sheet_names"
      ]
    },
    {
      "cell_type": "markdown",
      "metadata": {
        "id": "qbP9g4RKa0VH"
      },
      "source": [
        "###**Parâmetros da função read_excel**\n",
        "\n",
        "Documentação: https://pandas.pydata.org/docs/reference/api/pandas.read_excel.html"
      ]
    },
    {
      "cell_type": "code",
      "execution_count": null,
      "metadata": {
        "id": "qKVHmfPYKc-U"
      },
      "outputs": [],
      "source": [
        "percapita = pd.read_excel(url, sheet_name='emissoes_percapita')"
      ]
    },
    {
      "cell_type": "code",
      "execution_count": null,
      "metadata": {
        "colab": {
          "base_uri": "https://localhost:8080/",
          "height": 250
        },
        "id": "AKT7zwGwKpOc",
        "outputId": "b518f585-8e50-4ebc-f006-b0b481c43f9e"
      },
      "outputs": [],
      "source": [
        "percapita.head()"
      ]
    },
    {
      "cell_type": "code",
      "execution_count": null,
      "metadata": {
        "id": "8yytRxClKx-L"
      },
      "outputs": [],
      "source": [
        "fontes = pd.read_excel(url, sheet_name='fontes')"
      ]
    },
    {
      "cell_type": "code",
      "execution_count": null,
      "metadata": {
        "colab": {
          "base_uri": "https://localhost:8080/",
          "height": 302
        },
        "id": "sCunf8-XK11d",
        "outputId": "3c3cf97c-ca5c-4c1f-a503-85a2610ffcb4"
      },
      "outputs": [],
      "source": [
        "fontes.head()"
      ]
    },
    {
      "cell_type": "code",
      "execution_count": null,
      "metadata": {
        "id": "gU-Dr5q5a6VV"
      },
      "outputs": [],
      "source": [
        "intervalo = pd.read_excel(url, sheet_name='emissoes_C02', usecols= 'A:D')"
      ]
    },
    {
      "cell_type": "code",
      "execution_count": null,
      "metadata": {
        "colab": {
          "base_uri": "https://localhost:8080/",
          "height": 423
        },
        "id": "mPEtECZWa6cm",
        "outputId": "cf72a972-8d9b-4254-bf96-f64840545409"
      },
      "outputs": [],
      "source": [
        "intervalo"
      ]
    },
    {
      "cell_type": "code",
      "execution_count": null,
      "metadata": {
        "id": "cW3RhLAkT0Yj"
      },
      "outputs": [],
      "source": [
        "intervalo_2 = pd.read_excel(url, sheet_name='emissoes_C02', usecols= 'A:D', nrows=10)"
      ]
    },
    {
      "cell_type": "code",
      "execution_count": null,
      "metadata": {
        "colab": {
          "base_uri": "https://localhost:8080/",
          "height": 363
        },
        "id": "grUbjNFKT6uA",
        "outputId": "74554a34-8d4b-4d63-ea70-b84e70f26bf1"
      },
      "outputs": [],
      "source": [
        "intervalo_2"
      ]
    },
    {
      "cell_type": "markdown",
      "metadata": {
        "id": "IK3DRdzVAhG6"
      },
      "source": [
        "###**Escrevendo arquivos Excel**"
      ]
    },
    {
      "cell_type": "code",
      "execution_count": null,
      "metadata": {
        "id": "SBuYqmLNRj_d"
      },
      "outputs": [],
      "source": [
        "percapita.to_excel('co2_percapita.xlsx', index=False)"
      ]
    },
    {
      "cell_type": "code",
      "execution_count": null,
      "metadata": {
        "colab": {
          "base_uri": "https://localhost:8080/",
          "height": 539
        },
        "id": "zbvMy8R1R4lp",
        "outputId": "dd340185-3240-4025-d7fa-69b1ec587290"
      },
      "outputs": [],
      "source": [
        "pd.read_excel('/content/co2_percapita.xlsx')"
      ]
    },
    {
      "cell_type": "markdown",
      "metadata": {
        "id": "GDpur7scfFlw"
      },
      "source": [
        "###**Lendo dados do Google Planilhas**"
      ]
    },
    {
      "cell_type": "markdown",
      "metadata": {
        "id": "U-E1-ZMdBt0v"
      },
      "source": [
        "link da planilha: https://docs.google.com/spreadsheets/d/1lzq0k-41-MbbS63C3Q9i1wPvLkSJt9zhr4Jolt1vEog/edit?usp=sharing"
      ]
    },
    {
      "cell_type": "code",
      "execution_count": null,
      "metadata": {
        "id": "8lxenQpajyiE"
      },
      "outputs": [],
      "source": [
        "sheet_id = '1lzq0k-41-MbbS63C3Q9i1wPvLkSJt9zhr4Jolt1vEog'\n",
        "url = f'https://docs.google.com/spreadsheets/d/{sheet_id}/gviz/tq?tqx=out:csv&sheet'"
      ]
    },
    {
      "cell_type": "code",
      "execution_count": null,
      "metadata": {
        "id": "dv9y1bTupyoW"
      },
      "outputs": [],
      "source": [
        "dados_co2_sheets = pd.read_csv(url)"
      ]
    },
    {
      "cell_type": "code",
      "execution_count": null,
      "metadata": {
        "colab": {
          "base_uri": "https://localhost:8080/",
          "height": 539
        },
        "id": "IZ7dW_gAp1vT",
        "outputId": "41fa6afa-f299-4b1b-b7df-65894648d743"
      },
      "outputs": [],
      "source": [
        "dados_co2_sheets"
      ]
    },
    {
      "cell_type": "code",
      "execution_count": null,
      "metadata": {
        "id": "-4n9ayZLg35U"
      },
      "outputs": [],
      "source": [
        "sheet_id = '1lzq0k-41-MbbS63C3Q9i1wPvLkSJt9zhr4Jolt1vEog'\n",
        "sheet_name = 'emissoes_percapita'\n",
        "url_percapita = f'https://docs.google.com/spreadsheets/d/{sheet_id}/gviz/tq?tqx=out:csv&sheet={sheet_name}'"
      ]
    },
    {
      "cell_type": "code",
      "execution_count": null,
      "metadata": {
        "id": "yeQ9Phj1ggeG"
      },
      "outputs": [],
      "source": [
        "percapita_sheets = pd.read_csv(url_percapita)"
      ]
    },
    {
      "cell_type": "code",
      "execution_count": null,
      "metadata": {
        "colab": {
          "base_uri": "https://localhost:8080/",
          "height": 250
        },
        "id": "iC7OXnFxglbX",
        "outputId": "aee3f0bc-d11f-413b-a3ac-5f73ba130abd"
      },
      "outputs": [],
      "source": [
        "percapita_sheets.head()"
      ]
    },
    {
      "cell_type": "code",
      "execution_count": null,
      "metadata": {
        "id": "cOmFu3MTjRwh"
      },
      "outputs": [],
      "source": [
        "sheet_id = '1lzq0k-41-MbbS63C3Q9i1wPvLkSJt9zhr4Jolt1vEog'\n",
        "sheet_name = 'fontes'\n",
        "url_fontes = f'https://docs.google.com/spreadsheets/d/{sheet_id}/gviz/tq?tqx=out:csv&sheet={sheet_name}'"
      ]
    },
    {
      "cell_type": "code",
      "execution_count": null,
      "metadata": {
        "id": "qn9PEJCLjRzX"
      },
      "outputs": [],
      "source": [
        "fontes_sheets = pd.read_csv(url_fontes)"
      ]
    },
    {
      "cell_type": "code",
      "execution_count": null,
      "metadata": {
        "colab": {
          "base_uri": "https://localhost:8080/",
          "height": 285
        },
        "id": "eoVt7i1LjR2Q",
        "outputId": "f8f1fdc8-226e-4079-9f14-c9d7e64fb59e"
      },
      "outputs": [],
      "source": [
        "fontes_sheets.head()"
      ]
    },
    {
      "cell_type": "markdown",
      "metadata": {
        "id": "ybfZ8pAn_vye"
      },
      "source": [
        "##**Aula 3 - Manipulando arquivos JSON**\n",
        "\n",
        "Dados: \n",
        "- https://github.com/alura-cursos/Pandas/blob/main/pacientes.json\n",
        "- https://github.com/alura-cursos/Pandas/blob/main/pacientes_2.json"
      ]
    },
    {
      "cell_type": "markdown",
      "metadata": {
        "id": "XPpnxD8XArRt"
      },
      "source": [
        "###**Lendo arquivos JSON**"
      ]
    },
    {
      "cell_type": "code",
      "execution_count": null,
      "metadata": {
        "id": "wr7hB_PZ4xQo"
      },
      "outputs": [],
      "source": [
        "import pandas as pd"
      ]
    },
    {
      "cell_type": "code",
      "execution_count": 3,
      "metadata": {
        "id": "LUrn_N9l0gSY"
      },
      "outputs": [],
      "source": [
        "dados_pacientes = pd.read_json('../data_raw/pacientes.json')"
      ]
    },
    {
      "cell_type": "code",
      "execution_count": 4,
      "metadata": {
        "colab": {
          "base_uri": "https://localhost:8080/",
          "height": 487
        },
        "id": "W9MpvMCZ00aI",
        "outputId": "dfe73903-59f9-45eb-f079-0964d8c77364"
      },
      "outputs": [
        {
          "data": {
            "text/html": [
              "<div>\n",
              "<style scoped>\n",
              "    .dataframe tbody tr th:only-of-type {\n",
              "        vertical-align: middle;\n",
              "    }\n",
              "\n",
              "    .dataframe tbody tr th {\n",
              "        vertical-align: top;\n",
              "    }\n",
              "\n",
              "    .dataframe thead th {\n",
              "        text-align: right;\n",
              "    }\n",
              "</style>\n",
              "<table border=\"1\" class=\"dataframe\">\n",
              "  <thead>\n",
              "    <tr style=\"text-align: right;\">\n",
              "      <th></th>\n",
              "      <th>ID_paciente</th>\n",
              "      <th>Doenca_cardiaca</th>\n",
              "      <th>IMC</th>\n",
              "      <th>Fumante</th>\n",
              "      <th>Consumo_alcool</th>\n",
              "      <th>AVC</th>\n",
              "      <th>Saude_fisica</th>\n",
              "      <th>Saude_mental</th>\n",
              "      <th>Dificuldade_caminhar</th>\n",
              "      <th>Sexo_biologico</th>\n",
              "      <th>Faixa_etaria</th>\n",
              "      <th>Raca</th>\n",
              "      <th>Diabetes</th>\n",
              "      <th>Atividade_fisica</th>\n",
              "      <th>Saude_geral</th>\n",
              "      <th>Horas_sono</th>\n",
              "      <th>Asma</th>\n",
              "      <th>Doenca_renal</th>\n",
              "      <th>Cancer_pele</th>\n",
              "    </tr>\n",
              "  </thead>\n",
              "  <tbody>\n",
              "    <tr>\n",
              "      <th>0</th>\n",
              "      <td>0</td>\n",
              "      <td>Nao</td>\n",
              "      <td>16.60</td>\n",
              "      <td>Sim</td>\n",
              "      <td>Nao</td>\n",
              "      <td>Nao</td>\n",
              "      <td>3</td>\n",
              "      <td>30</td>\n",
              "      <td>Nao</td>\n",
              "      <td>Feminino</td>\n",
              "      <td>55-59</td>\n",
              "      <td>Branca</td>\n",
              "      <td>Sim</td>\n",
              "      <td>Sim</td>\n",
              "      <td>Muito boa</td>\n",
              "      <td>5</td>\n",
              "      <td>Sim</td>\n",
              "      <td>Nao</td>\n",
              "      <td>Sim</td>\n",
              "    </tr>\n",
              "    <tr>\n",
              "      <th>1</th>\n",
              "      <td>1</td>\n",
              "      <td>Nao</td>\n",
              "      <td>20.34</td>\n",
              "      <td>Nao</td>\n",
              "      <td>Nao</td>\n",
              "      <td>Sim</td>\n",
              "      <td>0</td>\n",
              "      <td>0</td>\n",
              "      <td>Nao</td>\n",
              "      <td>Feminino</td>\n",
              "      <td>80 ou +</td>\n",
              "      <td>Branca</td>\n",
              "      <td>Nao</td>\n",
              "      <td>Sim</td>\n",
              "      <td>Muito boa</td>\n",
              "      <td>7</td>\n",
              "      <td>Nao</td>\n",
              "      <td>Nao</td>\n",
              "      <td>Nao</td>\n",
              "    </tr>\n",
              "    <tr>\n",
              "      <th>2</th>\n",
              "      <td>2</td>\n",
              "      <td>Nao</td>\n",
              "      <td>26.58</td>\n",
              "      <td>Sim</td>\n",
              "      <td>Nao</td>\n",
              "      <td>Nao</td>\n",
              "      <td>20</td>\n",
              "      <td>30</td>\n",
              "      <td>Nao</td>\n",
              "      <td>Masculino</td>\n",
              "      <td>65-69</td>\n",
              "      <td>Branca</td>\n",
              "      <td>Sim</td>\n",
              "      <td>Sim</td>\n",
              "      <td>Razoavel</td>\n",
              "      <td>8</td>\n",
              "      <td>Sim</td>\n",
              "      <td>Nao</td>\n",
              "      <td>Nao</td>\n",
              "    </tr>\n",
              "    <tr>\n",
              "      <th>3</th>\n",
              "      <td>3</td>\n",
              "      <td>Nao</td>\n",
              "      <td>24.21</td>\n",
              "      <td>Nao</td>\n",
              "      <td>Nao</td>\n",
              "      <td>Nao</td>\n",
              "      <td>0</td>\n",
              "      <td>0</td>\n",
              "      <td>Nao</td>\n",
              "      <td>Feminino</td>\n",
              "      <td>75-79</td>\n",
              "      <td>Branca</td>\n",
              "      <td>Nao</td>\n",
              "      <td>No</td>\n",
              "      <td>Boa</td>\n",
              "      <td>6</td>\n",
              "      <td>Nao</td>\n",
              "      <td>Nao</td>\n",
              "      <td>Sim</td>\n",
              "    </tr>\n",
              "    <tr>\n",
              "      <th>4</th>\n",
              "      <td>4</td>\n",
              "      <td>Nao</td>\n",
              "      <td>23.71</td>\n",
              "      <td>Nao</td>\n",
              "      <td>Nao</td>\n",
              "      <td>Nao</td>\n",
              "      <td>28</td>\n",
              "      <td>0</td>\n",
              "      <td>Sim</td>\n",
              "      <td>Feminino</td>\n",
              "      <td>40-44</td>\n",
              "      <td>Branca</td>\n",
              "      <td>Nao</td>\n",
              "      <td>Sim</td>\n",
              "      <td>Muito boa</td>\n",
              "      <td>8</td>\n",
              "      <td>Nao</td>\n",
              "      <td>Nao</td>\n",
              "      <td>Nao</td>\n",
              "    </tr>\n",
              "    <tr>\n",
              "      <th>...</th>\n",
              "      <td>...</td>\n",
              "      <td>...</td>\n",
              "      <td>...</td>\n",
              "      <td>...</td>\n",
              "      <td>...</td>\n",
              "      <td>...</td>\n",
              "      <td>...</td>\n",
              "      <td>...</td>\n",
              "      <td>...</td>\n",
              "      <td>...</td>\n",
              "      <td>...</td>\n",
              "      <td>...</td>\n",
              "      <td>...</td>\n",
              "      <td>...</td>\n",
              "      <td>...</td>\n",
              "      <td>...</td>\n",
              "      <td>...</td>\n",
              "      <td>...</td>\n",
              "      <td>...</td>\n",
              "    </tr>\n",
              "    <tr>\n",
              "      <th>995</th>\n",
              "      <td>995</td>\n",
              "      <td>Nao</td>\n",
              "      <td>28.29</td>\n",
              "      <td>Sim</td>\n",
              "      <td>Nao</td>\n",
              "      <td>Nao</td>\n",
              "      <td>10</td>\n",
              "      <td>20</td>\n",
              "      <td>Nao</td>\n",
              "      <td>Feminino</td>\n",
              "      <td>65-69</td>\n",
              "      <td>Preta</td>\n",
              "      <td>Sim</td>\n",
              "      <td>Sim</td>\n",
              "      <td>Razoavel</td>\n",
              "      <td>8</td>\n",
              "      <td>Nao</td>\n",
              "      <td>Nao</td>\n",
              "      <td>Nao</td>\n",
              "    </tr>\n",
              "    <tr>\n",
              "      <th>996</th>\n",
              "      <td>996</td>\n",
              "      <td>Nao</td>\n",
              "      <td>25.69</td>\n",
              "      <td>Sim</td>\n",
              "      <td>Nao</td>\n",
              "      <td>Nao</td>\n",
              "      <td>0</td>\n",
              "      <td>0</td>\n",
              "      <td>Nao</td>\n",
              "      <td>Feminino</td>\n",
              "      <td>75-79</td>\n",
              "      <td>Branca</td>\n",
              "      <td>Nao</td>\n",
              "      <td>Sim</td>\n",
              "      <td>Excelente</td>\n",
              "      <td>8</td>\n",
              "      <td>Nao</td>\n",
              "      <td>Nao</td>\n",
              "      <td>Nao</td>\n",
              "    </tr>\n",
              "    <tr>\n",
              "      <th>997</th>\n",
              "      <td>997</td>\n",
              "      <td>Sim</td>\n",
              "      <td>26.99</td>\n",
              "      <td>Nao</td>\n",
              "      <td>Nao</td>\n",
              "      <td>Nao</td>\n",
              "      <td>1</td>\n",
              "      <td>0</td>\n",
              "      <td>Nao</td>\n",
              "      <td>Masculino</td>\n",
              "      <td>70-74</td>\n",
              "      <td>Branca</td>\n",
              "      <td>Nao</td>\n",
              "      <td>Sim</td>\n",
              "      <td>Muito boa</td>\n",
              "      <td>8</td>\n",
              "      <td>Nao</td>\n",
              "      <td>Nao</td>\n",
              "      <td>Nao</td>\n",
              "    </tr>\n",
              "    <tr>\n",
              "      <th>998</th>\n",
              "      <td>998</td>\n",
              "      <td>Nao</td>\n",
              "      <td>44.29</td>\n",
              "      <td>Nao</td>\n",
              "      <td>Nao</td>\n",
              "      <td>Nao</td>\n",
              "      <td>30</td>\n",
              "      <td>0</td>\n",
              "      <td>Sim</td>\n",
              "      <td>Feminino</td>\n",
              "      <td>70-74</td>\n",
              "      <td>Branca</td>\n",
              "      <td>Sim</td>\n",
              "      <td>No</td>\n",
              "      <td>Boa</td>\n",
              "      <td>6</td>\n",
              "      <td>Sim</td>\n",
              "      <td>Nao</td>\n",
              "      <td>Nao</td>\n",
              "    </tr>\n",
              "    <tr>\n",
              "      <th>999</th>\n",
              "      <td>999</td>\n",
              "      <td>Nao</td>\n",
              "      <td>25.83</td>\n",
              "      <td>Nao</td>\n",
              "      <td>Nao</td>\n",
              "      <td>Nao</td>\n",
              "      <td>0</td>\n",
              "      <td>0</td>\n",
              "      <td>Nao</td>\n",
              "      <td>Masculino</td>\n",
              "      <td>70-74</td>\n",
              "      <td>Preta</td>\n",
              "      <td>Sim</td>\n",
              "      <td>No</td>\n",
              "      <td>Excelente</td>\n",
              "      <td>7</td>\n",
              "      <td>Nao</td>\n",
              "      <td>Nao</td>\n",
              "      <td>Nao</td>\n",
              "    </tr>\n",
              "  </tbody>\n",
              "</table>\n",
              "<p>1000 rows × 19 columns</p>\n",
              "</div>"
            ],
            "text/plain": [
              "     ID_paciente Doenca_cardiaca    IMC Fumante Consumo_alcool  AVC  \\\n",
              "0              0             Nao  16.60     Sim            Nao  Nao   \n",
              "1              1             Nao  20.34     Nao            Nao  Sim   \n",
              "2              2             Nao  26.58     Sim            Nao  Nao   \n",
              "3              3             Nao  24.21     Nao            Nao  Nao   \n",
              "4              4             Nao  23.71     Nao            Nao  Nao   \n",
              "..           ...             ...    ...     ...            ...  ...   \n",
              "995          995             Nao  28.29     Sim            Nao  Nao   \n",
              "996          996             Nao  25.69     Sim            Nao  Nao   \n",
              "997          997             Sim  26.99     Nao            Nao  Nao   \n",
              "998          998             Nao  44.29     Nao            Nao  Nao   \n",
              "999          999             Nao  25.83     Nao            Nao  Nao   \n",
              "\n",
              "     Saude_fisica  Saude_mental Dificuldade_caminhar Sexo_biologico  \\\n",
              "0               3            30                  Nao       Feminino   \n",
              "1               0             0                  Nao       Feminino   \n",
              "2              20            30                  Nao      Masculino   \n",
              "3               0             0                  Nao       Feminino   \n",
              "4              28             0                  Sim       Feminino   \n",
              "..            ...           ...                  ...            ...   \n",
              "995            10            20                  Nao       Feminino   \n",
              "996             0             0                  Nao       Feminino   \n",
              "997             1             0                  Nao      Masculino   \n",
              "998            30             0                  Sim       Feminino   \n",
              "999             0             0                  Nao      Masculino   \n",
              "\n",
              "    Faixa_etaria    Raca Diabetes Atividade_fisica Saude_geral  Horas_sono  \\\n",
              "0          55-59  Branca      Sim              Sim   Muito boa           5   \n",
              "1        80 ou +  Branca      Nao              Sim   Muito boa           7   \n",
              "2          65-69  Branca      Sim              Sim    Razoavel           8   \n",
              "3          75-79  Branca      Nao               No         Boa           6   \n",
              "4          40-44  Branca      Nao              Sim   Muito boa           8   \n",
              "..           ...     ...      ...              ...         ...         ...   \n",
              "995        65-69   Preta      Sim              Sim    Razoavel           8   \n",
              "996        75-79  Branca      Nao              Sim   Excelente           8   \n",
              "997        70-74  Branca      Nao              Sim   Muito boa           8   \n",
              "998        70-74  Branca      Sim               No         Boa           6   \n",
              "999        70-74   Preta      Sim               No   Excelente           7   \n",
              "\n",
              "    Asma Doenca_renal Cancer_pele  \n",
              "0    Sim          Nao         Sim  \n",
              "1    Nao          Nao         Nao  \n",
              "2    Sim          Nao         Nao  \n",
              "3    Nao          Nao         Sim  \n",
              "4    Nao          Nao         Nao  \n",
              "..   ...          ...         ...  \n",
              "995  Nao          Nao         Nao  \n",
              "996  Nao          Nao         Nao  \n",
              "997  Nao          Nao         Nao  \n",
              "998  Sim          Nao         Nao  \n",
              "999  Nao          Nao         Nao  \n",
              "\n",
              "[1000 rows x 19 columns]"
            ]
          },
          "execution_count": 4,
          "metadata": {},
          "output_type": "execute_result"
        }
      ],
      "source": [
        "dados_pacientes"
      ]
    },
    {
      "cell_type": "code",
      "execution_count": 5,
      "metadata": {
        "id": "2tyD_sO9vVYL"
      },
      "outputs": [],
      "source": [
        "dados_pacientes_2 = pd.read_json('../data_raw/pacientes_2.json')"
      ]
    },
    {
      "cell_type": "code",
      "execution_count": 6,
      "metadata": {
        "colab": {
          "base_uri": "https://localhost:8080/",
          "height": 143
        },
        "id": "ZLkYZSggvzpG",
        "outputId": "55e5490a-47ce-4e42-9df0-88243b54b168"
      },
      "outputs": [
        {
          "data": {
            "text/html": [
              "<div>\n",
              "<style scoped>\n",
              "    .dataframe tbody tr th:only-of-type {\n",
              "        vertical-align: middle;\n",
              "    }\n",
              "\n",
              "    .dataframe tbody tr th {\n",
              "        vertical-align: top;\n",
              "    }\n",
              "\n",
              "    .dataframe thead th {\n",
              "        text-align: right;\n",
              "    }\n",
              "</style>\n",
              "<table border=\"1\" class=\"dataframe\">\n",
              "  <thead>\n",
              "    <tr style=\"text-align: right;\">\n",
              "      <th></th>\n",
              "      <th>Pesquisa</th>\n",
              "      <th>Ano</th>\n",
              "      <th>Pacientes</th>\n",
              "    </tr>\n",
              "  </thead>\n",
              "  <tbody>\n",
              "    <tr>\n",
              "      <th>0</th>\n",
              "      <td>Principais Indicadores de Doenca Cardiaca</td>\n",
              "      <td>2020</td>\n",
              "      <td>{'ID': '01', 'Faixa_etaria': '55-59', 'Sexo_bi...</td>\n",
              "    </tr>\n",
              "    <tr>\n",
              "      <th>1</th>\n",
              "      <td>Principais Indicadores de Doenca Cardiaca</td>\n",
              "      <td>2020</td>\n",
              "      <td>{'ID': '02', 'Faixa_etaria': '80 ou +', 'Sexo_...</td>\n",
              "    </tr>\n",
              "    <tr>\n",
              "      <th>2</th>\n",
              "      <td>Principais Indicadores de Doenca Cardiaca</td>\n",
              "      <td>2020</td>\n",
              "      <td>{'ID': '03', 'Faixa_etaria': '65-69', 'Sexo_bi...</td>\n",
              "    </tr>\n",
              "  </tbody>\n",
              "</table>\n",
              "</div>"
            ],
            "text/plain": [
              "                                    Pesquisa   Ano  \\\n",
              "0  Principais Indicadores de Doenca Cardiaca  2020   \n",
              "1  Principais Indicadores de Doenca Cardiaca  2020   \n",
              "2  Principais Indicadores de Doenca Cardiaca  2020   \n",
              "\n",
              "                                           Pacientes  \n",
              "0  {'ID': '01', 'Faixa_etaria': '55-59', 'Sexo_bi...  \n",
              "1  {'ID': '02', 'Faixa_etaria': '80 ou +', 'Sexo_...  \n",
              "2  {'ID': '03', 'Faixa_etaria': '65-69', 'Sexo_bi...  "
            ]
          },
          "execution_count": 6,
          "metadata": {},
          "output_type": "execute_result"
        }
      ],
      "source": [
        "dados_pacientes_2"
      ]
    },
    {
      "cell_type": "markdown",
      "metadata": {
        "id": "WjpaVghE-SDo"
      },
      "source": [
        "###**Normalizando arquivos JSON**"
      ]
    },
    {
      "cell_type": "code",
      "execution_count": 7,
      "metadata": {
        "id": "gPveOZ8LwGkc"
      },
      "outputs": [],
      "source": [
        "df_normalizado = pd.json_normalize(dados_pacientes_2['Pacientes'])"
      ]
    },
    {
      "cell_type": "code",
      "execution_count": 8,
      "metadata": {
        "colab": {
          "base_uri": "https://localhost:8080/",
          "height": 224
        },
        "id": "zeM0xFdQwR4t",
        "outputId": "0d1c454b-b438-475a-9b92-b30cf54dc3f6"
      },
      "outputs": [
        {
          "data": {
            "text/html": [
              "<div>\n",
              "<style scoped>\n",
              "    .dataframe tbody tr th:only-of-type {\n",
              "        vertical-align: middle;\n",
              "    }\n",
              "\n",
              "    .dataframe tbody tr th {\n",
              "        vertical-align: top;\n",
              "    }\n",
              "\n",
              "    .dataframe thead th {\n",
              "        text-align: right;\n",
              "    }\n",
              "</style>\n",
              "<table border=\"1\" class=\"dataframe\">\n",
              "  <thead>\n",
              "    <tr style=\"text-align: right;\">\n",
              "      <th></th>\n",
              "      <th>ID</th>\n",
              "      <th>Faixa_etaria</th>\n",
              "      <th>Sexo_biologico</th>\n",
              "      <th>Raça</th>\n",
              "      <th>IMC</th>\n",
              "      <th>Fumante</th>\n",
              "      <th>Consumo_alcool</th>\n",
              "      <th>Saude_fisica</th>\n",
              "      <th>Saude_mental</th>\n",
              "      <th>Dificuldade_caminhar</th>\n",
              "      <th>Atividade_fisica</th>\n",
              "      <th>Saude_geral</th>\n",
              "      <th>Horas_sono</th>\n",
              "      <th>Problemas_saude</th>\n",
              "    </tr>\n",
              "  </thead>\n",
              "  <tbody>\n",
              "    <tr>\n",
              "      <th>0</th>\n",
              "      <td>01</td>\n",
              "      <td>55-59</td>\n",
              "      <td>Feminino</td>\n",
              "      <td>Branca</td>\n",
              "      <td>16.60</td>\n",
              "      <td>Sim</td>\n",
              "      <td>Nao</td>\n",
              "      <td>3</td>\n",
              "      <td>30</td>\n",
              "      <td>Nao</td>\n",
              "      <td>Sim</td>\n",
              "      <td>Muito boa</td>\n",
              "      <td>5</td>\n",
              "      <td>[Diabetes, Asma, Cancer_pele]</td>\n",
              "    </tr>\n",
              "    <tr>\n",
              "      <th>1</th>\n",
              "      <td>02</td>\n",
              "      <td>80 ou +</td>\n",
              "      <td>Feminino</td>\n",
              "      <td>Branca</td>\n",
              "      <td>20.34</td>\n",
              "      <td>Nao</td>\n",
              "      <td>Nao</td>\n",
              "      <td>0</td>\n",
              "      <td>0</td>\n",
              "      <td>Nao</td>\n",
              "      <td>Sim</td>\n",
              "      <td>Muito boa</td>\n",
              "      <td>7</td>\n",
              "      <td>[AVC]</td>\n",
              "    </tr>\n",
              "    <tr>\n",
              "      <th>2</th>\n",
              "      <td>03</td>\n",
              "      <td>65-69</td>\n",
              "      <td>Masculino</td>\n",
              "      <td>Branca</td>\n",
              "      <td>26.58</td>\n",
              "      <td>Sim</td>\n",
              "      <td>Nao</td>\n",
              "      <td>20</td>\n",
              "      <td>30</td>\n",
              "      <td>Nao</td>\n",
              "      <td>Sim</td>\n",
              "      <td>Muito boa</td>\n",
              "      <td>8</td>\n",
              "      <td>[diabetes, Asma]</td>\n",
              "    </tr>\n",
              "  </tbody>\n",
              "</table>\n",
              "</div>"
            ],
            "text/plain": [
              "   ID Faixa_etaria Sexo_biologico    Raça    IMC Fumante Consumo_alcool  \\\n",
              "0  01        55-59       Feminino  Branca  16.60     Sim            Nao   \n",
              "1  02      80 ou +       Feminino  Branca  20.34     Nao            Nao   \n",
              "2  03        65-69      Masculino  Branca  26.58     Sim            Nao   \n",
              "\n",
              "   Saude_fisica  Saude_mental Dificuldade_caminhar Atividade_fisica  \\\n",
              "0             3            30                  Nao              Sim   \n",
              "1             0             0                  Nao              Sim   \n",
              "2            20            30                  Nao              Sim   \n",
              "\n",
              "  Saude_geral  Horas_sono                Problemas_saude  \n",
              "0   Muito boa           5  [Diabetes, Asma, Cancer_pele]  \n",
              "1   Muito boa           7                          [AVC]  \n",
              "2   Muito boa           8               [diabetes, Asma]  "
            ]
          },
          "execution_count": 8,
          "metadata": {},
          "output_type": "execute_result"
        }
      ],
      "source": [
        "df_normalizado"
      ]
    },
    {
      "cell_type": "markdown",
      "metadata": {
        "id": "tBXifwRqAvpO"
      },
      "source": [
        "###**Escrevendo arquivos JSON**"
      ]
    },
    {
      "cell_type": "code",
      "execution_count": 9,
      "metadata": {
        "id": "GntGW36LuspV"
      },
      "outputs": [],
      "source": [
        "df_normalizado.to_json('../data_raw/historico_pacientes_norm.json')"
      ]
    },
    {
      "cell_type": "code",
      "execution_count": 11,
      "metadata": {
        "colab": {
          "base_uri": "https://localhost:8080/",
          "height": 224
        },
        "id": "Mfix79PRusr5",
        "outputId": "9716a91c-5ecc-4eea-999e-1a97c764c31c"
      },
      "outputs": [
        {
          "data": {
            "text/html": [
              "<div>\n",
              "<style scoped>\n",
              "    .dataframe tbody tr th:only-of-type {\n",
              "        vertical-align: middle;\n",
              "    }\n",
              "\n",
              "    .dataframe tbody tr th {\n",
              "        vertical-align: top;\n",
              "    }\n",
              "\n",
              "    .dataframe thead th {\n",
              "        text-align: right;\n",
              "    }\n",
              "</style>\n",
              "<table border=\"1\" class=\"dataframe\">\n",
              "  <thead>\n",
              "    <tr style=\"text-align: right;\">\n",
              "      <th></th>\n",
              "      <th>ID</th>\n",
              "      <th>Faixa_etaria</th>\n",
              "      <th>Sexo_biologico</th>\n",
              "      <th>Raça</th>\n",
              "      <th>IMC</th>\n",
              "      <th>Fumante</th>\n",
              "      <th>Consumo_alcool</th>\n",
              "      <th>Saude_fisica</th>\n",
              "      <th>Saude_mental</th>\n",
              "      <th>Dificuldade_caminhar</th>\n",
              "      <th>Atividade_fisica</th>\n",
              "      <th>Saude_geral</th>\n",
              "      <th>Horas_sono</th>\n",
              "      <th>Problemas_saude</th>\n",
              "    </tr>\n",
              "  </thead>\n",
              "  <tbody>\n",
              "    <tr>\n",
              "      <th>0</th>\n",
              "      <td>1</td>\n",
              "      <td>55-59</td>\n",
              "      <td>Feminino</td>\n",
              "      <td>Branca</td>\n",
              "      <td>16.60</td>\n",
              "      <td>Sim</td>\n",
              "      <td>Nao</td>\n",
              "      <td>3</td>\n",
              "      <td>30</td>\n",
              "      <td>Nao</td>\n",
              "      <td>Sim</td>\n",
              "      <td>Muito boa</td>\n",
              "      <td>5</td>\n",
              "      <td>[Diabetes, Asma, Cancer_pele]</td>\n",
              "    </tr>\n",
              "    <tr>\n",
              "      <th>1</th>\n",
              "      <td>2</td>\n",
              "      <td>80 ou +</td>\n",
              "      <td>Feminino</td>\n",
              "      <td>Branca</td>\n",
              "      <td>20.34</td>\n",
              "      <td>Nao</td>\n",
              "      <td>Nao</td>\n",
              "      <td>0</td>\n",
              "      <td>0</td>\n",
              "      <td>Nao</td>\n",
              "      <td>Sim</td>\n",
              "      <td>Muito boa</td>\n",
              "      <td>7</td>\n",
              "      <td>[AVC]</td>\n",
              "    </tr>\n",
              "    <tr>\n",
              "      <th>2</th>\n",
              "      <td>3</td>\n",
              "      <td>65-69</td>\n",
              "      <td>Masculino</td>\n",
              "      <td>Branca</td>\n",
              "      <td>26.58</td>\n",
              "      <td>Sim</td>\n",
              "      <td>Nao</td>\n",
              "      <td>20</td>\n",
              "      <td>30</td>\n",
              "      <td>Nao</td>\n",
              "      <td>Sim</td>\n",
              "      <td>Muito boa</td>\n",
              "      <td>8</td>\n",
              "      <td>[diabetes, Asma]</td>\n",
              "    </tr>\n",
              "  </tbody>\n",
              "</table>\n",
              "</div>"
            ],
            "text/plain": [
              "   ID Faixa_etaria Sexo_biologico    Raça    IMC Fumante Consumo_alcool  \\\n",
              "0   1        55-59       Feminino  Branca  16.60     Sim            Nao   \n",
              "1   2      80 ou +       Feminino  Branca  20.34     Nao            Nao   \n",
              "2   3        65-69      Masculino  Branca  26.58     Sim            Nao   \n",
              "\n",
              "   Saude_fisica  Saude_mental Dificuldade_caminhar Atividade_fisica  \\\n",
              "0             3            30                  Nao              Sim   \n",
              "1             0             0                  Nao              Sim   \n",
              "2            20            30                  Nao              Sim   \n",
              "\n",
              "  Saude_geral  Horas_sono                Problemas_saude  \n",
              "0   Muito boa           5  [Diabetes, Asma, Cancer_pele]  \n",
              "1   Muito boa           7                          [AVC]  \n",
              "2   Muito boa           8               [diabetes, Asma]  "
            ]
          },
          "execution_count": 11,
          "metadata": {},
          "output_type": "execute_result"
        }
      ],
      "source": [
        "pd.read_json('../data_raw/historico_pacientes_norm.json')"
      ]
    }
  ],
  "metadata": {
    "colab": {
      "provenance": [],
      "toc_visible": true
    },
    "kernelspec": {
      "display_name": "Python 3",
      "name": "python3"
    },
    "language_info": {
      "codemirror_mode": {
        "name": "ipython",
        "version": 3
      },
      "file_extension": ".py",
      "mimetype": "text/x-python",
      "name": "python",
      "nbconvert_exporter": "python",
      "pygments_lexer": "ipython3",
      "version": "3.12.0"
    }
  },
  "nbformat": 4,
  "nbformat_minor": 0
}
